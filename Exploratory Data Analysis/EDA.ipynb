{
 "cells": [
  {
   "cell_type": "markdown",
   "metadata": {},
   "source": [
    "## Importing Libraries"
   ]
  },
  {
   "cell_type": "code",
   "execution_count": 4,
   "metadata": {},
   "outputs": [],
   "source": [
    "import pandas as pd\n",
    "import numpy as np\n",
    "import seaborn as sns\n",
    "import matplotlib.pyplot as plt\n",
    "%matplotlib inline\n",
    "import gc\n",
    "import warnings\n",
    "warnings.filterwarnings('ignore')"
   ]
  },
  {
   "cell_type": "markdown",
   "metadata": {},
   "source": [
    "### Memory optimization to load the dataframe "
   ]
  },
  {
   "cell_type": "code",
   "execution_count": 5,
   "metadata": {},
   "outputs": [],
   "source": [
    "#https://www.kaggle.com/fabiendaniel/elo-world\n",
    "#Function to load data into pandas and reduce memory usage\n",
    "\n",
    "def reduce_mem_usage(df, verbose=True):\n",
    "    numerics = ['int16', 'int32', 'int64', 'float16', 'float32', 'float64']\n",
    "    start_mem = df.memory_usage().sum() / 1024**2    \n",
    "    #loop for alll the columns in the dataframe \n",
    "    for col in df.columns:\n",
    "        #get the datatype of the column\n",
    "        col_type = df[col].dtypes\n",
    "        #if the data type is numeric then only start changing the datatype\n",
    "        #as it isnt much helpful for other data types \n",
    "        if col_type in numerics:\n",
    "            #stores the min value of the column \n",
    "            c_min = df[col].min()\n",
    "            #stores the maximum value of the column\n",
    "            c_max = df[col].max()\n",
    "            #for int type numerics\n",
    "            if str(col_type)[:3] == 'int':\n",
    "                if c_min > np.iinfo(np.int8).min and c_max < np.iinfo(np.int8).max:\n",
    "                    df[col] = df[col].astype(np.int8)\n",
    "                elif c_min > np.iinfo(np.int16).min and c_max < np.iinfo(np.int16).max:\n",
    "                    df[col] = df[col].astype(np.int16)\n",
    "                elif c_min > np.iinfo(np.int32).min and c_max < np.iinfo(np.int32).max:\n",
    "                    df[col] = df[col].astype(np.int32)\n",
    "                elif c_min > np.iinfo(np.int64).min and c_max < np.iinfo(np.int64).max:\n",
    "                    df[col] = df[col].astype(np.int64)  \n",
    "            #for float type numerics \n",
    "            else:\n",
    "                if c_min > np.finfo(np.float16).min and c_max < np.finfo(np.float16).max:\n",
    "                    df[col] = df[col].astype(np.float16)\n",
    "                elif c_min > np.finfo(np.float32).min and c_max < np.finfo(np.float32).max:\n",
    "                    df[col] = df[col].astype(np.float32)\n",
    "                else:\n",
    "                    df[col] = df[col].astype(np.float64)    \n",
    "    end_mem = df.memory_usage().sum() / 1024**2\n",
    "    if verbose: print('Mem. usage decreased to {:5.2f} Mb ({:.1f}% reduction)'.format(end_mem, 100 * (start_mem - end_mem) / start_mem))\n",
    "    return df"
   ]
  },
  {
   "cell_type": "markdown",
   "metadata": {},
   "source": [
    "### Set the current working directory"
   ]
  },
  {
   "cell_type": "code",
   "execution_count": 6,
   "metadata": {},
   "outputs": [
    {
     "name": "stdout",
     "output_type": "stream",
     "text": [
      "D:\\Machine Learning Projects\\Elo Merchant Recommendation\\data\n"
     ]
    }
   ],
   "source": [
    "cd \"D:\\Machine Learning Projects\\Elo Merchant Recommendation\\data\""
   ]
  },
  {
   "cell_type": "markdown",
   "metadata": {},
   "source": [
    "Loading Train and Test Files"
   ]
  },
  {
   "cell_type": "code",
   "execution_count": 7,
   "metadata": {},
   "outputs": [
    {
     "name": "stdout",
     "output_type": "stream",
     "text": [
      "Mem. usage decreased to  4.04 Mb (56.2% reduction)\n",
      "Mem. usage decreased to  2.24 Mb (52.5% reduction)\n"
     ]
    }
   ],
   "source": [
    "train = reduce_mem_usage(pd.read_csv('train.csv'))\n",
    "test =  reduce_mem_usage(pd.read_csv('test.csv'))"
   ]
  },
  {
   "cell_type": "markdown",
   "metadata": {},
   "source": [
    "### Lets look at the train and test files "
   ]
  },
  {
   "cell_type": "code",
   "execution_count": 8,
   "metadata": {},
   "outputs": [
    {
     "data": {
      "text/html": [
       "<div>\n",
       "<style scoped>\n",
       "    .dataframe tbody tr th:only-of-type {\n",
       "        vertical-align: middle;\n",
       "    }\n",
       "\n",
       "    .dataframe tbody tr th {\n",
       "        vertical-align: top;\n",
       "    }\n",
       "\n",
       "    .dataframe thead th {\n",
       "        text-align: right;\n",
       "    }\n",
       "</style>\n",
       "<table border=\"1\" class=\"dataframe\">\n",
       "  <thead>\n",
       "    <tr style=\"text-align: right;\">\n",
       "      <th></th>\n",
       "      <th>first_active_month</th>\n",
       "      <th>card_id</th>\n",
       "      <th>feature_1</th>\n",
       "      <th>feature_2</th>\n",
       "      <th>feature_3</th>\n",
       "      <th>target</th>\n",
       "    </tr>\n",
       "  </thead>\n",
       "  <tbody>\n",
       "    <tr>\n",
       "      <th>135467</th>\n",
       "      <td>2017-11</td>\n",
       "      <td>C_ID_ca520fa8e4</td>\n",
       "      <td>3</td>\n",
       "      <td>2</td>\n",
       "      <td>1</td>\n",
       "      <td>-2.167969</td>\n",
       "    </tr>\n",
       "    <tr>\n",
       "      <th>156130</th>\n",
       "      <td>2016-01</td>\n",
       "      <td>C_ID_d0e0ba5012</td>\n",
       "      <td>2</td>\n",
       "      <td>2</td>\n",
       "      <td>0</td>\n",
       "      <td>-2.341797</td>\n",
       "    </tr>\n",
       "    <tr>\n",
       "      <th>80717</th>\n",
       "      <td>2016-09</td>\n",
       "      <td>C_ID_f0eca97c9b</td>\n",
       "      <td>3</td>\n",
       "      <td>1</td>\n",
       "      <td>1</td>\n",
       "      <td>0.050415</td>\n",
       "    </tr>\n",
       "    <tr>\n",
       "      <th>125636</th>\n",
       "      <td>2017-01</td>\n",
       "      <td>C_ID_5c707620da</td>\n",
       "      <td>4</td>\n",
       "      <td>1</td>\n",
       "      <td>0</td>\n",
       "      <td>1.981445</td>\n",
       "    </tr>\n",
       "    <tr>\n",
       "      <th>154215</th>\n",
       "      <td>2017-06</td>\n",
       "      <td>C_ID_9181de2e39</td>\n",
       "      <td>5</td>\n",
       "      <td>1</td>\n",
       "      <td>1</td>\n",
       "      <td>2.072266</td>\n",
       "    </tr>\n",
       "    <tr>\n",
       "      <th>84394</th>\n",
       "      <td>2017-08</td>\n",
       "      <td>C_ID_33878b971c</td>\n",
       "      <td>2</td>\n",
       "      <td>2</td>\n",
       "      <td>0</td>\n",
       "      <td>-1.681641</td>\n",
       "    </tr>\n",
       "    <tr>\n",
       "      <th>87608</th>\n",
       "      <td>2017-08</td>\n",
       "      <td>C_ID_ba120cc914</td>\n",
       "      <td>3</td>\n",
       "      <td>1</td>\n",
       "      <td>1</td>\n",
       "      <td>-0.628906</td>\n",
       "    </tr>\n",
       "    <tr>\n",
       "      <th>153978</th>\n",
       "      <td>2017-12</td>\n",
       "      <td>C_ID_1e33e8fb93</td>\n",
       "      <td>5</td>\n",
       "      <td>1</td>\n",
       "      <td>1</td>\n",
       "      <td>0.485840</td>\n",
       "    </tr>\n",
       "    <tr>\n",
       "      <th>77746</th>\n",
       "      <td>2017-08</td>\n",
       "      <td>C_ID_96dd3965e3</td>\n",
       "      <td>3</td>\n",
       "      <td>3</td>\n",
       "      <td>1</td>\n",
       "      <td>0.648438</td>\n",
       "    </tr>\n",
       "    <tr>\n",
       "      <th>87930</th>\n",
       "      <td>2016-11</td>\n",
       "      <td>C_ID_ee1a5865b5</td>\n",
       "      <td>3</td>\n",
       "      <td>2</td>\n",
       "      <td>1</td>\n",
       "      <td>0.078247</td>\n",
       "    </tr>\n",
       "  </tbody>\n",
       "</table>\n",
       "</div>"
      ],
      "text/plain": [
       "       first_active_month          card_id  feature_1  feature_2  feature_3  \\\n",
       "135467            2017-11  C_ID_ca520fa8e4          3          2          1   \n",
       "156130            2016-01  C_ID_d0e0ba5012          2          2          0   \n",
       "80717             2016-09  C_ID_f0eca97c9b          3          1          1   \n",
       "125636            2017-01  C_ID_5c707620da          4          1          0   \n",
       "154215            2017-06  C_ID_9181de2e39          5          1          1   \n",
       "84394             2017-08  C_ID_33878b971c          2          2          0   \n",
       "87608             2017-08  C_ID_ba120cc914          3          1          1   \n",
       "153978            2017-12  C_ID_1e33e8fb93          5          1          1   \n",
       "77746             2017-08  C_ID_96dd3965e3          3          3          1   \n",
       "87930             2016-11  C_ID_ee1a5865b5          3          2          1   \n",
       "\n",
       "          target  \n",
       "135467 -2.167969  \n",
       "156130 -2.341797  \n",
       "80717   0.050415  \n",
       "125636  1.981445  \n",
       "154215  2.072266  \n",
       "84394  -1.681641  \n",
       "87608  -0.628906  \n",
       "153978  0.485840  \n",
       "77746   0.648438  \n",
       "87930   0.078247  "
      ]
     },
     "execution_count": 8,
     "metadata": {},
     "output_type": "execute_result"
    }
   ],
   "source": [
    "train.sample(10)"
   ]
  },
  {
   "cell_type": "code",
   "execution_count": 9,
   "metadata": {},
   "outputs": [
    {
     "data": {
      "text/html": [
       "<div>\n",
       "<style scoped>\n",
       "    .dataframe tbody tr th:only-of-type {\n",
       "        vertical-align: middle;\n",
       "    }\n",
       "\n",
       "    .dataframe tbody tr th {\n",
       "        vertical-align: top;\n",
       "    }\n",
       "\n",
       "    .dataframe thead th {\n",
       "        text-align: right;\n",
       "    }\n",
       "</style>\n",
       "<table border=\"1\" class=\"dataframe\">\n",
       "  <thead>\n",
       "    <tr style=\"text-align: right;\">\n",
       "      <th></th>\n",
       "      <th>first_active_month</th>\n",
       "      <th>card_id</th>\n",
       "      <th>feature_1</th>\n",
       "      <th>feature_2</th>\n",
       "      <th>feature_3</th>\n",
       "    </tr>\n",
       "  </thead>\n",
       "  <tbody>\n",
       "    <tr>\n",
       "      <th>72189</th>\n",
       "      <td>2017-03</td>\n",
       "      <td>C_ID_0858124905</td>\n",
       "      <td>3</td>\n",
       "      <td>2</td>\n",
       "      <td>1</td>\n",
       "    </tr>\n",
       "    <tr>\n",
       "      <th>61542</th>\n",
       "      <td>2016-01</td>\n",
       "      <td>C_ID_55a0de2f92</td>\n",
       "      <td>3</td>\n",
       "      <td>3</td>\n",
       "      <td>1</td>\n",
       "    </tr>\n",
       "    <tr>\n",
       "      <th>43714</th>\n",
       "      <td>2016-08</td>\n",
       "      <td>C_ID_d57da463a7</td>\n",
       "      <td>2</td>\n",
       "      <td>2</td>\n",
       "      <td>0</td>\n",
       "    </tr>\n",
       "    <tr>\n",
       "      <th>55666</th>\n",
       "      <td>2016-03</td>\n",
       "      <td>C_ID_1453689c01</td>\n",
       "      <td>3</td>\n",
       "      <td>2</td>\n",
       "      <td>1</td>\n",
       "    </tr>\n",
       "    <tr>\n",
       "      <th>84456</th>\n",
       "      <td>2016-04</td>\n",
       "      <td>C_ID_fdd938e106</td>\n",
       "      <td>4</td>\n",
       "      <td>2</td>\n",
       "      <td>0</td>\n",
       "    </tr>\n",
       "    <tr>\n",
       "      <th>24091</th>\n",
       "      <td>2015-12</td>\n",
       "      <td>C_ID_7e8f6ae108</td>\n",
       "      <td>4</td>\n",
       "      <td>2</td>\n",
       "      <td>0</td>\n",
       "    </tr>\n",
       "    <tr>\n",
       "      <th>119196</th>\n",
       "      <td>2016-03</td>\n",
       "      <td>C_ID_cdc0011da2</td>\n",
       "      <td>5</td>\n",
       "      <td>1</td>\n",
       "      <td>1</td>\n",
       "    </tr>\n",
       "    <tr>\n",
       "      <th>92084</th>\n",
       "      <td>2017-09</td>\n",
       "      <td>C_ID_6945753ed0</td>\n",
       "      <td>3</td>\n",
       "      <td>1</td>\n",
       "      <td>1</td>\n",
       "    </tr>\n",
       "    <tr>\n",
       "      <th>120984</th>\n",
       "      <td>2016-10</td>\n",
       "      <td>C_ID_f6e3b058e3</td>\n",
       "      <td>2</td>\n",
       "      <td>2</td>\n",
       "      <td>0</td>\n",
       "    </tr>\n",
       "    <tr>\n",
       "      <th>62609</th>\n",
       "      <td>2017-04</td>\n",
       "      <td>C_ID_33ce893488</td>\n",
       "      <td>2</td>\n",
       "      <td>1</td>\n",
       "      <td>0</td>\n",
       "    </tr>\n",
       "  </tbody>\n",
       "</table>\n",
       "</div>"
      ],
      "text/plain": [
       "       first_active_month          card_id  feature_1  feature_2  feature_3\n",
       "72189             2017-03  C_ID_0858124905          3          2          1\n",
       "61542             2016-01  C_ID_55a0de2f92          3          3          1\n",
       "43714             2016-08  C_ID_d57da463a7          2          2          0\n",
       "55666             2016-03  C_ID_1453689c01          3          2          1\n",
       "84456             2016-04  C_ID_fdd938e106          4          2          0\n",
       "24091             2015-12  C_ID_7e8f6ae108          4          2          0\n",
       "119196            2016-03  C_ID_cdc0011da2          5          1          1\n",
       "92084             2017-09  C_ID_6945753ed0          3          1          1\n",
       "120984            2016-10  C_ID_f6e3b058e3          2          2          0\n",
       "62609             2017-04  C_ID_33ce893488          2          1          0"
      ]
     },
     "execution_count": 9,
     "metadata": {},
     "output_type": "execute_result"
    }
   ],
   "source": [
    "test.sample(10)"
   ]
  },
  {
   "cell_type": "code",
   "execution_count": 10,
   "metadata": {},
   "outputs": [
    {
     "name": "stdout",
     "output_type": "stream",
     "text": [
      "(201917, 6)\n",
      "(123623, 5)\n"
     ]
    }
   ],
   "source": [
    "print(train.shape)\n",
    "print(test.shape)"
   ]
  },
  {
   "cell_type": "code",
   "execution_count": 11,
   "metadata": {},
   "outputs": [
    {
     "name": "stdout",
     "output_type": "stream",
     "text": [
      "<class 'pandas.core.frame.DataFrame'>\n",
      "RangeIndex: 201917 entries, 0 to 201916\n",
      "Data columns (total 6 columns):\n",
      " #   Column              Non-Null Count   Dtype  \n",
      "---  ------              --------------   -----  \n",
      " 0   first_active_month  201917 non-null  object \n",
      " 1   card_id             201917 non-null  object \n",
      " 2   feature_1           201917 non-null  int8   \n",
      " 3   feature_2           201917 non-null  int8   \n",
      " 4   feature_3           201917 non-null  int8   \n",
      " 5   target              201917 non-null  float16\n",
      "dtypes: float16(1), int8(3), object(2)\n",
      "memory usage: 4.0+ MB\n"
     ]
    }
   ],
   "source": [
    "train.info()"
   ]
  },
  {
   "cell_type": "code",
   "execution_count": 12,
   "metadata": {},
   "outputs": [
    {
     "data": {
      "text/plain": [
       "201917"
      ]
     },
     "execution_count": 12,
     "metadata": {},
     "output_type": "execute_result"
    }
   ],
   "source": [
    "len(train.card_id.unique()) #just for peace of mind that we got all the unique values of card Id"
   ]
  },
  {
   "cell_type": "code",
   "execution_count": 13,
   "metadata": {},
   "outputs": [
    {
     "data": {
      "text/html": [
       "<div>\n",
       "<style scoped>\n",
       "    .dataframe tbody tr th:only-of-type {\n",
       "        vertical-align: middle;\n",
       "    }\n",
       "\n",
       "    .dataframe tbody tr th {\n",
       "        vertical-align: top;\n",
       "    }\n",
       "\n",
       "    .dataframe thead th {\n",
       "        text-align: right;\n",
       "    }\n",
       "</style>\n",
       "<table border=\"1\" class=\"dataframe\">\n",
       "  <thead>\n",
       "    <tr style=\"text-align: right;\">\n",
       "      <th></th>\n",
       "      <th>feature_1</th>\n",
       "      <th>feature_2</th>\n",
       "      <th>feature_3</th>\n",
       "      <th>target</th>\n",
       "    </tr>\n",
       "  </thead>\n",
       "  <tbody>\n",
       "    <tr>\n",
       "      <th>count</th>\n",
       "      <td>201917.000000</td>\n",
       "      <td>201917.000000</td>\n",
       "      <td>201917.000000</td>\n",
       "      <td>201917.000000</td>\n",
       "    </tr>\n",
       "    <tr>\n",
       "      <th>mean</th>\n",
       "      <td>3.105311</td>\n",
       "      <td>1.745410</td>\n",
       "      <td>0.565569</td>\n",
       "      <td>NaN</td>\n",
       "    </tr>\n",
       "    <tr>\n",
       "      <th>std</th>\n",
       "      <td>1.186160</td>\n",
       "      <td>0.751362</td>\n",
       "      <td>0.495683</td>\n",
       "      <td>0.000000</td>\n",
       "    </tr>\n",
       "    <tr>\n",
       "      <th>min</th>\n",
       "      <td>1.000000</td>\n",
       "      <td>1.000000</td>\n",
       "      <td>0.000000</td>\n",
       "      <td>-33.218750</td>\n",
       "    </tr>\n",
       "    <tr>\n",
       "      <th>25%</th>\n",
       "      <td>2.000000</td>\n",
       "      <td>1.000000</td>\n",
       "      <td>0.000000</td>\n",
       "      <td>-0.883301</td>\n",
       "    </tr>\n",
       "    <tr>\n",
       "      <th>50%</th>\n",
       "      <td>3.000000</td>\n",
       "      <td>2.000000</td>\n",
       "      <td>1.000000</td>\n",
       "      <td>-0.023438</td>\n",
       "    </tr>\n",
       "    <tr>\n",
       "      <th>75%</th>\n",
       "      <td>4.000000</td>\n",
       "      <td>2.000000</td>\n",
       "      <td>1.000000</td>\n",
       "      <td>0.765625</td>\n",
       "    </tr>\n",
       "    <tr>\n",
       "      <th>max</th>\n",
       "      <td>5.000000</td>\n",
       "      <td>3.000000</td>\n",
       "      <td>1.000000</td>\n",
       "      <td>17.968750</td>\n",
       "    </tr>\n",
       "  </tbody>\n",
       "</table>\n",
       "</div>"
      ],
      "text/plain": [
       "           feature_1      feature_2      feature_3         target\n",
       "count  201917.000000  201917.000000  201917.000000  201917.000000\n",
       "mean        3.105311       1.745410       0.565569            NaN\n",
       "std         1.186160       0.751362       0.495683       0.000000\n",
       "min         1.000000       1.000000       0.000000     -33.218750\n",
       "25%         2.000000       1.000000       0.000000      -0.883301\n",
       "50%         3.000000       2.000000       1.000000      -0.023438\n",
       "75%         4.000000       2.000000       1.000000       0.765625\n",
       "max         5.000000       3.000000       1.000000      17.968750"
      ]
     },
     "execution_count": 13,
     "metadata": {},
     "output_type": "execute_result"
    }
   ],
   "source": [
    "train.describe()"
   ]
  },
  {
   "cell_type": "markdown",
   "metadata": {},
   "source": [
    "#### Load up the data dictonary "
   ]
  },
  {
   "cell_type": "code",
   "execution_count": 14,
   "metadata": {},
   "outputs": [],
   "source": [
    "train_dict = pd.read_excel('Data_Dictionary.xlsx', sheet_name='train')"
   ]
  },
  {
   "cell_type": "code",
   "execution_count": 15,
   "metadata": {},
   "outputs": [
    {
     "data": {
      "text/html": [
       "<div>\n",
       "<style scoped>\n",
       "    .dataframe tbody tr th:only-of-type {\n",
       "        vertical-align: middle;\n",
       "    }\n",
       "\n",
       "    .dataframe tbody tr th {\n",
       "        vertical-align: top;\n",
       "    }\n",
       "\n",
       "    .dataframe thead th {\n",
       "        text-align: right;\n",
       "    }\n",
       "</style>\n",
       "<table border=\"1\" class=\"dataframe\">\n",
       "  <thead>\n",
       "    <tr style=\"text-align: right;\">\n",
       "      <th></th>\n",
       "      <th>train.csv</th>\n",
       "      <th>Unnamed: 1</th>\n",
       "    </tr>\n",
       "  </thead>\n",
       "  <tbody>\n",
       "    <tr>\n",
       "      <th>1</th>\n",
       "      <td>Columns</td>\n",
       "      <td>Description</td>\n",
       "    </tr>\n",
       "    <tr>\n",
       "      <th>2</th>\n",
       "      <td>card_id</td>\n",
       "      <td>Unique card identifier</td>\n",
       "    </tr>\n",
       "    <tr>\n",
       "      <th>3</th>\n",
       "      <td>first_active_month</td>\n",
       "      <td>'YYYY-MM', month of first purchase</td>\n",
       "    </tr>\n",
       "    <tr>\n",
       "      <th>4</th>\n",
       "      <td>feature_1</td>\n",
       "      <td>Anonymized card categorical feature</td>\n",
       "    </tr>\n",
       "    <tr>\n",
       "      <th>5</th>\n",
       "      <td>feature_2</td>\n",
       "      <td>Anonymized card categorical feature</td>\n",
       "    </tr>\n",
       "    <tr>\n",
       "      <th>6</th>\n",
       "      <td>feature_3</td>\n",
       "      <td>Anonymized card categorical feature</td>\n",
       "    </tr>\n",
       "    <tr>\n",
       "      <th>7</th>\n",
       "      <td>target</td>\n",
       "      <td>Loyalty numerical score calculated 2 months af...</td>\n",
       "    </tr>\n",
       "  </tbody>\n",
       "</table>\n",
       "</div>"
      ],
      "text/plain": [
       "            train.csv                                         Unnamed: 1\n",
       "1             Columns                                        Description\n",
       "2             card_id                             Unique card identifier\n",
       "3  first_active_month                 'YYYY-MM', month of first purchase\n",
       "4           feature_1                Anonymized card categorical feature\n",
       "5           feature_2                Anonymized card categorical feature\n",
       "6           feature_3                Anonymized card categorical feature\n",
       "7              target  Loyalty numerical score calculated 2 months af..."
      ]
     },
     "execution_count": 15,
     "metadata": {},
     "output_type": "execute_result"
    }
   ],
   "source": [
    "train_dict[1:]"
   ]
  },
  {
   "cell_type": "markdown",
   "metadata": {},
   "source": [
    "Data Dict Contains the definations of each of the columns "
   ]
  },
  {
   "cell_type": "code",
   "execution_count": 16,
   "metadata": {},
   "outputs": [
    {
     "name": "stdout",
     "output_type": "stream",
     "text": [
      "Missing values by features:\n"
     ]
    },
    {
     "data": {
      "text/plain": [
       "first_active_month    0\n",
       "card_id               0\n",
       "feature_1             0\n",
       "feature_2             0\n",
       "feature_3             0\n",
       "target                0\n",
       "dtype: int64"
      ]
     },
     "execution_count": 16,
     "metadata": {},
     "output_type": "execute_result"
    }
   ],
   "source": [
    "print(\"Missing values by features:\")\n",
    "train.isnull().sum(axis=0)"
   ]
  },
  {
   "cell_type": "markdown",
   "metadata": {},
   "source": [
    "#### Lets see the distribution of target variable in Train dataframe "
   ]
  },
  {
   "cell_type": "code",
   "execution_count": 17,
   "metadata": {},
   "outputs": [],
   "source": [
    "tc = \"target\""
   ]
  },
  {
   "cell_type": "code",
   "execution_count": 18,
   "metadata": {},
   "outputs": [
    {
     "data": {
      "text/plain": [
       "<matplotlib.figure.Figure at 0x17f2e77d6a0>"
      ]
     },
     "metadata": {},
     "output_type": "display_data"
    },
    {
     "data": {
      "image/png": "[encoded data removed]",
      "text/plain": [
       "<matplotlib.figure.Figure at 0x17f2e77dfd0>"
      ]
     },
     "metadata": {
      "needs_background": "light"
     },
     "output_type": "display_data"
    }
   ],
   "source": [
    "#lets we te distribution of our target columns \n",
    "#histogram of the loyality score \n",
    "#univariate distribution of numerical data \n",
    "plt.figure(figsize=(15,10))\n",
    "sns.displot(train[tc].values, color=\"red\")\n",
    "plt.xlabel('Loyalty score', fontsize=12)\n",
    "plt.show()"
   ]
  },
  {
   "cell_type": "markdown",
   "metadata": {},
   "source": [
    "When we plot histogram plot of the target variable(loyality score) then we find that some of the points are far apart (less than -30) and when we find the percentage of points which are less than -30 it comes out to be 1.093% "
   ]
  },
  {
   "cell_type": "code",
   "execution_count": 19,
   "metadata": {},
   "outputs": [
    {
     "data": {
      "text/html": [
       "<div>\n",
       "<style scoped>\n",
       "    .dataframe tbody tr th:only-of-type {\n",
       "        vertical-align: middle;\n",
       "    }\n",
       "\n",
       "    .dataframe tbody tr th {\n",
       "        vertical-align: top;\n",
       "    }\n",
       "\n",
       "    .dataframe thead th {\n",
       "        text-align: right;\n",
       "    }\n",
       "</style>\n",
       "<table border=\"1\" class=\"dataframe\">\n",
       "  <thead>\n",
       "    <tr style=\"text-align: right;\">\n",
       "      <th></th>\n",
       "      <th>first_active_month</th>\n",
       "      <th>card_id</th>\n",
       "      <th>feature_1</th>\n",
       "      <th>feature_2</th>\n",
       "      <th>feature_3</th>\n",
       "      <th>target</th>\n",
       "    </tr>\n",
       "  </thead>\n",
       "  <tbody>\n",
       "    <tr>\n",
       "      <th>64</th>\n",
       "      <td>2017-09</td>\n",
       "      <td>C_ID_8186f3fcc1</td>\n",
       "      <td>3</td>\n",
       "      <td>1</td>\n",
       "      <td>1</td>\n",
       "      <td>-33.21875</td>\n",
       "    </tr>\n",
       "    <tr>\n",
       "      <th>92</th>\n",
       "      <td>2015-05</td>\n",
       "      <td>C_ID_b9379a30ea</td>\n",
       "      <td>3</td>\n",
       "      <td>3</td>\n",
       "      <td>1</td>\n",
       "      <td>-33.21875</td>\n",
       "    </tr>\n",
       "    <tr>\n",
       "      <th>125</th>\n",
       "      <td>2015-10</td>\n",
       "      <td>C_ID_e9120f535c</td>\n",
       "      <td>3</td>\n",
       "      <td>3</td>\n",
       "      <td>1</td>\n",
       "      <td>-33.21875</td>\n",
       "    </tr>\n",
       "    <tr>\n",
       "      <th>151</th>\n",
       "      <td>2017-03</td>\n",
       "      <td>C_ID_65715cb80d</td>\n",
       "      <td>4</td>\n",
       "      <td>2</td>\n",
       "      <td>0</td>\n",
       "      <td>-33.21875</td>\n",
       "    </tr>\n",
       "    <tr>\n",
       "      <th>225</th>\n",
       "      <td>2017-01</td>\n",
       "      <td>C_ID_ae77d244b6</td>\n",
       "      <td>2</td>\n",
       "      <td>1</td>\n",
       "      <td>0</td>\n",
       "      <td>-33.21875</td>\n",
       "    </tr>\n",
       "    <tr>\n",
       "      <th>...</th>\n",
       "      <td>...</td>\n",
       "      <td>...</td>\n",
       "      <td>...</td>\n",
       "      <td>...</td>\n",
       "      <td>...</td>\n",
       "      <td>...</td>\n",
       "    </tr>\n",
       "    <tr>\n",
       "      <th>201169</th>\n",
       "      <td>2016-07</td>\n",
       "      <td>C_ID_e34ea29439</td>\n",
       "      <td>2</td>\n",
       "      <td>2</td>\n",
       "      <td>0</td>\n",
       "      <td>-33.21875</td>\n",
       "    </tr>\n",
       "    <tr>\n",
       "      <th>201262</th>\n",
       "      <td>2017-10</td>\n",
       "      <td>C_ID_081082a629</td>\n",
       "      <td>5</td>\n",
       "      <td>2</td>\n",
       "      <td>1</td>\n",
       "      <td>-33.21875</td>\n",
       "    </tr>\n",
       "    <tr>\n",
       "      <th>201368</th>\n",
       "      <td>2016-08</td>\n",
       "      <td>C_ID_6f61bed11c</td>\n",
       "      <td>3</td>\n",
       "      <td>3</td>\n",
       "      <td>1</td>\n",
       "      <td>-33.21875</td>\n",
       "    </tr>\n",
       "    <tr>\n",
       "      <th>201519</th>\n",
       "      <td>2017-05</td>\n",
       "      <td>C_ID_d6c86b18cd</td>\n",
       "      <td>2</td>\n",
       "      <td>1</td>\n",
       "      <td>0</td>\n",
       "      <td>-33.21875</td>\n",
       "    </tr>\n",
       "    <tr>\n",
       "      <th>201521</th>\n",
       "      <td>2016-06</td>\n",
       "      <td>C_ID_09250aa6bf</td>\n",
       "      <td>2</td>\n",
       "      <td>2</td>\n",
       "      <td>0</td>\n",
       "      <td>-33.21875</td>\n",
       "    </tr>\n",
       "  </tbody>\n",
       "</table>\n",
       "<p>2207 rows × 6 columns</p>\n",
       "</div>"
      ],
      "text/plain": [
       "       first_active_month          card_id  feature_1  feature_2  feature_3  \\\n",
       "64                2017-09  C_ID_8186f3fcc1          3          1          1   \n",
       "92                2015-05  C_ID_b9379a30ea          3          3          1   \n",
       "125               2015-10  C_ID_e9120f535c          3          3          1   \n",
       "151               2017-03  C_ID_65715cb80d          4          2          0   \n",
       "225               2017-01  C_ID_ae77d244b6          2          1          0   \n",
       "...                   ...              ...        ...        ...        ...   \n",
       "201169            2016-07  C_ID_e34ea29439          2          2          0   \n",
       "201262            2017-10  C_ID_081082a629          5          2          1   \n",
       "201368            2016-08  C_ID_6f61bed11c          3          3          1   \n",
       "201519            2017-05  C_ID_d6c86b18cd          2          1          0   \n",
       "201521            2016-06  C_ID_09250aa6bf          2          2          0   \n",
       "\n",
       "          target  \n",
       "64     -33.21875  \n",
       "92     -33.21875  \n",
       "125    -33.21875  \n",
       "151    -33.21875  \n",
       "225    -33.21875  \n",
       "...          ...  \n",
       "201169 -33.21875  \n",
       "201262 -33.21875  \n",
       "201368 -33.21875  \n",
       "201519 -33.21875  \n",
       "201521 -33.21875  \n",
       "\n",
       "[2207 rows x 6 columns]"
      ]
     },
     "execution_count": 19,
     "metadata": {},
     "output_type": "execute_result"
    }
   ],
   "source": [
    "#Lets see the outliners to find out what is the total percentage of the anomility \n",
    "# So as to really consider it as outlinear or not\n",
    "outliners = train[train[tc] < -30]\n",
    "outliners"
   ]
  },
  {
   "cell_type": "code",
   "execution_count": 20,
   "metadata": {},
   "outputs": [
    {
     "name": "stdout",
     "output_type": "stream",
     "text": [
      "1.09302337% of data points of train are less than -30\n"
     ]
    }
   ],
   "source": [
    "per = outliners.shape[0]/train.shape[0]\n",
    "print(\"{:4.8f}% of data points of train are less than -30\".format(per*100))"
   ]
  },
  {
   "cell_type": "markdown",
   "metadata": {},
   "source": [
    "We can see that the distribution of target variable is like a normal distribution so any point beyond (3 X std) of mean i.e any point out of 99.73 percent of the distribution so 0.3 percent of data could be said as outliners but as it is 1 percent so it might be some kind of rare data. As there is no description given of the feature 1,2,3 so there cannot be any concreat reasoning that why it may be that but one of the hypotheses is that those card holders didnt buy any stuff so their loyality score is very low"
   ]
  },
  {
   "cell_type": "markdown",
   "metadata": {},
   "source": [
    "#### Lets see the distribution of First month active and see if there is any difference in the distributon by plotting bar plot"
   ]
  },
  {
   "cell_type": "code",
   "execution_count": 21,
   "metadata": {},
   "outputs": [],
   "source": [
    "#for train csv\n",
    "#to see the barplot we need the vect rep of data or we can also pass the pandas series\n",
    "fma = train['first_active_month'].value_counts()\n",
    "#sort the values according to the dates \n",
    "fma = fma.sort_index()"
   ]
  },
  {
   "cell_type": "code",
   "execution_count": 22,
   "metadata": {},
   "outputs": [
    {
     "data": {
      "text/plain": [
       "2011-11        8\n",
       "2011-12        2\n",
       "2012-02        7\n",
       "2012-03       10\n",
       "2012-04       18\n",
       "           ...  \n",
       "2017-10    13695\n",
       "2017-11    12930\n",
       "2017-12    10170\n",
       "2018-01       34\n",
       "2018-02        1\n",
       "Name: first_active_month, Length: 75, dtype: int64"
      ]
     },
     "execution_count": 22,
     "metadata": {},
     "output_type": "execute_result"
    }
   ],
   "source": [
    "fma"
   ]
  },
  {
   "cell_type": "code",
   "execution_count": 23,
   "metadata": {},
   "outputs": [
    {
     "data": {
      "image/png": "[encoded data removed]",
      "text/plain": [
       "<matplotlib.figure.Figure at 0x17f2edb6940>"
      ]
     },
     "metadata": {
      "needs_background": "light"
     },
     "output_type": "display_data"
    }
   ],
   "source": [
    "plt.figure(figsize=(15,10))\n",
    "#the x axis should be the dates and the y axis should show how many card were activated in that time so we pass index and values respectively\n",
    "sns.barplot(x = fma.index, y = fma.values, color='green')\n",
    "plt.xticks(rotation='vertical') #it will be difficult to see horizontally\n",
    "plt.xlabel('First active month', fontsize=12)\n",
    "plt.ylabel('Number of cards', fontsize=12)\n",
    "plt.title(\"First active month count in train set\")\n",
    "plt.show()"
   ]
  },
  {
   "cell_type": "markdown",
   "metadata": {},
   "source": [
    "Doing the same thing for test csv "
   ]
  },
  {
   "cell_type": "code",
   "execution_count": 24,
   "metadata": {},
   "outputs": [
    {
     "data": {
      "image/png": "[encoded data removed]",
      "text/plain": [
       "<matplotlib.figure.Figure at 0x17f2ff25a90>"
      ]
     },
     "metadata": {
      "needs_background": "light"
     },
     "output_type": "display_data"
    }
   ],
   "source": [
    "#For test csv file \n",
    "fmat = test['first_active_month'].value_counts()\n",
    "fmat = fmat.sort_index()\n",
    "plt.figure(figsize=(15,10))\n",
    "sns.barplot(x = fmat.index, y = fmat.values, color='black')\n",
    "plt.xticks(rotation='vertical')\n",
    "plt.xlabel('First active month', fontsize=12)\n",
    "plt.ylabel('Number of cards', fontsize=12)\n",
    "plt.title(\"First active month count in test set\")\n",
    "plt.show()"
   ]
  },
  {
   "cell_type": "markdown",
   "metadata": {},
   "source": [
    "There isnt any difference between the train and test first month active so splitting of data need not be spatio-temporal(time based splitting)"
   ]
  },
  {
   "cell_type": "code",
   "execution_count": 25,
   "metadata": {},
   "outputs": [
    {
     "data": {
      "text/plain": [
       "2017-09    13878\n",
       "2017-10    13695\n",
       "2017-08    13638\n",
       "2017-11    12930\n",
       "2017-07    12363\n",
       "           ...  \n",
       "2012-03       10\n",
       "2011-11        8\n",
       "2012-02        7\n",
       "2011-12        2\n",
       "2018-02        1\n",
       "Name: first_active_month, Length: 75, dtype: int64"
      ]
     },
     "execution_count": 25,
     "metadata": {},
     "output_type": "execute_result"
    }
   ],
   "source": [
    "train['first_active_month'].value_counts()"
   ]
  },
  {
   "cell_type": "code",
   "execution_count": 26,
   "metadata": {},
   "outputs": [
    {
     "data": {
      "text/plain": [
       "2017-09    8805\n",
       "2017-10    8451\n",
       "2017-08    8299\n",
       "2017-11    7807\n",
       "2017-07    7344\n",
       "           ... \n",
       "2012-03      10\n",
       "2012-02       4\n",
       "2011-11       3\n",
       "2011-12       2\n",
       "2012-01       1\n",
       "Name: first_active_month, Length: 75, dtype: int64"
      ]
     },
     "execution_count": 26,
     "metadata": {},
     "output_type": "execute_result"
    }
   ],
   "source": [
    "test['first_active_month'].value_counts()"
   ]
  },
  {
   "cell_type": "markdown",
   "metadata": {},
   "source": [
    "2017-09 is the most for both the train and test set but why? maybe they got famous that time peroid around, maybe to now that I need to know how business work in a bit more detail"
   ]
  },
  {
   "cell_type": "code",
   "execution_count": 27,
   "metadata": {},
   "outputs": [
    {
     "data": {
      "image/png": "[encoded data removed]",
      "text/plain": [
       "<matplotlib.figure.Figure at 0x17f2e767470>"
      ]
     },
     "metadata": {
      "needs_background": "light"
     },
     "output_type": "display_data"
    }
   ],
   "source": [
    "plt.figure(figsize=(15,10))\n",
    "plt.xticks(rotation='vertical')\n",
    "sns.scatterplot(x=train['first_active_month'], y=train[tc], color='blue')\n",
    "plt.title('Scatterplot of account activation date  against the target variable(Loaylty score)')\n",
    "plt.show()"
   ]
  },
  {
   "cell_type": "markdown",
   "metadata": {},
   "source": [
    "The more recent the purchase, the more the loyality  score, thi might be a good feature for predicting the loyality score but not seperating the outliner points as er can see it exist in mostly every time frame. Feature enginering with day, moth, hoilday will be benificial for the algorithm "
   ]
  },
  {
   "cell_type": "markdown",
   "metadata": {},
   "source": [
    "#### Box plot of feature 1,2,3"
   ]
  },
  {
   "cell_type": "markdown",
   "metadata": {},
   "source": [
    "Lets see if features 1,2,3 looks good in terms of determining the loyality score, as those features are numeric data, so lets see the box plot distribution based on feature 1,2,3 given the loyality score "
   ]
  },
  {
   "cell_type": "markdown",
   "metadata": {},
   "source": [
    "We donot know what exactly is the feature 1,2 and 3 "
   ]
  },
  {
   "cell_type": "code",
   "execution_count": 28,
   "metadata": {},
   "outputs": [
    {
     "data": {
      "image/png": "[encoded data removed]",
      "text/plain": [
       "<matplotlib.figure.Figure at 0x17f3021bba8>"
      ]
     },
     "metadata": {
      "needs_background": "light"
     },
     "output_type": "display_data"
    }
   ],
   "source": [
    "# feature 1\n",
    "plt.figure(figsize=(10,8))\n",
    "sns.boxplot(x=\"feature_1\", y=tc, data=train)\n",
    "plt.xticks(rotation='vertical')\n",
    "plt.xlabel('Feature 1', fontsize=12)\n",
    "plt.ylabel('Loyalty score', fontsize=12)\n",
    "plt.title(\"Feature 1 Box plot distribution\")\n",
    "plt.show()"
   ]
  },
  {
   "cell_type": "code",
   "execution_count": 29,
   "metadata": {},
   "outputs": [
    {
     "data": {
      "image/png": "[encoded data removed]",
      "text/plain": [
       "<matplotlib.figure.Figure at 0x17f3021bf98>"
      ]
     },
     "metadata": {
      "needs_background": "light"
     },
     "output_type": "display_data"
    }
   ],
   "source": [
    "# feature 2\n",
    "plt.figure(figsize=(15,10))\n",
    "sns.boxplot(x=\"feature_2\", y=tc, data=train)\n",
    "plt.xticks(rotation='vertical')\n",
    "plt.xlabel('Feature 2', fontsize=12)\n",
    "plt.ylabel('Loyalty score', fontsize=12)\n",
    "plt.title(\"Feature 2 Box plot distribution\")\n",
    "plt.show()"
   ]
  },
  {
   "cell_type": "code",
   "execution_count": 30,
   "metadata": {},
   "outputs": [
    {
     "data": {
      "image/png": "[encoded data removed]",
      "text/plain": [
       "<matplotlib.figure.Figure at 0x17f301b1208>"
      ]
     },
     "metadata": {
      "needs_background": "light"
     },
     "output_type": "display_data"
    }
   ],
   "source": [
    "# feature 3\n",
    "plt.figure(figsize=(15,10))\n",
    "sns.boxplot(x=\"feature_3\", y=tc, data=train)\n",
    "plt.xticks(rotation='vertical')\n",
    "plt.xlabel('Feature 3', fontsize=12)\n",
    "plt.ylabel('Loyalty score', fontsize=12)\n",
    "plt.title(\"Feature 3 Box plot distribution\")\n",
    "plt.show()"
   ]
  },
  {
   "cell_type": "markdown",
   "metadata": {},
   "source": [
    "The IQR looks the same to me and this isnt much difference between the features for the loyality score as the distribution for the target variable is the same .The distribution looks the same to me,I have no idea how will these features be useful in for the prediction of consumer loyality score but lets see if our linear and non linear based models figure something out. Some feature engineering based on the feature 1,2,3 might help but we will look more into it in the feature engineering part. "
   ]
  },
  {
   "cell_type": "markdown",
   "metadata": {},
   "source": [
    "### Historical Transactions "
   ]
  },
  {
   "cell_type": "code",
   "execution_count": 31,
   "metadata": {},
   "outputs": [],
   "source": [
    "hist_trans = pd.read_excel('Data_Dictionary.xlsx', sheet_name='history')"
   ]
  },
  {
   "cell_type": "code",
   "execution_count": 32,
   "metadata": {},
   "outputs": [
    {
     "name": "stdout",
     "output_type": "stream",
     "text": [
      "Mem. usage decreased to 1749.11 Mb (43.7% reduction)\n"
     ]
    }
   ],
   "source": [
    "hist_df = reduce_mem_usage(pd.read_csv('historical_transactions.csv'))"
   ]
  },
  {
   "cell_type": "code",
   "execution_count": 33,
   "metadata": {},
   "outputs": [
    {
     "data": {
      "text/html": [
       "<div>\n",
       "<style scoped>\n",
       "    .dataframe tbody tr th:only-of-type {\n",
       "        vertical-align: middle;\n",
       "    }\n",
       "\n",
       "    .dataframe tbody tr th {\n",
       "        vertical-align: top;\n",
       "    }\n",
       "\n",
       "    .dataframe thead th {\n",
       "        text-align: right;\n",
       "    }\n",
       "</style>\n",
       "<table border=\"1\" class=\"dataframe\">\n",
       "  <thead>\n",
       "    <tr style=\"text-align: right;\">\n",
       "      <th></th>\n",
       "      <th>authorized_flag</th>\n",
       "      <th>card_id</th>\n",
       "      <th>city_id</th>\n",
       "      <th>category_1</th>\n",
       "      <th>installments</th>\n",
       "      <th>category_3</th>\n",
       "      <th>merchant_category_id</th>\n",
       "      <th>merchant_id</th>\n",
       "      <th>month_lag</th>\n",
       "      <th>purchase_amount</th>\n",
       "      <th>purchase_date</th>\n",
       "      <th>category_2</th>\n",
       "      <th>state_id</th>\n",
       "      <th>subsector_id</th>\n",
       "    </tr>\n",
       "  </thead>\n",
       "  <tbody>\n",
       "    <tr>\n",
       "      <th>2035140</th>\n",
       "      <td>Y</td>\n",
       "      <td>C_ID_efd523d1c5</td>\n",
       "      <td>69</td>\n",
       "      <td>N</td>\n",
       "      <td>0</td>\n",
       "      <td>A</td>\n",
       "      <td>560</td>\n",
       "      <td>M_ID_7e7bfb5a4c</td>\n",
       "      <td>-1</td>\n",
       "      <td>-0.731881</td>\n",
       "      <td>2018-01-08 21:43:59</td>\n",
       "      <td>1.0</td>\n",
       "      <td>9</td>\n",
       "      <td>34</td>\n",
       "    </tr>\n",
       "    <tr>\n",
       "      <th>22956021</th>\n",
       "      <td>Y</td>\n",
       "      <td>C_ID_645dc1a422</td>\n",
       "      <td>-1</td>\n",
       "      <td>Y</td>\n",
       "      <td>1</td>\n",
       "      <td>B</td>\n",
       "      <td>839</td>\n",
       "      <td>M_ID_e5374dabc0</td>\n",
       "      <td>-6</td>\n",
       "      <td>-0.596643</td>\n",
       "      <td>2017-08-02 22:54:43</td>\n",
       "      <td>NaN</td>\n",
       "      <td>-1</td>\n",
       "      <td>29</td>\n",
       "    </tr>\n",
       "    <tr>\n",
       "      <th>9382258</th>\n",
       "      <td>Y</td>\n",
       "      <td>C_ID_0f5635e2c2</td>\n",
       "      <td>124</td>\n",
       "      <td>N</td>\n",
       "      <td>0</td>\n",
       "      <td>A</td>\n",
       "      <td>307</td>\n",
       "      <td>M_ID_10d181a34d</td>\n",
       "      <td>-3</td>\n",
       "      <td>-0.581616</td>\n",
       "      <td>2017-11-12 14:15:40</td>\n",
       "      <td>2.0</td>\n",
       "      <td>24</td>\n",
       "      <td>19</td>\n",
       "    </tr>\n",
       "    <tr>\n",
       "      <th>17713027</th>\n",
       "      <td>Y</td>\n",
       "      <td>C_ID_4a1cda4ab0</td>\n",
       "      <td>158</td>\n",
       "      <td>N</td>\n",
       "      <td>1</td>\n",
       "      <td>B</td>\n",
       "      <td>367</td>\n",
       "      <td>M_ID_fb6254dc78</td>\n",
       "      <td>0</td>\n",
       "      <td>-0.661557</td>\n",
       "      <td>2018-02-11 19:08:49</td>\n",
       "      <td>1.0</td>\n",
       "      <td>15</td>\n",
       "      <td>16</td>\n",
       "    </tr>\n",
       "    <tr>\n",
       "      <th>14177797</th>\n",
       "      <td>Y</td>\n",
       "      <td>C_ID_4f244a3a95</td>\n",
       "      <td>-1</td>\n",
       "      <td>Y</td>\n",
       "      <td>1</td>\n",
       "      <td>B</td>\n",
       "      <td>879</td>\n",
       "      <td>M_ID_9139332ccc</td>\n",
       "      <td>-1</td>\n",
       "      <td>-0.341192</td>\n",
       "      <td>2018-01-18 00:14:50</td>\n",
       "      <td>NaN</td>\n",
       "      <td>-1</td>\n",
       "      <td>29</td>\n",
       "    </tr>\n",
       "    <tr>\n",
       "      <th>...</th>\n",
       "      <td>...</td>\n",
       "      <td>...</td>\n",
       "      <td>...</td>\n",
       "      <td>...</td>\n",
       "      <td>...</td>\n",
       "      <td>...</td>\n",
       "      <td>...</td>\n",
       "      <td>...</td>\n",
       "      <td>...</td>\n",
       "      <td>...</td>\n",
       "      <td>...</td>\n",
       "      <td>...</td>\n",
       "      <td>...</td>\n",
       "      <td>...</td>\n",
       "    </tr>\n",
       "    <tr>\n",
       "      <th>16787871</th>\n",
       "      <td>Y</td>\n",
       "      <td>C_ID_905481e178</td>\n",
       "      <td>212</td>\n",
       "      <td>N</td>\n",
       "      <td>1</td>\n",
       "      <td>B</td>\n",
       "      <td>367</td>\n",
       "      <td>M_ID_40989eb678</td>\n",
       "      <td>-6</td>\n",
       "      <td>-0.726712</td>\n",
       "      <td>2017-05-29 13:22:41</td>\n",
       "      <td>4.0</td>\n",
       "      <td>4</td>\n",
       "      <td>16</td>\n",
       "    </tr>\n",
       "    <tr>\n",
       "      <th>2643615</th>\n",
       "      <td>Y</td>\n",
       "      <td>C_ID_e56c9aa695</td>\n",
       "      <td>69</td>\n",
       "      <td>N</td>\n",
       "      <td>1</td>\n",
       "      <td>B</td>\n",
       "      <td>560</td>\n",
       "      <td>M_ID_1ce88c0877</td>\n",
       "      <td>-4</td>\n",
       "      <td>-0.705660</td>\n",
       "      <td>2017-10-04 10:54:25</td>\n",
       "      <td>1.0</td>\n",
       "      <td>9</td>\n",
       "      <td>34</td>\n",
       "    </tr>\n",
       "    <tr>\n",
       "      <th>2577394</th>\n",
       "      <td>Y</td>\n",
       "      <td>C_ID_5734cf215f</td>\n",
       "      <td>110</td>\n",
       "      <td>N</td>\n",
       "      <td>0</td>\n",
       "      <td>A</td>\n",
       "      <td>307</td>\n",
       "      <td>M_ID_fb0018bc5f</td>\n",
       "      <td>-1</td>\n",
       "      <td>-0.596643</td>\n",
       "      <td>2018-01-27 18:39:03</td>\n",
       "      <td>1.0</td>\n",
       "      <td>16</td>\n",
       "      <td>19</td>\n",
       "    </tr>\n",
       "    <tr>\n",
       "      <th>19381341</th>\n",
       "      <td>Y</td>\n",
       "      <td>C_ID_7a830cae3c</td>\n",
       "      <td>69</td>\n",
       "      <td>N</td>\n",
       "      <td>1</td>\n",
       "      <td>B</td>\n",
       "      <td>367</td>\n",
       "      <td>M_ID_8f7b4791e1</td>\n",
       "      <td>-6</td>\n",
       "      <td>-0.703045</td>\n",
       "      <td>2017-08-18 17:42:04</td>\n",
       "      <td>1.0</td>\n",
       "      <td>9</td>\n",
       "      <td>16</td>\n",
       "    </tr>\n",
       "    <tr>\n",
       "      <th>25142690</th>\n",
       "      <td>Y</td>\n",
       "      <td>C_ID_6784b5ec46</td>\n",
       "      <td>69</td>\n",
       "      <td>N</td>\n",
       "      <td>1</td>\n",
       "      <td>B</td>\n",
       "      <td>879</td>\n",
       "      <td>M_ID_00a6ca8a8a</td>\n",
       "      <td>-2</td>\n",
       "      <td>-0.726622</td>\n",
       "      <td>2017-12-20 13:03:05</td>\n",
       "      <td>1.0</td>\n",
       "      <td>9</td>\n",
       "      <td>29</td>\n",
       "    </tr>\n",
       "  </tbody>\n",
       "</table>\n",
       "<p>100 rows × 14 columns</p>\n",
       "</div>"
      ],
      "text/plain": [
       "         authorized_flag          card_id  city_id category_1  installments  \\\n",
       "2035140                Y  C_ID_efd523d1c5       69          N             0   \n",
       "22956021               Y  C_ID_645dc1a422       -1          Y             1   \n",
       "9382258                Y  C_ID_0f5635e2c2      124          N             0   \n",
       "17713027               Y  C_ID_4a1cda4ab0      158          N             1   \n",
       "14177797               Y  C_ID_4f244a3a95       -1          Y             1   \n",
       "...                  ...              ...      ...        ...           ...   \n",
       "16787871               Y  C_ID_905481e178      212          N             1   \n",
       "2643615                Y  C_ID_e56c9aa695       69          N             1   \n",
       "2577394                Y  C_ID_5734cf215f      110          N             0   \n",
       "19381341               Y  C_ID_7a830cae3c       69          N             1   \n",
       "25142690               Y  C_ID_6784b5ec46       69          N             1   \n",
       "\n",
       "         category_3  merchant_category_id      merchant_id  month_lag  \\\n",
       "2035140           A                   560  M_ID_7e7bfb5a4c         -1   \n",
       "22956021          B                   839  M_ID_e5374dabc0         -6   \n",
       "9382258           A                   307  M_ID_10d181a34d         -3   \n",
       "17713027          B                   367  M_ID_fb6254dc78          0   \n",
       "14177797          B                   879  M_ID_9139332ccc         -1   \n",
       "...             ...                   ...              ...        ...   \n",
       "16787871          B                   367  M_ID_40989eb678         -6   \n",
       "2643615           B                   560  M_ID_1ce88c0877         -4   \n",
       "2577394           A                   307  M_ID_fb0018bc5f         -1   \n",
       "19381341          B                   367  M_ID_8f7b4791e1         -6   \n",
       "25142690          B                   879  M_ID_00a6ca8a8a         -2   \n",
       "\n",
       "          purchase_amount        purchase_date  category_2  state_id  \\\n",
       "2035140         -0.731881  2018-01-08 21:43:59         1.0         9   \n",
       "22956021        -0.596643  2017-08-02 22:54:43         NaN        -1   \n",
       "9382258         -0.581616  2017-11-12 14:15:40         2.0        24   \n",
       "17713027        -0.661557  2018-02-11 19:08:49         1.0        15   \n",
       "14177797        -0.341192  2018-01-18 00:14:50         NaN        -1   \n",
       "...                   ...                  ...         ...       ...   \n",
       "16787871        -0.726712  2017-05-29 13:22:41         4.0         4   \n",
       "2643615         -0.705660  2017-10-04 10:54:25         1.0         9   \n",
       "2577394         -0.596643  2018-01-27 18:39:03         1.0        16   \n",
       "19381341        -0.703045  2017-08-18 17:42:04         1.0         9   \n",
       "25142690        -0.726622  2017-12-20 13:03:05         1.0         9   \n",
       "\n",
       "          subsector_id  \n",
       "2035140             34  \n",
       "22956021            29  \n",
       "9382258             19  \n",
       "17713027            16  \n",
       "14177797            29  \n",
       "...                ...  \n",
       "16787871            16  \n",
       "2643615             34  \n",
       "2577394             19  \n",
       "19381341            16  \n",
       "25142690            29  \n",
       "\n",
       "[100 rows x 14 columns]"
      ]
     },
     "execution_count": 33,
     "metadata": {},
     "output_type": "execute_result"
    }
   ],
   "source": [
    "hist_df.sample(100)"
   ]
  },
  {
   "cell_type": "code",
   "execution_count": 34,
   "metadata": {},
   "outputs": [
    {
     "data": {
      "text/html": [
       "<div>\n",
       "<style scoped>\n",
       "    .dataframe tbody tr th:only-of-type {\n",
       "        vertical-align: middle;\n",
       "    }\n",
       "\n",
       "    .dataframe tbody tr th {\n",
       "        vertical-align: top;\n",
       "    }\n",
       "\n",
       "    .dataframe thead th {\n",
       "        text-align: right;\n",
       "    }\n",
       "</style>\n",
       "<table border=\"1\" class=\"dataframe\">\n",
       "  <thead>\n",
       "    <tr style=\"text-align: right;\">\n",
       "      <th></th>\n",
       "      <th>historical_transactions.csv</th>\n",
       "      <th>Unnamed: 1</th>\n",
       "    </tr>\n",
       "  </thead>\n",
       "  <tbody>\n",
       "    <tr>\n",
       "      <th>1</th>\n",
       "      <td>Columns</td>\n",
       "      <td>Description</td>\n",
       "    </tr>\n",
       "    <tr>\n",
       "      <th>2</th>\n",
       "      <td>card_id</td>\n",
       "      <td>Card identifier</td>\n",
       "    </tr>\n",
       "    <tr>\n",
       "      <th>3</th>\n",
       "      <td>month_lag</td>\n",
       "      <td>month lag to reference date</td>\n",
       "    </tr>\n",
       "    <tr>\n",
       "      <th>4</th>\n",
       "      <td>purchase_date</td>\n",
       "      <td>Purchase date</td>\n",
       "    </tr>\n",
       "    <tr>\n",
       "      <th>5</th>\n",
       "      <td>authorized_flag</td>\n",
       "      <td>Y' if approved, 'N' if denied</td>\n",
       "    </tr>\n",
       "    <tr>\n",
       "      <th>6</th>\n",
       "      <td>category_3</td>\n",
       "      <td>anonymized category</td>\n",
       "    </tr>\n",
       "    <tr>\n",
       "      <th>7</th>\n",
       "      <td>installments</td>\n",
       "      <td>number of installments of purchase</td>\n",
       "    </tr>\n",
       "    <tr>\n",
       "      <th>8</th>\n",
       "      <td>category_1</td>\n",
       "      <td>anonymized category</td>\n",
       "    </tr>\n",
       "    <tr>\n",
       "      <th>9</th>\n",
       "      <td>merchant_category_id</td>\n",
       "      <td>Merchant category identifier (anonymized )</td>\n",
       "    </tr>\n",
       "    <tr>\n",
       "      <th>10</th>\n",
       "      <td>subsector_id</td>\n",
       "      <td>Merchant category group identifier (anonymized )</td>\n",
       "    </tr>\n",
       "    <tr>\n",
       "      <th>11</th>\n",
       "      <td>merchant_id</td>\n",
       "      <td>Merchant identifier (anonymized)</td>\n",
       "    </tr>\n",
       "    <tr>\n",
       "      <th>12</th>\n",
       "      <td>purchase_amount</td>\n",
       "      <td>Normalized purchase amount</td>\n",
       "    </tr>\n",
       "    <tr>\n",
       "      <th>13</th>\n",
       "      <td>city_id</td>\n",
       "      <td>City identifier (anonymized )</td>\n",
       "    </tr>\n",
       "    <tr>\n",
       "      <th>14</th>\n",
       "      <td>state_id</td>\n",
       "      <td>State identifier (anonymized )</td>\n",
       "    </tr>\n",
       "    <tr>\n",
       "      <th>15</th>\n",
       "      <td>category_2</td>\n",
       "      <td>anonymized category</td>\n",
       "    </tr>\n",
       "  </tbody>\n",
       "</table>\n",
       "</div>"
      ],
      "text/plain": [
       "   historical_transactions.csv  \\\n",
       "1                      Columns   \n",
       "2                      card_id   \n",
       "3                    month_lag   \n",
       "4                purchase_date   \n",
       "5              authorized_flag   \n",
       "6                   category_3   \n",
       "7                 installments   \n",
       "8                   category_1   \n",
       "9         merchant_category_id   \n",
       "10                subsector_id   \n",
       "11                 merchant_id   \n",
       "12             purchase_amount   \n",
       "13                     city_id   \n",
       "14                    state_id   \n",
       "15                  category_2   \n",
       "\n",
       "                                          Unnamed: 1  \n",
       "1                                        Description  \n",
       "2                                    Card identifier  \n",
       "3                        month lag to reference date  \n",
       "4                                      Purchase date  \n",
       "5                      Y' if approved, 'N' if denied  \n",
       "6                                anonymized category  \n",
       "7                 number of installments of purchase  \n",
       "8                                anonymized category  \n",
       "9         Merchant category identifier (anonymized )  \n",
       "10  Merchant category group identifier (anonymized )  \n",
       "11                  Merchant identifier (anonymized)  \n",
       "12                        Normalized purchase amount  \n",
       "13                     City identifier (anonymized )  \n",
       "14                    State identifier (anonymized )  \n",
       "15                               anonymized category  "
      ]
     },
     "execution_count": 34,
     "metadata": {},
     "output_type": "execute_result"
    }
   ],
   "source": [
    "hist_trans[1:]"
   ]
  },
  {
   "cell_type": "code",
   "execution_count": 35,
   "metadata": {},
   "outputs": [
    {
     "data": {
      "text/plain": [
       "Index(['authorized_flag', 'card_id', 'city_id', 'category_1', 'installments',\n",
       "       'category_3', 'merchant_category_id', 'merchant_id', 'month_lag',\n",
       "       'purchase_amount', 'purchase_date', 'category_2', 'state_id',\n",
       "       'subsector_id'],\n",
       "      dtype='object')"
      ]
     },
     "execution_count": 35,
     "metadata": {},
     "output_type": "execute_result"
    }
   ],
   "source": [
    "hist_df.columns"
   ]
  },
  {
   "cell_type": "code",
   "execution_count": 36,
   "metadata": {},
   "outputs": [
    {
     "name": "stdout",
     "output_type": "stream",
     "text": [
      "Missing values by features:\n"
     ]
    },
    {
     "data": {
      "text/plain": [
       "authorized_flag               0\n",
       "card_id                       0\n",
       "city_id                       0\n",
       "category_1                    0\n",
       "installments                  0\n",
       "category_3               178159\n",
       "merchant_category_id          0\n",
       "merchant_id              138481\n",
       "month_lag                     0\n",
       "purchase_amount               0\n",
       "purchase_date                 0\n",
       "category_2              2652864\n",
       "state_id                      0\n",
       "subsector_id                  0\n",
       "dtype: int64"
      ]
     },
     "execution_count": 36,
     "metadata": {},
     "output_type": "execute_result"
    }
   ],
   "source": [
    "print(\"Missing values by features:\")\n",
    "hist_df.isnull().sum(axis=0)"
   ]
  },
  {
   "cell_type": "markdown",
   "metadata": {},
   "source": [
    "categopry 2 has a lot of missing values "
   ]
  },
  {
   "cell_type": "markdown",
   "metadata": {},
   "source": [
    "#### Lets see what approvale rate has to say us "
   ]
  },
  {
   "cell_type": "code",
   "execution_count": 37,
   "metadata": {},
   "outputs": [],
   "source": [
    "#convert the yes and no to 1 and 0\n",
    "hist_df['authorized_flag'] = hist_df['authorized_flag'].apply(lambda x: 1 if x == 'Y' else 0)"
   ]
  },
  {
   "cell_type": "code",
   "execution_count": 38,
   "metadata": {},
   "outputs": [
    {
     "name": "stdout",
     "output_type": "stream",
     "text": [
      "The percentage of transactions that were authorized  91.35450058482031\n"
     ]
    }
   ],
   "source": [
    "#as now it is numerical just find the mean to get the percent of authorization\n",
    "print(\"The percentage of transactions that were authorized \",(hist_df['authorized_flag'].mean() * 100))"
   ]
  },
  {
   "cell_type": "code",
   "execution_count": 39,
   "metadata": {},
   "outputs": [
    {
     "data": {
      "image/png": "[encoded data removed]",
      "text/plain": [
       "<matplotlib.figure.Figure at 0x17f2f832d30>"
      ]
     },
     "metadata": {
      "needs_background": "light"
     },
     "output_type": "display_data"
    }
   ],
   "source": [
    "auth = hist_df['authorized_flag'].value_counts()\n",
    "auth = auth.sort_index()\n",
    "plt.figure(figsize=(15,10))\n",
    "sns.barplot(x = auth.index, y = auth.values)\n",
    "plt.xlabel('Authorized or Not', fontsize=12)\n",
    "plt.title(\"Authorized flag \")\n",
    "plt.show()"
   ]
  },
  {
   "cell_type": "markdown",
   "metadata": {},
   "source": [
    "Lets see the authorization rate based on the card id i.e lets find out the average sucessfull rate of all the card id "
   ]
  },
  {
   "cell_type": "code",
   "execution_count": 40,
   "metadata": {},
   "outputs": [],
   "source": [
    "#find out the average sucess ad denial rate of approval based on card id\n",
    "autorized_card_rate = hist_df.groupby(['card_id'])['authorized_flag'].agg(['count','mean']).sort_values(['mean'])"
   ]
  },
  {
   "cell_type": "code",
   "execution_count": 41,
   "metadata": {},
   "outputs": [
    {
     "data": {
      "text/html": [
       "<div>\n",
       "<style scoped>\n",
       "    .dataframe tbody tr th:only-of-type {\n",
       "        vertical-align: middle;\n",
       "    }\n",
       "\n",
       "    .dataframe tbody tr th {\n",
       "        vertical-align: top;\n",
       "    }\n",
       "\n",
       "    .dataframe thead th {\n",
       "        text-align: right;\n",
       "    }\n",
       "</style>\n",
       "<table border=\"1\" class=\"dataframe\">\n",
       "  <thead>\n",
       "    <tr style=\"text-align: right;\">\n",
       "      <th></th>\n",
       "      <th>count</th>\n",
       "      <th>mean</th>\n",
       "    </tr>\n",
       "    <tr>\n",
       "      <th>card_id</th>\n",
       "      <th></th>\n",
       "      <th></th>\n",
       "    </tr>\n",
       "  </thead>\n",
       "  <tbody>\n",
       "    <tr>\n",
       "      <th>C_ID_744d26ea32</th>\n",
       "      <td>164</td>\n",
       "      <td>0.030488</td>\n",
       "    </tr>\n",
       "    <tr>\n",
       "      <th>C_ID_bb8dd137c9</th>\n",
       "      <td>162</td>\n",
       "      <td>0.037037</td>\n",
       "    </tr>\n",
       "    <tr>\n",
       "      <th>C_ID_e56202cd39</th>\n",
       "      <td>190</td>\n",
       "      <td>0.042105</td>\n",
       "    </tr>\n",
       "    <tr>\n",
       "      <th>C_ID_4feacff118</th>\n",
       "      <td>60</td>\n",
       "      <td>0.050000</td>\n",
       "    </tr>\n",
       "    <tr>\n",
       "      <th>C_ID_c27b4f80f7</th>\n",
       "      <td>55</td>\n",
       "      <td>0.054545</td>\n",
       "    </tr>\n",
       "  </tbody>\n",
       "</table>\n",
       "</div>"
      ],
      "text/plain": [
       "                 count      mean\n",
       "card_id                         \n",
       "C_ID_744d26ea32    164  0.030488\n",
       "C_ID_bb8dd137c9    162  0.037037\n",
       "C_ID_e56202cd39    190  0.042105\n",
       "C_ID_4feacff118     60  0.050000\n",
       "C_ID_c27b4f80f7     55  0.054545"
      ]
     },
     "execution_count": 41,
     "metadata": {},
     "output_type": "execute_result"
    }
   ],
   "source": [
    "autorized_card_rate.head()"
   ]
  },
  {
   "cell_type": "code",
   "execution_count": 42,
   "metadata": {},
   "outputs": [
    {
     "data": {
      "text/html": [
       "<div>\n",
       "<style scoped>\n",
       "    .dataframe tbody tr th:only-of-type {\n",
       "        vertical-align: middle;\n",
       "    }\n",
       "\n",
       "    .dataframe tbody tr th {\n",
       "        vertical-align: top;\n",
       "    }\n",
       "\n",
       "    .dataframe thead th {\n",
       "        text-align: right;\n",
       "    }\n",
       "</style>\n",
       "<table border=\"1\" class=\"dataframe\">\n",
       "  <thead>\n",
       "    <tr style=\"text-align: right;\">\n",
       "      <th></th>\n",
       "      <th>count</th>\n",
       "      <th>mean</th>\n",
       "    </tr>\n",
       "    <tr>\n",
       "      <th>card_id</th>\n",
       "      <th></th>\n",
       "      <th></th>\n",
       "    </tr>\n",
       "  </thead>\n",
       "  <tbody>\n",
       "    <tr>\n",
       "      <th>C_ID_d048b7cc60</th>\n",
       "      <td>110</td>\n",
       "      <td>1.0</td>\n",
       "    </tr>\n",
       "    <tr>\n",
       "      <th>C_ID_4e45fcdb43</th>\n",
       "      <td>13</td>\n",
       "      <td>1.0</td>\n",
       "    </tr>\n",
       "    <tr>\n",
       "      <th>C_ID_9f3ee1305e</th>\n",
       "      <td>6</td>\n",
       "      <td>1.0</td>\n",
       "    </tr>\n",
       "    <tr>\n",
       "      <th>C_ID_1b52a3e21b</th>\n",
       "      <td>121</td>\n",
       "      <td>1.0</td>\n",
       "    </tr>\n",
       "    <tr>\n",
       "      <th>C_ID_d3c3d988d5</th>\n",
       "      <td>113</td>\n",
       "      <td>1.0</td>\n",
       "    </tr>\n",
       "  </tbody>\n",
       "</table>\n",
       "</div>"
      ],
      "text/plain": [
       "                 count  mean\n",
       "card_id                     \n",
       "C_ID_d048b7cc60    110   1.0\n",
       "C_ID_4e45fcdb43     13   1.0\n",
       "C_ID_9f3ee1305e      6   1.0\n",
       "C_ID_1b52a3e21b    121   1.0\n",
       "C_ID_d3c3d988d5    113   1.0"
      ]
     },
     "execution_count": 42,
     "metadata": {},
     "output_type": "execute_result"
    }
   ],
   "source": [
    "autorized_card_rate.tail()"
   ]
  },
  {
   "cell_type": "markdown",
   "metadata": {},
   "source": [
    "It seems that for some cards most of the transactions were declined (0.03 or like that number)"
   ]
  },
  {
   "cell_type": "code",
   "execution_count": 43,
   "metadata": {},
   "outputs": [
    {
     "data": {
      "text/html": [
       "<div>\n",
       "<style scoped>\n",
       "    .dataframe tbody tr th:only-of-type {\n",
       "        vertical-align: middle;\n",
       "    }\n",
       "\n",
       "    .dataframe tbody tr th {\n",
       "        vertical-align: top;\n",
       "    }\n",
       "\n",
       "    .dataframe thead th {\n",
       "        text-align: right;\n",
       "    }\n",
       "</style>\n",
       "<table border=\"1\" class=\"dataframe\">\n",
       "  <thead>\n",
       "    <tr style=\"text-align: right;\">\n",
       "      <th></th>\n",
       "      <th>count</th>\n",
       "      <th>mean</th>\n",
       "    </tr>\n",
       "    <tr>\n",
       "      <th>card_id</th>\n",
       "      <th></th>\n",
       "      <th></th>\n",
       "    </tr>\n",
       "  </thead>\n",
       "  <tbody>\n",
       "    <tr>\n",
       "      <th>C_ID_5ea401d358</th>\n",
       "      <td>1786</td>\n",
       "      <td>0.154535</td>\n",
       "    </tr>\n",
       "    <tr>\n",
       "      <th>C_ID_5e10990e53</th>\n",
       "      <td>672</td>\n",
       "      <td>0.232143</td>\n",
       "    </tr>\n",
       "    <tr>\n",
       "      <th>C_ID_e75e342f15</th>\n",
       "      <td>572</td>\n",
       "      <td>0.099650</td>\n",
       "    </tr>\n",
       "    <tr>\n",
       "      <th>C_ID_5f2b7601dc</th>\n",
       "      <td>546</td>\n",
       "      <td>0.272894</td>\n",
       "    </tr>\n",
       "    <tr>\n",
       "      <th>C_ID_c5d8332b51</th>\n",
       "      <td>527</td>\n",
       "      <td>0.208729</td>\n",
       "    </tr>\n",
       "    <tr>\n",
       "      <th>...</th>\n",
       "      <td>...</td>\n",
       "      <td>...</td>\n",
       "    </tr>\n",
       "    <tr>\n",
       "      <th>C_ID_ea30c3f99d</th>\n",
       "      <td>9</td>\n",
       "      <td>0.222222</td>\n",
       "    </tr>\n",
       "    <tr>\n",
       "      <th>C_ID_0b423425fe</th>\n",
       "      <td>9</td>\n",
       "      <td>0.222222</td>\n",
       "    </tr>\n",
       "    <tr>\n",
       "      <th>C_ID_8776596c97</th>\n",
       "      <td>9</td>\n",
       "      <td>0.222222</td>\n",
       "    </tr>\n",
       "    <tr>\n",
       "      <th>C_ID_752c670346</th>\n",
       "      <td>8</td>\n",
       "      <td>0.250000</td>\n",
       "    </tr>\n",
       "    <tr>\n",
       "      <th>C_ID_969dbc9a97</th>\n",
       "      <td>7</td>\n",
       "      <td>0.285714</td>\n",
       "    </tr>\n",
       "  </tbody>\n",
       "</table>\n",
       "<p>610 rows × 2 columns</p>\n",
       "</div>"
      ],
      "text/plain": [
       "                 count      mean\n",
       "card_id                         \n",
       "C_ID_5ea401d358   1786  0.154535\n",
       "C_ID_5e10990e53    672  0.232143\n",
       "C_ID_e75e342f15    572  0.099650\n",
       "C_ID_5f2b7601dc    546  0.272894\n",
       "C_ID_c5d8332b51    527  0.208729\n",
       "...                ...       ...\n",
       "C_ID_ea30c3f99d      9  0.222222\n",
       "C_ID_0b423425fe      9  0.222222\n",
       "C_ID_8776596c97      9  0.222222\n",
       "C_ID_752c670346      8  0.250000\n",
       "C_ID_969dbc9a97      7  0.285714\n",
       "\n",
       "[610 rows x 2 columns]"
      ]
     },
     "execution_count": 43,
     "metadata": {},
     "output_type": "execute_result"
    }
   ],
   "source": [
    "autorized_card_rate[autorized_card_rate['mean'] < 0.3].sort_values('count', ascending = False)"
   ]
  },
  {
   "cell_type": "markdown",
   "metadata": {},
   "source": [
    "The loyality score of these all card id must be low compared to the rest of the card id"
   ]
  },
  {
   "cell_type": "markdown",
   "metadata": {},
   "source": [
    "#### Installments"
   ]
  },
  {
   "cell_type": "code",
   "execution_count": 44,
   "metadata": {},
   "outputs": [
    {
     "data": {
      "text/plain": [
       " 0      15411747\n",
       " 1      11677522\n",
       " 2        666416\n",
       " 3        538207\n",
       " 4        179525\n",
       "-1        178159\n",
       " 6        132634\n",
       " 10       118827\n",
       " 5        116090\n",
       " 12        55064\n",
       " 8         20474\n",
       " 7         10906\n",
       " 9          5772\n",
       " 11          830\n",
       " 999         188\n",
       "Name: installments, dtype: int64"
      ]
     },
     "execution_count": 44,
     "metadata": {},
     "output_type": "execute_result"
    }
   ],
   "source": [
    "hist_df['installments'].value_counts()"
   ]
  },
  {
   "cell_type": "code",
   "execution_count": 45,
   "metadata": {},
   "outputs": [
    {
     "data": {
      "image/png": "[encoded data removed]",
      "text/plain": [
       "<matplotlib.figure.Figure at 0x17ffefa4c88>"
      ]
     },
     "metadata": {
      "needs_background": "light"
     },
     "output_type": "display_data"
    }
   ],
   "source": [
    "ins = hist_df['installments'].value_counts()\n",
    "ins = ins.sort_index()\n",
    "plt.figure(figsize=(15,10))\n",
    "sns.barplot(x = ins.index, y = ins.values)\n",
    "plt.xlabel('Payment', fontsize=12)\n",
    "plt.title(\"Authorized flag \")\n",
    "plt.show()"
   ]
  },
  {
   "cell_type": "markdown",
   "metadata": {},
   "source": [
    "Most of the card holders paid the full amount in the place itself of 1 go"
   ]
  },
  {
   "cell_type": "markdown",
   "metadata": {},
   "source": [
    "-1 and 999 seems to be a bit fishy , was it used to fill the missing value?"
   ]
  },
  {
   "cell_type": "code",
   "execution_count": 46,
   "metadata": {},
   "outputs": [
    {
     "data": {
      "text/html": [
       "<div>\n",
       "<style scoped>\n",
       "    .dataframe tbody tr th:only-of-type {\n",
       "        vertical-align: middle;\n",
       "    }\n",
       "\n",
       "    .dataframe tbody tr th {\n",
       "        vertical-align: top;\n",
       "    }\n",
       "\n",
       "    .dataframe thead th {\n",
       "        text-align: right;\n",
       "    }\n",
       "</style>\n",
       "<table border=\"1\" class=\"dataframe\">\n",
       "  <thead>\n",
       "    <tr style=\"text-align: right;\">\n",
       "      <th></th>\n",
       "      <th>count</th>\n",
       "      <th>mean</th>\n",
       "    </tr>\n",
       "    <tr>\n",
       "      <th>installments</th>\n",
       "      <th></th>\n",
       "      <th></th>\n",
       "    </tr>\n",
       "  </thead>\n",
       "  <tbody>\n",
       "    <tr>\n",
       "      <th>0</th>\n",
       "      <td>15411747</td>\n",
       "      <td>0.928032</td>\n",
       "    </tr>\n",
       "    <tr>\n",
       "      <th>1</th>\n",
       "      <td>11677522</td>\n",
       "      <td>0.907024</td>\n",
       "    </tr>\n",
       "    <tr>\n",
       "      <th>-1</th>\n",
       "      <td>178159</td>\n",
       "      <td>0.885692</td>\n",
       "    </tr>\n",
       "    <tr>\n",
       "      <th>2</th>\n",
       "      <td>666416</td>\n",
       "      <td>0.884020</td>\n",
       "    </tr>\n",
       "    <tr>\n",
       "      <th>3</th>\n",
       "      <td>538207</td>\n",
       "      <td>0.862254</td>\n",
       "    </tr>\n",
       "    <tr>\n",
       "      <th>4</th>\n",
       "      <td>179525</td>\n",
       "      <td>0.819903</td>\n",
       "    </tr>\n",
       "    <tr>\n",
       "      <th>5</th>\n",
       "      <td>116090</td>\n",
       "      <td>0.809183</td>\n",
       "    </tr>\n",
       "    <tr>\n",
       "      <th>6</th>\n",
       "      <td>132634</td>\n",
       "      <td>0.779732</td>\n",
       "    </tr>\n",
       "    <tr>\n",
       "      <th>10</th>\n",
       "      <td>118827</td>\n",
       "      <td>0.702021</td>\n",
       "    </tr>\n",
       "    <tr>\n",
       "      <th>7</th>\n",
       "      <td>10906</td>\n",
       "      <td>0.693196</td>\n",
       "    </tr>\n",
       "    <tr>\n",
       "      <th>8</th>\n",
       "      <td>20474</td>\n",
       "      <td>0.692439</td>\n",
       "    </tr>\n",
       "    <tr>\n",
       "      <th>9</th>\n",
       "      <td>5772</td>\n",
       "      <td>0.663721</td>\n",
       "    </tr>\n",
       "    <tr>\n",
       "      <th>11</th>\n",
       "      <td>830</td>\n",
       "      <td>0.660241</td>\n",
       "    </tr>\n",
       "    <tr>\n",
       "      <th>12</th>\n",
       "      <td>55064</td>\n",
       "      <td>0.653694</td>\n",
       "    </tr>\n",
       "    <tr>\n",
       "      <th>999</th>\n",
       "      <td>188</td>\n",
       "      <td>0.031915</td>\n",
       "    </tr>\n",
       "  </tbody>\n",
       "</table>\n",
       "</div>"
      ],
      "text/plain": [
       "                 count      mean\n",
       "installments                    \n",
       " 0            15411747  0.928032\n",
       " 1            11677522  0.907024\n",
       "-1              178159  0.885692\n",
       " 2              666416  0.884020\n",
       " 3              538207  0.862254\n",
       " 4              179525  0.819903\n",
       " 5              116090  0.809183\n",
       " 6              132634  0.779732\n",
       " 10             118827  0.702021\n",
       " 7               10906  0.693196\n",
       " 8               20474  0.692439\n",
       " 9                5772  0.663721\n",
       " 11                830  0.660241\n",
       " 12              55064  0.653694\n",
       " 999               188  0.031915"
      ]
     },
     "execution_count": 46,
     "metadata": {},
     "output_type": "execute_result"
    }
   ],
   "source": [
    "hist_df.groupby(['installments'])['authorized_flag'].agg(['count','mean']).sort_values(['mean'],ascending = False)"
   ]
  },
  {
   "cell_type": "markdown",
   "metadata": {},
   "source": [
    "On the other hand it seems that 999 could mean fraud transactions, considering only 3% of these transactions were approved. One more interesting thing is that the higher the number of installments is, the lower is the approval rate."
   ]
  },
  {
   "cell_type": "markdown",
   "metadata": {},
   "source": [
    "The number of installments and the authorization flag combined could also be a factor for loyality score "
   ]
  },
  {
   "cell_type": "markdown",
   "metadata": {},
   "source": [
    "#### Purchase amount "
   ]
  },
  {
   "cell_type": "code",
   "execution_count": 47,
   "metadata": {},
   "outputs": [
    {
     "name": "stdout",
     "output_type": "stream",
     "text": [
      "0 percentile value is -0.747\n",
      "1 percentile value is -0.743\n",
      "2 percentile value is -0.742\n",
      "3 percentile value is -0.741\n",
      "4 percentile value is -0.739\n",
      "5 percentile value is -0.738\n",
      "6 percentile value is -0.737\n",
      "7 percentile value is -0.736\n",
      "8 percentile value is -0.735\n",
      "9 percentile value is -0.735\n",
      "10 percentile value is -0.733\n",
      "11 percentile value is -0.733\n",
      "12 percentile value is -0.732\n",
      "13 percentile value is -0.732\n",
      "14 percentile value is -0.731\n",
      "15 percentile value is -0.730\n",
      "16 percentile value is -0.729\n",
      "17 percentile value is -0.728\n",
      "18 percentile value is -0.727\n",
      "19 percentile value is -0.726\n",
      "20 percentile value is -0.725\n",
      "21 percentile value is -0.724\n",
      "22 percentile value is -0.724\n",
      "23 percentile value is -0.723\n",
      "24 percentile value is -0.721\n",
      "25 percentile value is -0.720\n",
      "26 percentile value is -0.719\n",
      "27 percentile value is -0.718\n",
      "28 percentile value is -0.717\n",
      "29 percentile value is -0.717\n",
      "30 percentile value is -0.717\n",
      "31 percentile value is -0.715\n",
      "32 percentile value is -0.714\n",
      "33 percentile value is -0.713\n",
      "34 percentile value is -0.712\n",
      "35 percentile value is -0.710\n",
      "36 percentile value is -0.709\n",
      "37 percentile value is -0.708\n",
      "38 percentile value is -0.707\n",
      "39 percentile value is -0.705\n",
      "40 percentile value is -0.704\n",
      "41 percentile value is -0.702\n",
      "42 percentile value is -0.702\n",
      "43 percentile value is -0.702\n",
      "44 percentile value is -0.700\n",
      "45 percentile value is -0.698\n",
      "46 percentile value is -0.696\n",
      "47 percentile value is -0.694\n",
      "48 percentile value is -0.693\n",
      "49 percentile value is -0.691\n",
      "50 percentile value is -0.688\n",
      "51 percentile value is -0.687\n",
      "52 percentile value is -0.686\n",
      "53 percentile value is -0.684\n",
      "54 percentile value is -0.681\n",
      "55 percentile value is -0.678\n",
      "56 percentile value is -0.675\n",
      "57 percentile value is -0.672\n",
      "58 percentile value is -0.672\n",
      "59 percentile value is -0.672\n",
      "60 percentile value is -0.670\n",
      "61 percentile value is -0.667\n",
      "62 percentile value is -0.664\n",
      "63 percentile value is -0.660\n",
      "64 percentile value is -0.657\n",
      "65 percentile value is -0.655\n",
      "66 percentile value is -0.650\n",
      "67 percentile value is -0.646\n",
      "68 percentile value is -0.642\n",
      "69 percentile value is -0.639\n",
      "70 percentile value is -0.633\n",
      "71 percentile value is -0.627\n",
      "72 percentile value is -0.624\n",
      "73 percentile value is -0.617\n",
      "74 percentile value is -0.612\n",
      "75 percentile value is -0.603\n",
      "76 percentile value is -0.597\n",
      "77 percentile value is -0.597\n",
      "78 percentile value is -0.590\n",
      "79 percentile value is -0.582\n",
      "80 percentile value is -0.571\n",
      "81 percentile value is -0.563\n",
      "82 percentile value is -0.552\n",
      "83 percentile value is -0.540\n",
      "84 percentile value is -0.528\n",
      "85 percentile value is -0.519\n",
      "86 percentile value is -0.505\n",
      "87 percentile value is -0.487\n",
      "88 percentile value is -0.469\n",
      "89 percentile value is -0.447\n",
      "90 percentile value is -0.428\n",
      "91 percentile value is -0.396\n",
      "92 percentile value is -0.359\n",
      "93 percentile value is -0.311\n",
      "94 percentile value is -0.252\n",
      "95 percentile value is -0.169\n",
      "96 percentile value is -0.053\n",
      "97 percentile value is 0.130\n",
      "98 percentile value is 0.455\n",
      "99 percentile value is 1.221\n",
      "100 percentile value is 6010604.000\n"
     ]
    }
   ],
   "source": [
    "for i in range(0, 101):\n",
    "  print(\"{} percentile value is {:3.3f}\".format(i, np.percentile(hist_df['purchase_amount'], i)))"
   ]
  },
  {
   "cell_type": "markdown",
   "metadata": {},
   "source": [
    "The purchase value is heavily standaridized, the 99th and 100th percentiles seems a bit fishy. "
   ]
  },
  {
   "cell_type": "markdown",
   "metadata": {},
   "source": [
    "#### Category 1,2,3"
   ]
  },
  {
   "cell_type": "code",
   "execution_count": 48,
   "metadata": {},
   "outputs": [
    {
     "data": {
      "text/plain": [
       "array(['N', 'Y'], dtype=object)"
      ]
     },
     "execution_count": 48,
     "metadata": {},
     "output_type": "execute_result"
    }
   ],
   "source": [
    "hist_df['category_1'].unique()"
   ]
  },
  {
   "cell_type": "code",
   "execution_count": 49,
   "metadata": {},
   "outputs": [
    {
     "data": {
      "text/plain": [
       "N    27028332\n",
       "Y     2084029\n",
       "Name: category_1, dtype: int64"
      ]
     },
     "execution_count": 49,
     "metadata": {},
     "output_type": "execute_result"
    }
   ],
   "source": [
    "hist_df['category_1'].value_counts()"
   ]
  },
  {
   "cell_type": "code",
   "execution_count": 50,
   "metadata": {},
   "outputs": [
    {
     "data": {
      "text/plain": [
       "array([ 1., nan,  3.,  5.,  2.,  4.], dtype=float16)"
      ]
     },
     "execution_count": 50,
     "metadata": {},
     "output_type": "execute_result"
    }
   ],
   "source": [
    "hist_df['category_2'].unique()"
   ]
  },
  {
   "cell_type": "code",
   "execution_count": 51,
   "metadata": {},
   "outputs": [
    {
     "data": {
      "text/plain": [
       "1.0    15177199\n",
       "3.0     3911795\n",
       "5.0     3725915\n",
       "4.0     2618053\n",
       "2.0     1026535\n",
       "Name: category_2, dtype: int64"
      ]
     },
     "execution_count": 51,
     "metadata": {},
     "output_type": "execute_result"
    }
   ],
   "source": [
    "hist_df['category_2'].value_counts()"
   ]
  },
  {
   "cell_type": "code",
   "execution_count": 52,
   "metadata": {},
   "outputs": [
    {
     "data": {
      "text/plain": [
       "array(['A', 'B', 'C', nan], dtype=object)"
      ]
     },
     "execution_count": 52,
     "metadata": {},
     "output_type": "execute_result"
    }
   ],
   "source": [
    "hist_df['category_3'].unique()"
   ]
  },
  {
   "cell_type": "code",
   "execution_count": 53,
   "metadata": {},
   "outputs": [
    {
     "data": {
      "text/plain": [
       "A    15411747\n",
       "B    11677522\n",
       "C     1844933\n",
       "Name: category_3, dtype: int64"
      ]
     },
     "execution_count": 53,
     "metadata": {},
     "output_type": "execute_result"
    }
   ],
   "source": [
    "hist_df['category_3'].value_counts()"
   ]
  },
  {
   "cell_type": "code",
   "execution_count": 54,
   "metadata": {},
   "outputs": [
    {
     "data": {
      "text/html": [
       "<div>\n",
       "<style scoped>\n",
       "    .dataframe tbody tr th:only-of-type {\n",
       "        vertical-align: middle;\n",
       "    }\n",
       "\n",
       "    .dataframe tbody tr th {\n",
       "        vertical-align: top;\n",
       "    }\n",
       "\n",
       "    .dataframe thead tr th {\n",
       "        text-align: left;\n",
       "    }\n",
       "\n",
       "    .dataframe thead tr:last-of-type th {\n",
       "        text-align: right;\n",
       "    }\n",
       "</style>\n",
       "<table border=\"1\" class=\"dataframe\">\n",
       "  <thead>\n",
       "    <tr>\n",
       "      <th></th>\n",
       "      <th colspan=\"2\" halign=\"left\">purchase_amount</th>\n",
       "      <th colspan=\"2\" halign=\"left\">authorized_flag</th>\n",
       "    </tr>\n",
       "    <tr>\n",
       "      <th></th>\n",
       "      <th>mean</th>\n",
       "      <th>count</th>\n",
       "      <th>mean</th>\n",
       "      <th>std</th>\n",
       "    </tr>\n",
       "    <tr>\n",
       "      <th>category_1</th>\n",
       "      <th></th>\n",
       "      <th></th>\n",
       "      <th></th>\n",
       "      <th></th>\n",
       "    </tr>\n",
       "  </thead>\n",
       "  <tbody>\n",
       "    <tr>\n",
       "      <th>0</th>\n",
       "      <td>-0.419327</td>\n",
       "      <td>2084029</td>\n",
       "      <td>0.748578</td>\n",
       "      <td>0.433830</td>\n",
       "    </tr>\n",
       "    <tr>\n",
       "      <th>1</th>\n",
       "      <td>0.071540</td>\n",
       "      <td>27028332</td>\n",
       "      <td>0.926265</td>\n",
       "      <td>0.261339</td>\n",
       "    </tr>\n",
       "  </tbody>\n",
       "</table>\n",
       "</div>"
      ],
      "text/plain": [
       "           purchase_amount           authorized_flag          \n",
       "                      mean     count            mean       std\n",
       "category_1                                                    \n",
       "0                -0.419327   2084029        0.748578  0.433830\n",
       "1                 0.071540  27028332        0.926265  0.261339"
      ]
     },
     "execution_count": 54,
     "metadata": {},
     "output_type": "execute_result"
    }
   ],
   "source": [
    "yes_no = {'Y': 0, 'N': 1}\n",
    "#change the yes or no to 0 or 1\n",
    "hist_df['category_1'] = hist_df['category_1'].apply(lambda x: yes_no[x])\n",
    "hist_df.groupby(['category_1']).agg({'purchase_amount': ['mean', 'count'], 'authorized_flag': ['mean', 'std']})"
   ]
  },
  {
   "cell_type": "code",
   "execution_count": 55,
   "metadata": {},
   "outputs": [
    {
     "data": {
      "text/html": [
       "<div>\n",
       "<style scoped>\n",
       "    .dataframe tbody tr th:only-of-type {\n",
       "        vertical-align: middle;\n",
       "    }\n",
       "\n",
       "    .dataframe tbody tr th {\n",
       "        vertical-align: top;\n",
       "    }\n",
       "\n",
       "    .dataframe thead tr th {\n",
       "        text-align: left;\n",
       "    }\n",
       "\n",
       "    .dataframe thead tr:last-of-type th {\n",
       "        text-align: right;\n",
       "    }\n",
       "</style>\n",
       "<table border=\"1\" class=\"dataframe\">\n",
       "  <thead>\n",
       "    <tr>\n",
       "      <th></th>\n",
       "      <th colspan=\"2\" halign=\"left\">purchase_amount</th>\n",
       "      <th colspan=\"2\" halign=\"left\">authorized_flag</th>\n",
       "    </tr>\n",
       "    <tr>\n",
       "      <th></th>\n",
       "      <th>mean</th>\n",
       "      <th>count</th>\n",
       "      <th>mean</th>\n",
       "      <th>count</th>\n",
       "    </tr>\n",
       "    <tr>\n",
       "      <th>category_2</th>\n",
       "      <th></th>\n",
       "      <th></th>\n",
       "      <th></th>\n",
       "      <th></th>\n",
       "    </tr>\n",
       "  </thead>\n",
       "  <tbody>\n",
       "    <tr>\n",
       "      <th>1.0</th>\n",
       "      <td>0.149570</td>\n",
       "      <td>15177199</td>\n",
       "      <td>0.927505</td>\n",
       "      <td>15177199</td>\n",
       "    </tr>\n",
       "    <tr>\n",
       "      <th>2.0</th>\n",
       "      <td>-0.165690</td>\n",
       "      <td>1026535</td>\n",
       "      <td>0.906225</td>\n",
       "      <td>1026535</td>\n",
       "    </tr>\n",
       "    <tr>\n",
       "      <th>3.0</th>\n",
       "      <td>0.180375</td>\n",
       "      <td>3911795</td>\n",
       "      <td>0.918857</td>\n",
       "      <td>3911795</td>\n",
       "    </tr>\n",
       "    <tr>\n",
       "      <th>4.0</th>\n",
       "      <td>-0.158951</td>\n",
       "      <td>2618053</td>\n",
       "      <td>0.927634</td>\n",
       "      <td>2618053</td>\n",
       "    </tr>\n",
       "    <tr>\n",
       "      <th>5.0</th>\n",
       "      <td>-0.104457</td>\n",
       "      <td>3725915</td>\n",
       "      <td>0.934260</td>\n",
       "      <td>3725915</td>\n",
       "    </tr>\n",
       "  </tbody>\n",
       "</table>\n",
       "</div>"
      ],
      "text/plain": [
       "           purchase_amount           authorized_flag          \n",
       "                      mean     count            mean     count\n",
       "category_2                                                    \n",
       "1.0               0.149570  15177199        0.927505  15177199\n",
       "2.0              -0.165690   1026535        0.906225   1026535\n",
       "3.0               0.180375   3911795        0.918857   3911795\n",
       "4.0              -0.158951   2618053        0.927634   2618053\n",
       "5.0              -0.104457   3725915        0.934260   3725915"
      ]
     },
     "execution_count": 55,
     "metadata": {},
     "output_type": "execute_result"
    }
   ],
   "source": [
    "hist_df.groupby(['category_2']).agg({'purchase_amount': ['mean', 'count'], 'authorized_flag': ['mean', 'count']})"
   ]
  },
  {
   "cell_type": "code",
   "execution_count": 56,
   "metadata": {},
   "outputs": [
    {
     "data": {
      "text/html": [
       "<div>\n",
       "<style scoped>\n",
       "    .dataframe tbody tr th:only-of-type {\n",
       "        vertical-align: middle;\n",
       "    }\n",
       "\n",
       "    .dataframe tbody tr th {\n",
       "        vertical-align: top;\n",
       "    }\n",
       "\n",
       "    .dataframe thead tr th {\n",
       "        text-align: left;\n",
       "    }\n",
       "\n",
       "    .dataframe thead tr:last-of-type th {\n",
       "        text-align: right;\n",
       "    }\n",
       "</style>\n",
       "<table border=\"1\" class=\"dataframe\">\n",
       "  <thead>\n",
       "    <tr>\n",
       "      <th></th>\n",
       "      <th colspan=\"2\" halign=\"left\">purchase_amount</th>\n",
       "      <th colspan=\"2\" halign=\"left\">authorized_flag</th>\n",
       "    </tr>\n",
       "    <tr>\n",
       "      <th></th>\n",
       "      <th>mean</th>\n",
       "      <th>count</th>\n",
       "      <th>mean</th>\n",
       "      <th>count</th>\n",
       "    </tr>\n",
       "    <tr>\n",
       "      <th>category_3</th>\n",
       "      <th></th>\n",
       "      <th></th>\n",
       "      <th></th>\n",
       "      <th></th>\n",
       "    </tr>\n",
       "  </thead>\n",
       "  <tbody>\n",
       "    <tr>\n",
       "      <th>0</th>\n",
       "      <td>0.361926</td>\n",
       "      <td>15411747</td>\n",
       "      <td>0.928032</td>\n",
       "      <td>15411747</td>\n",
       "    </tr>\n",
       "    <tr>\n",
       "      <th>1</th>\n",
       "      <td>-0.404556</td>\n",
       "      <td>11677522</td>\n",
       "      <td>0.907024</td>\n",
       "      <td>11677522</td>\n",
       "    </tr>\n",
       "    <tr>\n",
       "      <th>2</th>\n",
       "      <td>0.106023</td>\n",
       "      <td>1844933</td>\n",
       "      <td>0.836498</td>\n",
       "      <td>1844933</td>\n",
       "    </tr>\n",
       "    <tr>\n",
       "      <th>3</th>\n",
       "      <td>0.058447</td>\n",
       "      <td>178159</td>\n",
       "      <td>0.885692</td>\n",
       "      <td>178159</td>\n",
       "    </tr>\n",
       "  </tbody>\n",
       "</table>\n",
       "</div>"
      ],
      "text/plain": [
       "           purchase_amount           authorized_flag          \n",
       "                      mean     count            mean     count\n",
       "category_3                                                    \n",
       "0                 0.361926  15411747        0.928032  15411747\n",
       "1                -0.404556  11677522        0.907024  11677522\n",
       "2                 0.106023   1844933        0.836498   1844933\n",
       "3                 0.058447    178159        0.885692    178159"
      ]
     },
     "execution_count": 56,
     "metadata": {},
     "output_type": "execute_result"
    }
   ],
   "source": [
    "yes_no_nan = {'A': 0, 'B': 1, 'C': 2, 'nan': 3}\n",
    "hist_df['category_3'] = hist_df['category_3'].apply(lambda x: yes_no_nan[str(x)])\n",
    "hist_df.groupby(['category_3']).agg({'purchase_amount': ['mean', 'count'], 'authorized_flag': ['mean', 'count']})"
   ]
  },
  {
   "cell_type": "markdown",
   "metadata": {},
   "source": [
    "All categories are quite different"
   ]
  },
  {
   "cell_type": "markdown",
   "metadata": {},
   "source": [
    "### New Merchant Transactions"
   ]
  },
  {
   "cell_type": "code",
   "execution_count": 57,
   "metadata": {},
   "outputs": [],
   "source": [
    "data_dictionary_new_merchant = pd.read_excel('Data_Dictionary.xlsx', sheet_name='new_merchant_period')"
   ]
  },
  {
   "cell_type": "code",
   "execution_count": 58,
   "metadata": {},
   "outputs": [
    {
     "name": "stdout",
     "output_type": "stream",
     "text": [
      "Mem. usage decreased to 114.20 Mb (45.5% reduction)\n"
     ]
    }
   ],
   "source": [
    "new_merchant = reduce_mem_usage(pd.read_csv('new_merchant_transactions.csv'))"
   ]
  },
  {
   "cell_type": "code",
   "execution_count": 59,
   "metadata": {},
   "outputs": [
    {
     "data": {
      "text/html": [
       "<div>\n",
       "<style scoped>\n",
       "    .dataframe tbody tr th:only-of-type {\n",
       "        vertical-align: middle;\n",
       "    }\n",
       "\n",
       "    .dataframe tbody tr th {\n",
       "        vertical-align: top;\n",
       "    }\n",
       "\n",
       "    .dataframe thead th {\n",
       "        text-align: right;\n",
       "    }\n",
       "</style>\n",
       "<table border=\"1\" class=\"dataframe\">\n",
       "  <thead>\n",
       "    <tr style=\"text-align: right;\">\n",
       "      <th></th>\n",
       "      <th>authorized_flag</th>\n",
       "      <th>card_id</th>\n",
       "      <th>city_id</th>\n",
       "      <th>category_1</th>\n",
       "      <th>installments</th>\n",
       "      <th>category_3</th>\n",
       "      <th>merchant_category_id</th>\n",
       "      <th>merchant_id</th>\n",
       "      <th>month_lag</th>\n",
       "      <th>purchase_amount</th>\n",
       "      <th>purchase_date</th>\n",
       "      <th>category_2</th>\n",
       "      <th>state_id</th>\n",
       "      <th>subsector_id</th>\n",
       "    </tr>\n",
       "  </thead>\n",
       "  <tbody>\n",
       "    <tr>\n",
       "      <th>0</th>\n",
       "      <td>Y</td>\n",
       "      <td>C_ID_415bb3a509</td>\n",
       "      <td>107</td>\n",
       "      <td>N</td>\n",
       "      <td>1</td>\n",
       "      <td>B</td>\n",
       "      <td>307</td>\n",
       "      <td>M_ID_b0c793002c</td>\n",
       "      <td>1</td>\n",
       "      <td>-0.557617</td>\n",
       "      <td>2018-03-11 14:57:36</td>\n",
       "      <td>1.0</td>\n",
       "      <td>9</td>\n",
       "      <td>19</td>\n",
       "    </tr>\n",
       "    <tr>\n",
       "      <th>1</th>\n",
       "      <td>Y</td>\n",
       "      <td>C_ID_415bb3a509</td>\n",
       "      <td>140</td>\n",
       "      <td>N</td>\n",
       "      <td>1</td>\n",
       "      <td>B</td>\n",
       "      <td>307</td>\n",
       "      <td>M_ID_88920c89e8</td>\n",
       "      <td>1</td>\n",
       "      <td>-0.569336</td>\n",
       "      <td>2018-03-19 18:53:37</td>\n",
       "      <td>1.0</td>\n",
       "      <td>9</td>\n",
       "      <td>19</td>\n",
       "    </tr>\n",
       "    <tr>\n",
       "      <th>2</th>\n",
       "      <td>Y</td>\n",
       "      <td>C_ID_415bb3a509</td>\n",
       "      <td>330</td>\n",
       "      <td>N</td>\n",
       "      <td>1</td>\n",
       "      <td>B</td>\n",
       "      <td>507</td>\n",
       "      <td>M_ID_ad5237ef6b</td>\n",
       "      <td>2</td>\n",
       "      <td>-0.551270</td>\n",
       "      <td>2018-04-26 14:08:44</td>\n",
       "      <td>1.0</td>\n",
       "      <td>9</td>\n",
       "      <td>14</td>\n",
       "    </tr>\n",
       "    <tr>\n",
       "      <th>3</th>\n",
       "      <td>Y</td>\n",
       "      <td>C_ID_415bb3a509</td>\n",
       "      <td>-1</td>\n",
       "      <td>Y</td>\n",
       "      <td>1</td>\n",
       "      <td>B</td>\n",
       "      <td>661</td>\n",
       "      <td>M_ID_9e84cda3b1</td>\n",
       "      <td>1</td>\n",
       "      <td>-0.671875</td>\n",
       "      <td>2018-03-07 09:43:21</td>\n",
       "      <td>NaN</td>\n",
       "      <td>-1</td>\n",
       "      <td>8</td>\n",
       "    </tr>\n",
       "    <tr>\n",
       "      <th>4</th>\n",
       "      <td>Y</td>\n",
       "      <td>C_ID_ef55cf8d4b</td>\n",
       "      <td>-1</td>\n",
       "      <td>Y</td>\n",
       "      <td>1</td>\n",
       "      <td>B</td>\n",
       "      <td>166</td>\n",
       "      <td>M_ID_3c86fa3831</td>\n",
       "      <td>1</td>\n",
       "      <td>-0.659668</td>\n",
       "      <td>2018-03-22 21:07:53</td>\n",
       "      <td>NaN</td>\n",
       "      <td>-1</td>\n",
       "      <td>29</td>\n",
       "    </tr>\n",
       "    <tr>\n",
       "      <th>...</th>\n",
       "      <td>...</td>\n",
       "      <td>...</td>\n",
       "      <td>...</td>\n",
       "      <td>...</td>\n",
       "      <td>...</td>\n",
       "      <td>...</td>\n",
       "      <td>...</td>\n",
       "      <td>...</td>\n",
       "      <td>...</td>\n",
       "      <td>...</td>\n",
       "      <td>...</td>\n",
       "      <td>...</td>\n",
       "      <td>...</td>\n",
       "      <td>...</td>\n",
       "    </tr>\n",
       "    <tr>\n",
       "      <th>1963026</th>\n",
       "      <td>Y</td>\n",
       "      <td>C_ID_1320dee851</td>\n",
       "      <td>142</td>\n",
       "      <td>N</td>\n",
       "      <td>0</td>\n",
       "      <td>A</td>\n",
       "      <td>309</td>\n",
       "      <td>M_ID_7754b67f3b</td>\n",
       "      <td>2</td>\n",
       "      <td>-0.701660</td>\n",
       "      <td>2018-04-06 14:36:52</td>\n",
       "      <td>3.0</td>\n",
       "      <td>19</td>\n",
       "      <td>21</td>\n",
       "    </tr>\n",
       "    <tr>\n",
       "      <th>1963027</th>\n",
       "      <td>Y</td>\n",
       "      <td>C_ID_f112aa3381</td>\n",
       "      <td>158</td>\n",
       "      <td>N</td>\n",
       "      <td>0</td>\n",
       "      <td>A</td>\n",
       "      <td>560</td>\n",
       "      <td>M_ID_da063195b7</td>\n",
       "      <td>2</td>\n",
       "      <td>-0.694336</td>\n",
       "      <td>2018-03-07 13:19:18</td>\n",
       "      <td>1.0</td>\n",
       "      <td>15</td>\n",
       "      <td>34</td>\n",
       "    </tr>\n",
       "    <tr>\n",
       "      <th>1963028</th>\n",
       "      <td>Y</td>\n",
       "      <td>C_ID_bd97b86450</td>\n",
       "      <td>69</td>\n",
       "      <td>N</td>\n",
       "      <td>1</td>\n",
       "      <td>B</td>\n",
       "      <td>278</td>\n",
       "      <td>M_ID_9a9ccb6544</td>\n",
       "      <td>1</td>\n",
       "      <td>-0.621094</td>\n",
       "      <td>2018-03-05 12:04:56</td>\n",
       "      <td>1.0</td>\n",
       "      <td>9</td>\n",
       "      <td>37</td>\n",
       "    </tr>\n",
       "    <tr>\n",
       "      <th>1963029</th>\n",
       "      <td>Y</td>\n",
       "      <td>C_ID_c0513fd84f</td>\n",
       "      <td>130</td>\n",
       "      <td>N</td>\n",
       "      <td>0</td>\n",
       "      <td>A</td>\n",
       "      <td>367</td>\n",
       "      <td>M_ID_40c28d596f</td>\n",
       "      <td>1</td>\n",
       "      <td>-0.656738</td>\n",
       "      <td>2018-03-09 14:47:05</td>\n",
       "      <td>3.0</td>\n",
       "      <td>7</td>\n",
       "      <td>16</td>\n",
       "    </tr>\n",
       "    <tr>\n",
       "      <th>1963030</th>\n",
       "      <td>Y</td>\n",
       "      <td>C_ID_a935410f8e</td>\n",
       "      <td>19</td>\n",
       "      <td>N</td>\n",
       "      <td>0</td>\n",
       "      <td>A</td>\n",
       "      <td>278</td>\n",
       "      <td>M_ID_d855771cd9</td>\n",
       "      <td>2</td>\n",
       "      <td>-0.739258</td>\n",
       "      <td>2018-04-11 07:59:46</td>\n",
       "      <td>1.0</td>\n",
       "      <td>9</td>\n",
       "      <td>37</td>\n",
       "    </tr>\n",
       "  </tbody>\n",
       "</table>\n",
       "<p>1963031 rows × 14 columns</p>\n",
       "</div>"
      ],
      "text/plain": [
       "        authorized_flag          card_id  city_id category_1  installments  \\\n",
       "0                     Y  C_ID_415bb3a509      107          N             1   \n",
       "1                     Y  C_ID_415bb3a509      140          N             1   \n",
       "2                     Y  C_ID_415bb3a509      330          N             1   \n",
       "3                     Y  C_ID_415bb3a509       -1          Y             1   \n",
       "4                     Y  C_ID_ef55cf8d4b       -1          Y             1   \n",
       "...                 ...              ...      ...        ...           ...   \n",
       "1963026               Y  C_ID_1320dee851      142          N             0   \n",
       "1963027               Y  C_ID_f112aa3381      158          N             0   \n",
       "1963028               Y  C_ID_bd97b86450       69          N             1   \n",
       "1963029               Y  C_ID_c0513fd84f      130          N             0   \n",
       "1963030               Y  C_ID_a935410f8e       19          N             0   \n",
       "\n",
       "        category_3  merchant_category_id      merchant_id  month_lag  \\\n",
       "0                B                   307  M_ID_b0c793002c          1   \n",
       "1                B                   307  M_ID_88920c89e8          1   \n",
       "2                B                   507  M_ID_ad5237ef6b          2   \n",
       "3                B                   661  M_ID_9e84cda3b1          1   \n",
       "4                B                   166  M_ID_3c86fa3831          1   \n",
       "...            ...                   ...              ...        ...   \n",
       "1963026          A                   309  M_ID_7754b67f3b          2   \n",
       "1963027          A                   560  M_ID_da063195b7          2   \n",
       "1963028          B                   278  M_ID_9a9ccb6544          1   \n",
       "1963029          A                   367  M_ID_40c28d596f          1   \n",
       "1963030          A                   278  M_ID_d855771cd9          2   \n",
       "\n",
       "         purchase_amount        purchase_date  category_2  state_id  \\\n",
       "0              -0.557617  2018-03-11 14:57:36         1.0         9   \n",
       "1              -0.569336  2018-03-19 18:53:37         1.0         9   \n",
       "2              -0.551270  2018-04-26 14:08:44         1.0         9   \n",
       "3              -0.671875  2018-03-07 09:43:21         NaN        -1   \n",
       "4              -0.659668  2018-03-22 21:07:53         NaN        -1   \n",
       "...                  ...                  ...         ...       ...   \n",
       "1963026        -0.701660  2018-04-06 14:36:52         3.0        19   \n",
       "1963027        -0.694336  2018-03-07 13:19:18         1.0        15   \n",
       "1963028        -0.621094  2018-03-05 12:04:56         1.0         9   \n",
       "1963029        -0.656738  2018-03-09 14:47:05         3.0         7   \n",
       "1963030        -0.739258  2018-04-11 07:59:46         1.0         9   \n",
       "\n",
       "         subsector_id  \n",
       "0                  19  \n",
       "1                  19  \n",
       "2                  14  \n",
       "3                   8  \n",
       "4                  29  \n",
       "...               ...  \n",
       "1963026            21  \n",
       "1963027            34  \n",
       "1963028            37  \n",
       "1963029            16  \n",
       "1963030            37  \n",
       "\n",
       "[1963031 rows x 14 columns]"
      ]
     },
     "execution_count": 59,
     "metadata": {},
     "output_type": "execute_result"
    }
   ],
   "source": [
    "new_merchant"
   ]
  },
  {
   "cell_type": "code",
   "execution_count": 60,
   "metadata": {},
   "outputs": [
    {
     "data": {
      "text/html": [
       "<div>\n",
       "<style scoped>\n",
       "    .dataframe tbody tr th:only-of-type {\n",
       "        vertical-align: middle;\n",
       "    }\n",
       "\n",
       "    .dataframe tbody tr th {\n",
       "        vertical-align: top;\n",
       "    }\n",
       "\n",
       "    .dataframe thead th {\n",
       "        text-align: right;\n",
       "    }\n",
       "</style>\n",
       "<table border=\"1\" class=\"dataframe\">\n",
       "  <thead>\n",
       "    <tr style=\"text-align: right;\">\n",
       "      <th></th>\n",
       "      <th>new_merchant_period.csv</th>\n",
       "      <th>Unnamed: 1</th>\n",
       "    </tr>\n",
       "  </thead>\n",
       "  <tbody>\n",
       "    <tr>\n",
       "      <th>1</th>\n",
       "      <td>Columns</td>\n",
       "      <td>Description</td>\n",
       "    </tr>\n",
       "    <tr>\n",
       "      <th>2</th>\n",
       "      <td>card_id</td>\n",
       "      <td>Card identifier</td>\n",
       "    </tr>\n",
       "    <tr>\n",
       "      <th>3</th>\n",
       "      <td>month_lag</td>\n",
       "      <td>month lag to reference date</td>\n",
       "    </tr>\n",
       "    <tr>\n",
       "      <th>4</th>\n",
       "      <td>purchase_date</td>\n",
       "      <td>Purchase date</td>\n",
       "    </tr>\n",
       "    <tr>\n",
       "      <th>5</th>\n",
       "      <td>authorized_flag</td>\n",
       "      <td>Y' if approved, 'N' if denied</td>\n",
       "    </tr>\n",
       "    <tr>\n",
       "      <th>6</th>\n",
       "      <td>category_3</td>\n",
       "      <td>anonymized category</td>\n",
       "    </tr>\n",
       "    <tr>\n",
       "      <th>7</th>\n",
       "      <td>installments</td>\n",
       "      <td>number of installments of purchase</td>\n",
       "    </tr>\n",
       "    <tr>\n",
       "      <th>8</th>\n",
       "      <td>category_1</td>\n",
       "      <td>anonymized category</td>\n",
       "    </tr>\n",
       "    <tr>\n",
       "      <th>9</th>\n",
       "      <td>merchant_category_id</td>\n",
       "      <td>Merchant category identifier (anonymized )</td>\n",
       "    </tr>\n",
       "    <tr>\n",
       "      <th>10</th>\n",
       "      <td>subsector_id</td>\n",
       "      <td>Merchant category group identifier (anonymized )</td>\n",
       "    </tr>\n",
       "    <tr>\n",
       "      <th>11</th>\n",
       "      <td>merchant_id</td>\n",
       "      <td>Merchant identifier (anonymized)</td>\n",
       "    </tr>\n",
       "    <tr>\n",
       "      <th>12</th>\n",
       "      <td>purchase_amount</td>\n",
       "      <td>Normalized purchase amount</td>\n",
       "    </tr>\n",
       "    <tr>\n",
       "      <th>13</th>\n",
       "      <td>city_id</td>\n",
       "      <td>City identifier (anonymized )</td>\n",
       "    </tr>\n",
       "    <tr>\n",
       "      <th>14</th>\n",
       "      <td>state_id</td>\n",
       "      <td>State identifier (anonymized )</td>\n",
       "    </tr>\n",
       "    <tr>\n",
       "      <th>15</th>\n",
       "      <td>category_2</td>\n",
       "      <td>anonymized category</td>\n",
       "    </tr>\n",
       "  </tbody>\n",
       "</table>\n",
       "</div>"
      ],
      "text/plain": [
       "   new_merchant_period.csv                                        Unnamed: 1\n",
       "1                  Columns                                       Description\n",
       "2                  card_id                                   Card identifier\n",
       "3                month_lag                       month lag to reference date\n",
       "4            purchase_date                                     Purchase date\n",
       "5          authorized_flag                     Y' if approved, 'N' if denied\n",
       "6               category_3                               anonymized category\n",
       "7             installments                number of installments of purchase\n",
       "8               category_1                               anonymized category\n",
       "9     merchant_category_id        Merchant category identifier (anonymized )\n",
       "10            subsector_id  Merchant category group identifier (anonymized )\n",
       "11             merchant_id                  Merchant identifier (anonymized)\n",
       "12         purchase_amount                        Normalized purchase amount\n",
       "13                 city_id                     City identifier (anonymized )\n",
       "14                state_id                    State identifier (anonymized )\n",
       "15              category_2                               anonymized category"
      ]
     },
     "execution_count": 60,
     "metadata": {},
     "output_type": "execute_result"
    }
   ],
   "source": [
    "data_dictionary_new_merchant[1:]"
   ]
  },
  {
   "cell_type": "code",
   "execution_count": 61,
   "metadata": {},
   "outputs": [
    {
     "data": {
      "text/plain": [
       "Index(['authorized_flag', 'card_id', 'city_id', 'category_1', 'installments',\n",
       "       'category_3', 'merchant_category_id', 'merchant_id', 'month_lag',\n",
       "       'purchase_amount', 'purchase_date', 'category_2', 'state_id',\n",
       "       'subsector_id'],\n",
       "      dtype='object')"
      ]
     },
     "execution_count": 61,
     "metadata": {},
     "output_type": "execute_result"
    }
   ],
   "source": [
    "new_merchant.columns"
   ]
  },
  {
   "cell_type": "code",
   "execution_count": 62,
   "metadata": {},
   "outputs": [
    {
     "data": {
      "text/html": [
       "<div>\n",
       "<style scoped>\n",
       "    .dataframe tbody tr th:only-of-type {\n",
       "        vertical-align: middle;\n",
       "    }\n",
       "\n",
       "    .dataframe tbody tr th {\n",
       "        vertical-align: top;\n",
       "    }\n",
       "\n",
       "    .dataframe thead th {\n",
       "        text-align: right;\n",
       "    }\n",
       "</style>\n",
       "<table border=\"1\" class=\"dataframe\">\n",
       "  <thead>\n",
       "    <tr style=\"text-align: right;\">\n",
       "      <th></th>\n",
       "      <th>authorized_flag</th>\n",
       "      <th>card_id</th>\n",
       "      <th>city_id</th>\n",
       "      <th>category_1</th>\n",
       "      <th>installments</th>\n",
       "      <th>category_3</th>\n",
       "      <th>merchant_category_id</th>\n",
       "      <th>merchant_id</th>\n",
       "      <th>month_lag</th>\n",
       "      <th>purchase_amount</th>\n",
       "      <th>purchase_date</th>\n",
       "      <th>category_2</th>\n",
       "      <th>state_id</th>\n",
       "      <th>subsector_id</th>\n",
       "    </tr>\n",
       "  </thead>\n",
       "  <tbody>\n",
       "    <tr>\n",
       "      <th>0</th>\n",
       "      <td>Y</td>\n",
       "      <td>C_ID_415bb3a509</td>\n",
       "      <td>107</td>\n",
       "      <td>N</td>\n",
       "      <td>1</td>\n",
       "      <td>B</td>\n",
       "      <td>307</td>\n",
       "      <td>M_ID_b0c793002c</td>\n",
       "      <td>1</td>\n",
       "      <td>-0.557617</td>\n",
       "      <td>2018-03-11 14:57:36</td>\n",
       "      <td>1.0</td>\n",
       "      <td>9</td>\n",
       "      <td>19</td>\n",
       "    </tr>\n",
       "    <tr>\n",
       "      <th>1</th>\n",
       "      <td>Y</td>\n",
       "      <td>C_ID_415bb3a509</td>\n",
       "      <td>140</td>\n",
       "      <td>N</td>\n",
       "      <td>1</td>\n",
       "      <td>B</td>\n",
       "      <td>307</td>\n",
       "      <td>M_ID_88920c89e8</td>\n",
       "      <td>1</td>\n",
       "      <td>-0.569336</td>\n",
       "      <td>2018-03-19 18:53:37</td>\n",
       "      <td>1.0</td>\n",
       "      <td>9</td>\n",
       "      <td>19</td>\n",
       "    </tr>\n",
       "    <tr>\n",
       "      <th>2</th>\n",
       "      <td>Y</td>\n",
       "      <td>C_ID_415bb3a509</td>\n",
       "      <td>330</td>\n",
       "      <td>N</td>\n",
       "      <td>1</td>\n",
       "      <td>B</td>\n",
       "      <td>507</td>\n",
       "      <td>M_ID_ad5237ef6b</td>\n",
       "      <td>2</td>\n",
       "      <td>-0.551270</td>\n",
       "      <td>2018-04-26 14:08:44</td>\n",
       "      <td>1.0</td>\n",
       "      <td>9</td>\n",
       "      <td>14</td>\n",
       "    </tr>\n",
       "    <tr>\n",
       "      <th>3</th>\n",
       "      <td>Y</td>\n",
       "      <td>C_ID_415bb3a509</td>\n",
       "      <td>-1</td>\n",
       "      <td>Y</td>\n",
       "      <td>1</td>\n",
       "      <td>B</td>\n",
       "      <td>661</td>\n",
       "      <td>M_ID_9e84cda3b1</td>\n",
       "      <td>1</td>\n",
       "      <td>-0.671875</td>\n",
       "      <td>2018-03-07 09:43:21</td>\n",
       "      <td>NaN</td>\n",
       "      <td>-1</td>\n",
       "      <td>8</td>\n",
       "    </tr>\n",
       "    <tr>\n",
       "      <th>4</th>\n",
       "      <td>Y</td>\n",
       "      <td>C_ID_ef55cf8d4b</td>\n",
       "      <td>-1</td>\n",
       "      <td>Y</td>\n",
       "      <td>1</td>\n",
       "      <td>B</td>\n",
       "      <td>166</td>\n",
       "      <td>M_ID_3c86fa3831</td>\n",
       "      <td>1</td>\n",
       "      <td>-0.659668</td>\n",
       "      <td>2018-03-22 21:07:53</td>\n",
       "      <td>NaN</td>\n",
       "      <td>-1</td>\n",
       "      <td>29</td>\n",
       "    </tr>\n",
       "    <tr>\n",
       "      <th>...</th>\n",
       "      <td>...</td>\n",
       "      <td>...</td>\n",
       "      <td>...</td>\n",
       "      <td>...</td>\n",
       "      <td>...</td>\n",
       "      <td>...</td>\n",
       "      <td>...</td>\n",
       "      <td>...</td>\n",
       "      <td>...</td>\n",
       "      <td>...</td>\n",
       "      <td>...</td>\n",
       "      <td>...</td>\n",
       "      <td>...</td>\n",
       "      <td>...</td>\n",
       "    </tr>\n",
       "    <tr>\n",
       "      <th>1963026</th>\n",
       "      <td>Y</td>\n",
       "      <td>C_ID_1320dee851</td>\n",
       "      <td>142</td>\n",
       "      <td>N</td>\n",
       "      <td>0</td>\n",
       "      <td>A</td>\n",
       "      <td>309</td>\n",
       "      <td>M_ID_7754b67f3b</td>\n",
       "      <td>2</td>\n",
       "      <td>-0.701660</td>\n",
       "      <td>2018-04-06 14:36:52</td>\n",
       "      <td>3.0</td>\n",
       "      <td>19</td>\n",
       "      <td>21</td>\n",
       "    </tr>\n",
       "    <tr>\n",
       "      <th>1963027</th>\n",
       "      <td>Y</td>\n",
       "      <td>C_ID_f112aa3381</td>\n",
       "      <td>158</td>\n",
       "      <td>N</td>\n",
       "      <td>0</td>\n",
       "      <td>A</td>\n",
       "      <td>560</td>\n",
       "      <td>M_ID_da063195b7</td>\n",
       "      <td>2</td>\n",
       "      <td>-0.694336</td>\n",
       "      <td>2018-03-07 13:19:18</td>\n",
       "      <td>1.0</td>\n",
       "      <td>15</td>\n",
       "      <td>34</td>\n",
       "    </tr>\n",
       "    <tr>\n",
       "      <th>1963028</th>\n",
       "      <td>Y</td>\n",
       "      <td>C_ID_bd97b86450</td>\n",
       "      <td>69</td>\n",
       "      <td>N</td>\n",
       "      <td>1</td>\n",
       "      <td>B</td>\n",
       "      <td>278</td>\n",
       "      <td>M_ID_9a9ccb6544</td>\n",
       "      <td>1</td>\n",
       "      <td>-0.621094</td>\n",
       "      <td>2018-03-05 12:04:56</td>\n",
       "      <td>1.0</td>\n",
       "      <td>9</td>\n",
       "      <td>37</td>\n",
       "    </tr>\n",
       "    <tr>\n",
       "      <th>1963029</th>\n",
       "      <td>Y</td>\n",
       "      <td>C_ID_c0513fd84f</td>\n",
       "      <td>130</td>\n",
       "      <td>N</td>\n",
       "      <td>0</td>\n",
       "      <td>A</td>\n",
       "      <td>367</td>\n",
       "      <td>M_ID_40c28d596f</td>\n",
       "      <td>1</td>\n",
       "      <td>-0.656738</td>\n",
       "      <td>2018-03-09 14:47:05</td>\n",
       "      <td>3.0</td>\n",
       "      <td>7</td>\n",
       "      <td>16</td>\n",
       "    </tr>\n",
       "    <tr>\n",
       "      <th>1963030</th>\n",
       "      <td>Y</td>\n",
       "      <td>C_ID_a935410f8e</td>\n",
       "      <td>19</td>\n",
       "      <td>N</td>\n",
       "      <td>0</td>\n",
       "      <td>A</td>\n",
       "      <td>278</td>\n",
       "      <td>M_ID_d855771cd9</td>\n",
       "      <td>2</td>\n",
       "      <td>-0.739258</td>\n",
       "      <td>2018-04-11 07:59:46</td>\n",
       "      <td>1.0</td>\n",
       "      <td>9</td>\n",
       "      <td>37</td>\n",
       "    </tr>\n",
       "  </tbody>\n",
       "</table>\n",
       "<p>1963031 rows × 14 columns</p>\n",
       "</div>"
      ],
      "text/plain": [
       "        authorized_flag          card_id  city_id category_1  installments  \\\n",
       "0                     Y  C_ID_415bb3a509      107          N             1   \n",
       "1                     Y  C_ID_415bb3a509      140          N             1   \n",
       "2                     Y  C_ID_415bb3a509      330          N             1   \n",
       "3                     Y  C_ID_415bb3a509       -1          Y             1   \n",
       "4                     Y  C_ID_ef55cf8d4b       -1          Y             1   \n",
       "...                 ...              ...      ...        ...           ...   \n",
       "1963026               Y  C_ID_1320dee851      142          N             0   \n",
       "1963027               Y  C_ID_f112aa3381      158          N             0   \n",
       "1963028               Y  C_ID_bd97b86450       69          N             1   \n",
       "1963029               Y  C_ID_c0513fd84f      130          N             0   \n",
       "1963030               Y  C_ID_a935410f8e       19          N             0   \n",
       "\n",
       "        category_3  merchant_category_id      merchant_id  month_lag  \\\n",
       "0                B                   307  M_ID_b0c793002c          1   \n",
       "1                B                   307  M_ID_88920c89e8          1   \n",
       "2                B                   507  M_ID_ad5237ef6b          2   \n",
       "3                B                   661  M_ID_9e84cda3b1          1   \n",
       "4                B                   166  M_ID_3c86fa3831          1   \n",
       "...            ...                   ...              ...        ...   \n",
       "1963026          A                   309  M_ID_7754b67f3b          2   \n",
       "1963027          A                   560  M_ID_da063195b7          2   \n",
       "1963028          B                   278  M_ID_9a9ccb6544          1   \n",
       "1963029          A                   367  M_ID_40c28d596f          1   \n",
       "1963030          A                   278  M_ID_d855771cd9          2   \n",
       "\n",
       "         purchase_amount        purchase_date  category_2  state_id  \\\n",
       "0              -0.557617  2018-03-11 14:57:36         1.0         9   \n",
       "1              -0.569336  2018-03-19 18:53:37         1.0         9   \n",
       "2              -0.551270  2018-04-26 14:08:44         1.0         9   \n",
       "3              -0.671875  2018-03-07 09:43:21         NaN        -1   \n",
       "4              -0.659668  2018-03-22 21:07:53         NaN        -1   \n",
       "...                  ...                  ...         ...       ...   \n",
       "1963026        -0.701660  2018-04-06 14:36:52         3.0        19   \n",
       "1963027        -0.694336  2018-03-07 13:19:18         1.0        15   \n",
       "1963028        -0.621094  2018-03-05 12:04:56         1.0         9   \n",
       "1963029        -0.656738  2018-03-09 14:47:05         3.0         7   \n",
       "1963030        -0.739258  2018-04-11 07:59:46         1.0         9   \n",
       "\n",
       "         subsector_id  \n",
       "0                  19  \n",
       "1                  19  \n",
       "2                  14  \n",
       "3                   8  \n",
       "4                  29  \n",
       "...               ...  \n",
       "1963026            21  \n",
       "1963027            34  \n",
       "1963028            37  \n",
       "1963029            16  \n",
       "1963030            37  \n",
       "\n",
       "[1963031 rows x 14 columns]"
      ]
     },
     "execution_count": 62,
     "metadata": {},
     "output_type": "execute_result"
    }
   ],
   "source": [
    "new_merchant"
   ]
  },
  {
   "cell_type": "code",
   "execution_count": 63,
   "metadata": {},
   "outputs": [
    {
     "name": "stdout",
     "output_type": "stream",
     "text": [
      "Missing values by features:\n"
     ]
    },
    {
     "data": {
      "text/plain": [
       "authorized_flag              0\n",
       "card_id                      0\n",
       "city_id                      0\n",
       "category_1                   0\n",
       "installments                 0\n",
       "category_3               55922\n",
       "merchant_category_id         0\n",
       "merchant_id              26216\n",
       "month_lag                    0\n",
       "purchase_amount              0\n",
       "purchase_date                0\n",
       "category_2              111745\n",
       "state_id                     0\n",
       "subsector_id                 0\n",
       "dtype: int64"
      ]
     },
     "execution_count": 63,
     "metadata": {},
     "output_type": "execute_result"
    }
   ],
   "source": [
    "print(\"Missing values by features:\")\n",
    "new_merchant.isnull().sum(axis=0)"
   ]
  },
  {
   "cell_type": "markdown",
   "metadata": {},
   "source": [
    "#### Authorized Flag"
   ]
  },
  {
   "cell_type": "code",
   "execution_count": 64,
   "metadata": {},
   "outputs": [],
   "source": [
    "# let's convert the authorized_flag to a binary value(0 or 1).\n",
    "new_merchant['authorized_flag'] = new_merchant['authorized_flag'].apply(lambda x: 1 if x == 'Y' else 0)"
   ]
  },
  {
   "cell_type": "code",
   "execution_count": 65,
   "metadata": {},
   "outputs": [
    {
     "name": "stdout",
     "output_type": "stream",
     "text": [
      "The average authorized transactions is  1.0\n"
     ]
    }
   ],
   "source": [
    "print(\"The average authorized transactions is \", new_merchant['authorized_flag'].mean())"
   ]
  },
  {
   "cell_type": "code",
   "execution_count": 66,
   "metadata": {},
   "outputs": [
    {
     "data": {
      "image/png": "[encoded data removed]",
      "text/plain": [
       "<matplotlib.figure.Figure at 0x180a7ded320>"
      ]
     },
     "metadata": {
      "needs_background": "light"
     },
     "output_type": "display_data"
    }
   ],
   "source": [
    "auth_m = new_merchant['authorized_flag'].value_counts()\n",
    "auth_m = auth_m.sort_index()\n",
    "plt.figure(figsize=(15,10))\n",
    "sns.barplot(x = auth_m.index, y = auth_m.values)\n",
    "plt.xlabel('Authorized or Not', fontsize=12)\n",
    "plt.title(\"Authorized flag \")\n",
    "plt.show()"
   ]
  },
  {
   "cell_type": "markdown",
   "metadata": {},
   "source": [
    "All purchases were authorised which is better compared to 91 percent to historical data"
   ]
  },
  {
   "cell_type": "code",
   "execution_count": 67,
   "metadata": {},
   "outputs": [],
   "source": [
    "#I know this aint necessary but just wanted to see out of curiosity\n",
    "autho_card = new_merchant.groupby(['card_id'])['authorized_flag'].agg(['count','mean']).sort_values(['count'])"
   ]
  },
  {
   "cell_type": "code",
   "execution_count": 68,
   "metadata": {},
   "outputs": [
    {
     "data": {
      "text/html": [
       "<div>\n",
       "<style scoped>\n",
       "    .dataframe tbody tr th:only-of-type {\n",
       "        vertical-align: middle;\n",
       "    }\n",
       "\n",
       "    .dataframe tbody tr th {\n",
       "        vertical-align: top;\n",
       "    }\n",
       "\n",
       "    .dataframe thead th {\n",
       "        text-align: right;\n",
       "    }\n",
       "</style>\n",
       "<table border=\"1\" class=\"dataframe\">\n",
       "  <thead>\n",
       "    <tr style=\"text-align: right;\">\n",
       "      <th></th>\n",
       "      <th>count</th>\n",
       "      <th>mean</th>\n",
       "    </tr>\n",
       "    <tr>\n",
       "      <th>card_id</th>\n",
       "      <th></th>\n",
       "      <th></th>\n",
       "    </tr>\n",
       "  </thead>\n",
       "  <tbody>\n",
       "    <tr>\n",
       "      <th>C_ID_1a16c8e57f</th>\n",
       "      <td>1</td>\n",
       "      <td>1</td>\n",
       "    </tr>\n",
       "    <tr>\n",
       "      <th>C_ID_84eae65b08</th>\n",
       "      <td>1</td>\n",
       "      <td>1</td>\n",
       "    </tr>\n",
       "    <tr>\n",
       "      <th>C_ID_1fe0534d02</th>\n",
       "      <td>1</td>\n",
       "      <td>1</td>\n",
       "    </tr>\n",
       "    <tr>\n",
       "      <th>C_ID_84eb9b91ee</th>\n",
       "      <td>1</td>\n",
       "      <td>1</td>\n",
       "    </tr>\n",
       "    <tr>\n",
       "      <th>C_ID_84ed1b6ab4</th>\n",
       "      <td>1</td>\n",
       "      <td>1</td>\n",
       "    </tr>\n",
       "    <tr>\n",
       "      <th>...</th>\n",
       "      <td>...</td>\n",
       "      <td>...</td>\n",
       "    </tr>\n",
       "    <tr>\n",
       "      <th>C_ID_6cef1dba4b</th>\n",
       "      <td>100</td>\n",
       "      <td>1</td>\n",
       "    </tr>\n",
       "    <tr>\n",
       "      <th>C_ID_0e4f6af077</th>\n",
       "      <td>104</td>\n",
       "      <td>1</td>\n",
       "    </tr>\n",
       "    <tr>\n",
       "      <th>C_ID_8946508722</th>\n",
       "      <td>104</td>\n",
       "      <td>1</td>\n",
       "    </tr>\n",
       "    <tr>\n",
       "      <th>C_ID_c729288535</th>\n",
       "      <td>106</td>\n",
       "      <td>1</td>\n",
       "    </tr>\n",
       "    <tr>\n",
       "      <th>C_ID_b7ebee6539</th>\n",
       "      <td>109</td>\n",
       "      <td>1</td>\n",
       "    </tr>\n",
       "  </tbody>\n",
       "</table>\n",
       "<p>290001 rows × 2 columns</p>\n",
       "</div>"
      ],
      "text/plain": [
       "                 count  mean\n",
       "card_id                     \n",
       "C_ID_1a16c8e57f      1     1\n",
       "C_ID_84eae65b08      1     1\n",
       "C_ID_1fe0534d02      1     1\n",
       "C_ID_84eb9b91ee      1     1\n",
       "C_ID_84ed1b6ab4      1     1\n",
       "...                ...   ...\n",
       "C_ID_6cef1dba4b    100     1\n",
       "C_ID_0e4f6af077    104     1\n",
       "C_ID_8946508722    104     1\n",
       "C_ID_c729288535    106     1\n",
       "C_ID_b7ebee6539    109     1\n",
       "\n",
       "[290001 rows x 2 columns]"
      ]
     },
     "execution_count": 68,
     "metadata": {},
     "output_type": "execute_result"
    }
   ],
   "source": [
    "autho_card"
   ]
  },
  {
   "cell_type": "code",
   "execution_count": 69,
   "metadata": {},
   "outputs": [
    {
     "data": {
      "text/html": [
       "<div>\n",
       "<style scoped>\n",
       "    .dataframe tbody tr th:only-of-type {\n",
       "        vertical-align: middle;\n",
       "    }\n",
       "\n",
       "    .dataframe tbody tr th {\n",
       "        vertical-align: top;\n",
       "    }\n",
       "\n",
       "    .dataframe thead th {\n",
       "        text-align: right;\n",
       "    }\n",
       "</style>\n",
       "<table border=\"1\" class=\"dataframe\">\n",
       "  <thead>\n",
       "    <tr style=\"text-align: right;\">\n",
       "      <th></th>\n",
       "      <th>count</th>\n",
       "      <th>mean</th>\n",
       "    </tr>\n",
       "    <tr>\n",
       "      <th>card_id</th>\n",
       "      <th></th>\n",
       "      <th></th>\n",
       "    </tr>\n",
       "  </thead>\n",
       "  <tbody>\n",
       "    <tr>\n",
       "      <th>C_ID_1a16c8e57f</th>\n",
       "      <td>1</td>\n",
       "      <td>1</td>\n",
       "    </tr>\n",
       "    <tr>\n",
       "      <th>C_ID_84eae65b08</th>\n",
       "      <td>1</td>\n",
       "      <td>1</td>\n",
       "    </tr>\n",
       "    <tr>\n",
       "      <th>C_ID_1fe0534d02</th>\n",
       "      <td>1</td>\n",
       "      <td>1</td>\n",
       "    </tr>\n",
       "    <tr>\n",
       "      <th>C_ID_84eb9b91ee</th>\n",
       "      <td>1</td>\n",
       "      <td>1</td>\n",
       "    </tr>\n",
       "    <tr>\n",
       "      <th>C_ID_84ed1b6ab4</th>\n",
       "      <td>1</td>\n",
       "      <td>1</td>\n",
       "    </tr>\n",
       "    <tr>\n",
       "      <th>...</th>\n",
       "      <td>...</td>\n",
       "      <td>...</td>\n",
       "    </tr>\n",
       "    <tr>\n",
       "      <th>C_ID_6cef1dba4b</th>\n",
       "      <td>100</td>\n",
       "      <td>1</td>\n",
       "    </tr>\n",
       "    <tr>\n",
       "      <th>C_ID_0e4f6af077</th>\n",
       "      <td>104</td>\n",
       "      <td>1</td>\n",
       "    </tr>\n",
       "    <tr>\n",
       "      <th>C_ID_8946508722</th>\n",
       "      <td>104</td>\n",
       "      <td>1</td>\n",
       "    </tr>\n",
       "    <tr>\n",
       "      <th>C_ID_c729288535</th>\n",
       "      <td>106</td>\n",
       "      <td>1</td>\n",
       "    </tr>\n",
       "    <tr>\n",
       "      <th>C_ID_b7ebee6539</th>\n",
       "      <td>109</td>\n",
       "      <td>1</td>\n",
       "    </tr>\n",
       "  </tbody>\n",
       "</table>\n",
       "<p>290001 rows × 2 columns</p>\n",
       "</div>"
      ],
      "text/plain": [
       "                 count  mean\n",
       "card_id                     \n",
       "C_ID_1a16c8e57f      1     1\n",
       "C_ID_84eae65b08      1     1\n",
       "C_ID_1fe0534d02      1     1\n",
       "C_ID_84eb9b91ee      1     1\n",
       "C_ID_84ed1b6ab4      1     1\n",
       "...                ...   ...\n",
       "C_ID_6cef1dba4b    100     1\n",
       "C_ID_0e4f6af077    104     1\n",
       "C_ID_8946508722    104     1\n",
       "C_ID_c729288535    106     1\n",
       "C_ID_b7ebee6539    109     1\n",
       "\n",
       "[290001 rows x 2 columns]"
      ]
     },
     "execution_count": 69,
     "metadata": {},
     "output_type": "execute_result"
    }
   ],
   "source": [
    "#I know but just checking \n",
    "autho_card[autho_card['mean']>0.5]"
   ]
  },
  {
   "cell_type": "code",
   "execution_count": 70,
   "metadata": {},
   "outputs": [
    {
     "data": {
      "image/png": "[encoded data removed]",
      "text/plain": [
       "<matplotlib.figure.Figure at 0x180fca54978>"
      ]
     },
     "metadata": {
      "needs_background": "light"
     },
     "output_type": "display_data"
    }
   ],
   "source": [
    "inst = new_merchant['installments'].value_counts()\n",
    "inst = inst.sort_index()\n",
    "plt.figure(figsize=(15,10))\n",
    "sns.barplot(x = inst.index, y = inst.values)\n",
    "plt.xlabel('Payment', fontsize=12)\n",
    "plt.title(\"Payment\")\n",
    "plt.show()"
   ]
  },
  {
   "cell_type": "markdown",
   "metadata": {},
   "source": [
    "Interesting. Most common number of installments are 0 and 1 which is expected. But -1 and 999 are strange. I think that these values were used to fill in missing values. The same senario as the above "
   ]
  },
  {
   "cell_type": "code",
   "execution_count": 71,
   "metadata": {},
   "outputs": [
    {
     "name": "stdout",
     "output_type": "stream",
     "text": [
      "0 percentile value is -0.7470703\n",
      "1 percentile value is -0.7421875\n",
      "2 percentile value is -0.7407227\n",
      "3 percentile value is -0.7392578\n",
      "4 percentile value is -0.7377930\n",
      "5 percentile value is -0.7363281\n",
      "6 percentile value is -0.7348633\n",
      "7 percentile value is -0.7343750\n",
      "8 percentile value is -0.7329102\n",
      "9 percentile value is -0.7319336\n",
      "10 percentile value is -0.7319336\n",
      "11 percentile value is -0.7304688\n",
      "12 percentile value is -0.7290039\n",
      "13 percentile value is -0.7280273\n",
      "14 percentile value is -0.7270508\n",
      "15 percentile value is -0.7260742\n",
      "16 percentile value is -0.7246094\n",
      "17 percentile value is -0.7246094\n",
      "18 percentile value is -0.7226562\n",
      "19 percentile value is -0.7216797\n",
      "20 percentile value is -0.7202148\n",
      "21 percentile value is -0.7192383\n",
      "22 percentile value is -0.7177734\n",
      "23 percentile value is -0.7167969\n",
      "24 percentile value is -0.7167969\n",
      "25 percentile value is -0.7167969\n",
      "26 percentile value is -0.7148438\n",
      "27 percentile value is -0.7133789\n",
      "28 percentile value is -0.7119141\n",
      "29 percentile value is -0.7109375\n",
      "30 percentile value is -0.7094727\n",
      "31 percentile value is -0.7084961\n",
      "32 percentile value is -0.7065430\n",
      "33 percentile value is -0.7050781\n",
      "34 percentile value is -0.7031250\n",
      "35 percentile value is -0.7016602\n",
      "36 percentile value is -0.7016602\n",
      "37 percentile value is -0.7016602\n",
      "38 percentile value is -0.6997070\n",
      "39 percentile value is -0.6972656\n",
      "40 percentile value is -0.6958008\n",
      "41 percentile value is -0.6943359\n",
      "42 percentile value is -0.6923828\n",
      "43 percentile value is -0.6899414\n",
      "44 percentile value is -0.6875000\n",
      "45 percentile value is -0.6870117\n",
      "46 percentile value is -0.6855469\n",
      "47 percentile value is -0.6831055\n",
      "48 percentile value is -0.6801758\n",
      "49 percentile value is -0.6777344\n",
      "50 percentile value is -0.6748047\n",
      "51 percentile value is -0.6718750\n",
      "52 percentile value is -0.6718750\n",
      "53 percentile value is -0.6718750\n",
      "54 percentile value is -0.6708984\n",
      "55 percentile value is -0.6674805\n",
      "56 percentile value is -0.6640625\n",
      "57 percentile value is -0.6606445\n",
      "58 percentile value is -0.6567383\n",
      "59 percentile value is -0.6567383\n",
      "60 percentile value is -0.6523438\n",
      "61 percentile value is -0.6489258\n",
      "62 percentile value is -0.6440430\n",
      "63 percentile value is -0.6416016\n",
      "64 percentile value is -0.6376953\n",
      "65 percentile value is -0.6328125\n",
      "66 percentile value is -0.6269531\n",
      "67 percentile value is -0.6254883\n",
      "68 percentile value is -0.6191406\n",
      "69 percentile value is -0.6118164\n",
      "70 percentile value is -0.6074219\n",
      "71 percentile value is -0.5996094\n",
      "72 percentile value is -0.5966797\n",
      "73 percentile value is -0.5966797\n",
      "74 percentile value is -0.5893555\n",
      "75 percentile value is -0.5815430\n",
      "76 percentile value is -0.5732422\n",
      "77 percentile value is -0.5664062\n",
      "78 percentile value is -0.5571289\n",
      "79 percentile value is -0.5483398\n",
      "80 percentile value is -0.5366211\n",
      "81 percentile value is -0.5263672\n",
      "82 percentile value is -0.5205078\n",
      "83 percentile value is -0.5063477\n",
      "84 percentile value is -0.4919434\n",
      "85 percentile value is -0.4768066\n",
      "86 percentile value is -0.4614258\n",
      "87 percentile value is -0.4462891\n",
      "88 percentile value is -0.4279785\n",
      "89 percentile value is -0.4013672\n",
      "90 percentile value is -0.3713379\n",
      "91 percentile value is -0.3400879\n",
      "92 percentile value is -0.2961426\n",
      "93 percentile value is -0.2449951\n",
      "94 percentile value is -0.1759033\n",
      "95 percentile value is -0.0857544\n",
      "96 percentile value is 0.0434204\n",
      "97 percentile value is 0.2507324\n",
      "98 percentile value is 0.6166992\n",
      "99 percentile value is 1.4628906\n",
      "100 percentile value is 263.2500000\n"
     ]
    }
   ],
   "source": [
    "for i in range(0, 101):\n",
    "    print(\"{} percentile value is {:3.7f}\".format(i, np.percentile(new_merchant['purchase_amount'], i)))"
   ]
  },
  {
   "cell_type": "markdown",
   "metadata": {},
   "source": [
    "Here too the 99th percentile and 100th percentile are bit of outliners, more specifically 100th percentile one "
   ]
  },
  {
   "cell_type": "code",
   "execution_count": 72,
   "metadata": {},
   "outputs": [
    {
     "data": {
      "text/plain": [
       "array(['N', 'Y'], dtype=object)"
      ]
     },
     "execution_count": 72,
     "metadata": {},
     "output_type": "execute_result"
    }
   ],
   "source": [
    "new_merchant['category_1'].unique()"
   ]
  },
  {
   "cell_type": "code",
   "execution_count": 73,
   "metadata": {},
   "outputs": [
    {
     "data": {
      "text/plain": [
       "N    1899935\n",
       "Y      63096\n",
       "Name: category_1, dtype: int64"
      ]
     },
     "execution_count": 73,
     "metadata": {},
     "output_type": "execute_result"
    }
   ],
   "source": [
    "new_merchant['category_1'].value_counts()"
   ]
  },
  {
   "cell_type": "code",
   "execution_count": 74,
   "metadata": {},
   "outputs": [
    {
     "data": {
      "text/plain": [
       "array([ 1., nan,  3.,  2.,  4.,  5.], dtype=float16)"
      ]
     },
     "execution_count": 74,
     "metadata": {},
     "output_type": "execute_result"
    }
   ],
   "source": [
    "new_merchant['category_2'].unique()"
   ]
  },
  {
   "cell_type": "code",
   "execution_count": 75,
   "metadata": {},
   "outputs": [
    {
     "data": {
      "text/plain": [
       "1.0    1058242\n",
       "3.0     289525\n",
       "5.0     259266\n",
       "4.0     178590\n",
       "2.0      65663\n",
       "Name: category_2, dtype: int64"
      ]
     },
     "execution_count": 75,
     "metadata": {},
     "output_type": "execute_result"
    }
   ],
   "source": [
    "new_merchant['category_2'].value_counts()"
   ]
  },
  {
   "cell_type": "code",
   "execution_count": 76,
   "metadata": {},
   "outputs": [
    {
     "data": {
      "text/plain": [
       "array(['B', nan, 'C', 'A'], dtype=object)"
      ]
     },
     "execution_count": 76,
     "metadata": {},
     "output_type": "execute_result"
    }
   ],
   "source": [
    "new_merchant['category_3'].unique()"
   ]
  },
  {
   "cell_type": "code",
   "execution_count": 77,
   "metadata": {},
   "outputs": [
    {
     "data": {
      "text/plain": [
       "A    922244\n",
       "B    836178\n",
       "C    148687\n",
       "Name: category_3, dtype: int64"
      ]
     },
     "execution_count": 77,
     "metadata": {},
     "output_type": "execute_result"
    }
   ],
   "source": [
    "new_merchant['category_3'].value_counts()"
   ]
  },
  {
   "cell_type": "code",
   "execution_count": 78,
   "metadata": {},
   "outputs": [
    {
     "data": {
      "text/html": [
       "<div>\n",
       "<style scoped>\n",
       "    .dataframe tbody tr th:only-of-type {\n",
       "        vertical-align: middle;\n",
       "    }\n",
       "\n",
       "    .dataframe tbody tr th {\n",
       "        vertical-align: top;\n",
       "    }\n",
       "\n",
       "    .dataframe thead tr th {\n",
       "        text-align: left;\n",
       "    }\n",
       "\n",
       "    .dataframe thead tr:last-of-type th {\n",
       "        text-align: right;\n",
       "    }\n",
       "</style>\n",
       "<table border=\"1\" class=\"dataframe\">\n",
       "  <thead>\n",
       "    <tr>\n",
       "      <th></th>\n",
       "      <th colspan=\"2\" halign=\"left\">purchase_amount</th>\n",
       "      <th colspan=\"2\" halign=\"left\">authorized_flag</th>\n",
       "    </tr>\n",
       "    <tr>\n",
       "      <th></th>\n",
       "      <th>mean</th>\n",
       "      <th>count</th>\n",
       "      <th>mean</th>\n",
       "      <th>count</th>\n",
       "    </tr>\n",
       "    <tr>\n",
       "      <th>category_1</th>\n",
       "      <th></th>\n",
       "      <th></th>\n",
       "      <th></th>\n",
       "      <th></th>\n",
       "    </tr>\n",
       "  </thead>\n",
       "  <tbody>\n",
       "    <tr>\n",
       "      <th>0</th>\n",
       "      <td>-0.218628</td>\n",
       "      <td>63096</td>\n",
       "      <td>1</td>\n",
       "      <td>63096</td>\n",
       "    </tr>\n",
       "    <tr>\n",
       "      <th>1</th>\n",
       "      <td>-0.562012</td>\n",
       "      <td>1899935</td>\n",
       "      <td>1</td>\n",
       "      <td>1899935</td>\n",
       "    </tr>\n",
       "  </tbody>\n",
       "</table>\n",
       "</div>"
      ],
      "text/plain": [
       "           purchase_amount          authorized_flag         \n",
       "                      mean    count            mean    count\n",
       "category_1                                                  \n",
       "0                -0.218628    63096               1    63096\n",
       "1                -0.562012  1899935               1  1899935"
      ]
     },
     "execution_count": 78,
     "metadata": {},
     "output_type": "execute_result"
    }
   ],
   "source": [
    "yes_no = {'Y': 0, 'N': 1}\n",
    "#change the yes or no to 0 or 1\n",
    "new_merchant['category_1'] = new_merchant['category_1'].apply(lambda x: yes_no[x])\n",
    "new_merchant.groupby(['category_1']).agg({'purchase_amount': ['mean', 'count'], 'authorized_flag': ['mean', 'count']})"
   ]
  },
  {
   "cell_type": "code",
   "execution_count": 79,
   "metadata": {},
   "outputs": [
    {
     "data": {
      "text/html": [
       "<div>\n",
       "<style scoped>\n",
       "    .dataframe tbody tr th:only-of-type {\n",
       "        vertical-align: middle;\n",
       "    }\n",
       "\n",
       "    .dataframe tbody tr th {\n",
       "        vertical-align: top;\n",
       "    }\n",
       "\n",
       "    .dataframe thead tr th {\n",
       "        text-align: left;\n",
       "    }\n",
       "\n",
       "    .dataframe thead tr:last-of-type th {\n",
       "        text-align: right;\n",
       "    }\n",
       "</style>\n",
       "<table border=\"1\" class=\"dataframe\">\n",
       "  <thead>\n",
       "    <tr>\n",
       "      <th></th>\n",
       "      <th colspan=\"2\" halign=\"left\">purchase_amount</th>\n",
       "      <th colspan=\"2\" halign=\"left\">authorized_flag</th>\n",
       "    </tr>\n",
       "    <tr>\n",
       "      <th></th>\n",
       "      <th>mean</th>\n",
       "      <th>count</th>\n",
       "      <th>mean</th>\n",
       "      <th>std</th>\n",
       "    </tr>\n",
       "    <tr>\n",
       "      <th>category_2</th>\n",
       "      <th></th>\n",
       "      <th></th>\n",
       "      <th></th>\n",
       "      <th></th>\n",
       "    </tr>\n",
       "  </thead>\n",
       "  <tbody>\n",
       "    <tr>\n",
       "      <th>1.0</th>\n",
       "      <td>-0.569336</td>\n",
       "      <td>1058242</td>\n",
       "      <td>1</td>\n",
       "      <td>0.0</td>\n",
       "    </tr>\n",
       "    <tr>\n",
       "      <th>2.0</th>\n",
       "      <td>-0.555664</td>\n",
       "      <td>65663</td>\n",
       "      <td>1</td>\n",
       "      <td>0.0</td>\n",
       "    </tr>\n",
       "    <tr>\n",
       "      <th>3.0</th>\n",
       "      <td>-0.550781</td>\n",
       "      <td>289525</td>\n",
       "      <td>1</td>\n",
       "      <td>0.0</td>\n",
       "    </tr>\n",
       "    <tr>\n",
       "      <th>4.0</th>\n",
       "      <td>-0.557617</td>\n",
       "      <td>178590</td>\n",
       "      <td>1</td>\n",
       "      <td>0.0</td>\n",
       "    </tr>\n",
       "    <tr>\n",
       "      <th>5.0</th>\n",
       "      <td>-0.548828</td>\n",
       "      <td>259266</td>\n",
       "      <td>1</td>\n",
       "      <td>0.0</td>\n",
       "    </tr>\n",
       "  </tbody>\n",
       "</table>\n",
       "</div>"
      ],
      "text/plain": [
       "           purchase_amount          authorized_flag     \n",
       "                      mean    count            mean  std\n",
       "category_2                                              \n",
       "1.0              -0.569336  1058242               1  0.0\n",
       "2.0              -0.555664    65663               1  0.0\n",
       "3.0              -0.550781   289525               1  0.0\n",
       "4.0              -0.557617   178590               1  0.0\n",
       "5.0              -0.548828   259266               1  0.0"
      ]
     },
     "execution_count": 79,
     "metadata": {},
     "output_type": "execute_result"
    }
   ],
   "source": [
    "new_merchant.groupby(['category_2']).agg({'purchase_amount': ['mean', 'count'], 'authorized_flag': ['mean', 'std']})"
   ]
  },
  {
   "cell_type": "code",
   "execution_count": 80,
   "metadata": {},
   "outputs": [
    {
     "data": {
      "text/html": [
       "<div>\n",
       "<style scoped>\n",
       "    .dataframe tbody tr th:only-of-type {\n",
       "        vertical-align: middle;\n",
       "    }\n",
       "\n",
       "    .dataframe tbody tr th {\n",
       "        vertical-align: top;\n",
       "    }\n",
       "\n",
       "    .dataframe thead tr th {\n",
       "        text-align: left;\n",
       "    }\n",
       "\n",
       "    .dataframe thead tr:last-of-type th {\n",
       "        text-align: right;\n",
       "    }\n",
       "</style>\n",
       "<table border=\"1\" class=\"dataframe\">\n",
       "  <thead>\n",
       "    <tr>\n",
       "      <th></th>\n",
       "      <th colspan=\"2\" halign=\"left\">purchase_amount</th>\n",
       "      <th colspan=\"2\" halign=\"left\">authorized_flag</th>\n",
       "    </tr>\n",
       "    <tr>\n",
       "      <th></th>\n",
       "      <th>mean</th>\n",
       "      <th>count</th>\n",
       "      <th>mean</th>\n",
       "      <th>count</th>\n",
       "    </tr>\n",
       "    <tr>\n",
       "      <th>category_3</th>\n",
       "      <th></th>\n",
       "      <th></th>\n",
       "      <th></th>\n",
       "      <th></th>\n",
       "    </tr>\n",
       "  </thead>\n",
       "  <tbody>\n",
       "    <tr>\n",
       "      <th>0</th>\n",
       "      <td>-0.630859</td>\n",
       "      <td>922244</td>\n",
       "      <td>1</td>\n",
       "      <td>922244</td>\n",
       "    </tr>\n",
       "    <tr>\n",
       "      <th>1</th>\n",
       "      <td>-0.606445</td>\n",
       "      <td>836178</td>\n",
       "      <td>1</td>\n",
       "      <td>836178</td>\n",
       "    </tr>\n",
       "    <tr>\n",
       "      <th>2</th>\n",
       "      <td>0.037720</td>\n",
       "      <td>148687</td>\n",
       "      <td>1</td>\n",
       "      <td>148687</td>\n",
       "    </tr>\n",
       "    <tr>\n",
       "      <th>3</th>\n",
       "      <td>0.034027</td>\n",
       "      <td>55922</td>\n",
       "      <td>1</td>\n",
       "      <td>55922</td>\n",
       "    </tr>\n",
       "  </tbody>\n",
       "</table>\n",
       "</div>"
      ],
      "text/plain": [
       "           purchase_amount         authorized_flag        \n",
       "                      mean   count            mean   count\n",
       "category_3                                                \n",
       "0                -0.630859  922244               1  922244\n",
       "1                -0.606445  836178               1  836178\n",
       "2                 0.037720  148687               1  148687\n",
       "3                 0.034027   55922               1   55922"
      ]
     },
     "execution_count": 80,
     "metadata": {},
     "output_type": "execute_result"
    }
   ],
   "source": [
    "abcnan = {'A': 0, 'B': 1, 'C':2,'nan': 3}\n",
    "#change the yes or no to 0 or 1\n",
    "new_merchant['category_3'] = new_merchant['category_3'].apply(lambda x: abcnan[str(x)])\n",
    "new_merchant.groupby(['category_3']).agg({'purchase_amount': ['mean', 'count'], 'authorized_flag': ['mean', 'count']})"
   ]
  },
  {
   "cell_type": "markdown",
   "metadata": {},
   "source": [
    "### Merchant"
   ]
  },
  {
   "cell_type": "code",
   "execution_count": 81,
   "metadata": {},
   "outputs": [],
   "source": [
    "data_dictionary_merchant = pd.read_excel('Data_Dictionary.xlsx', sheet_name='merchant')"
   ]
  },
  {
   "cell_type": "code",
   "execution_count": 82,
   "metadata": {},
   "outputs": [
    {
     "name": "stdout",
     "output_type": "stream",
     "text": [
      "Mem. usage decreased to 30.32 Mb (46.0% reduction)\n"
     ]
    }
   ],
   "source": [
    "mer = reduce_mem_usage(pd.read_csv('merchants.csv'))"
   ]
  },
  {
   "cell_type": "code",
   "execution_count": 83,
   "metadata": {},
   "outputs": [
    {
     "data": {
      "text/html": [
       "<div>\n",
       "<style scoped>\n",
       "    .dataframe tbody tr th:only-of-type {\n",
       "        vertical-align: middle;\n",
       "    }\n",
       "\n",
       "    .dataframe tbody tr th {\n",
       "        vertical-align: top;\n",
       "    }\n",
       "\n",
       "    .dataframe thead th {\n",
       "        text-align: right;\n",
       "    }\n",
       "</style>\n",
       "<table border=\"1\" class=\"dataframe\">\n",
       "  <thead>\n",
       "    <tr style=\"text-align: right;\">\n",
       "      <th></th>\n",
       "      <th>merchants.csv</th>\n",
       "      <th>Unnamed: 1</th>\n",
       "    </tr>\n",
       "  </thead>\n",
       "  <tbody>\n",
       "    <tr>\n",
       "      <th>1</th>\n",
       "      <td>Columns</td>\n",
       "      <td>Description</td>\n",
       "    </tr>\n",
       "    <tr>\n",
       "      <th>2</th>\n",
       "      <td>merchant_id</td>\n",
       "      <td>Unique merchant identifier</td>\n",
       "    </tr>\n",
       "    <tr>\n",
       "      <th>3</th>\n",
       "      <td>merchant_group_id</td>\n",
       "      <td>Merchant group (anonymized )</td>\n",
       "    </tr>\n",
       "    <tr>\n",
       "      <th>4</th>\n",
       "      <td>merchant_category_id</td>\n",
       "      <td>Unique identifier for merchant category (anony...</td>\n",
       "    </tr>\n",
       "    <tr>\n",
       "      <th>5</th>\n",
       "      <td>subsector_id</td>\n",
       "      <td>Merchant category group (anonymized )</td>\n",
       "    </tr>\n",
       "    <tr>\n",
       "      <th>6</th>\n",
       "      <td>numerical_1</td>\n",
       "      <td>anonymized measure</td>\n",
       "    </tr>\n",
       "    <tr>\n",
       "      <th>7</th>\n",
       "      <td>numerical_2</td>\n",
       "      <td>anonymized measure</td>\n",
       "    </tr>\n",
       "    <tr>\n",
       "      <th>8</th>\n",
       "      <td>category_1</td>\n",
       "      <td>anonymized category</td>\n",
       "    </tr>\n",
       "    <tr>\n",
       "      <th>9</th>\n",
       "      <td>most_recent_sales_range</td>\n",
       "      <td>Range of revenue (monetary units) in last acti...</td>\n",
       "    </tr>\n",
       "    <tr>\n",
       "      <th>10</th>\n",
       "      <td>most_recent_purchases_range</td>\n",
       "      <td>Range of quantity of transactions in last acti...</td>\n",
       "    </tr>\n",
       "    <tr>\n",
       "      <th>11</th>\n",
       "      <td>avg_sales_lag3</td>\n",
       "      <td>Monthly average of revenue in last 3 months di...</td>\n",
       "    </tr>\n",
       "    <tr>\n",
       "      <th>12</th>\n",
       "      <td>avg_purchases_lag3</td>\n",
       "      <td>Monthly average of transactions in last 3 mont...</td>\n",
       "    </tr>\n",
       "    <tr>\n",
       "      <th>13</th>\n",
       "      <td>active_months_lag3</td>\n",
       "      <td>Quantity of active months within last 3 months</td>\n",
       "    </tr>\n",
       "    <tr>\n",
       "      <th>14</th>\n",
       "      <td>avg_sales_lag6</td>\n",
       "      <td>Monthly average of revenue in last 6 months di...</td>\n",
       "    </tr>\n",
       "    <tr>\n",
       "      <th>15</th>\n",
       "      <td>avg_purchases_lag6</td>\n",
       "      <td>Monthly average of transactions in last 6 mont...</td>\n",
       "    </tr>\n",
       "    <tr>\n",
       "      <th>16</th>\n",
       "      <td>active_months_lag6</td>\n",
       "      <td>Quantity of active months within last 6 months</td>\n",
       "    </tr>\n",
       "    <tr>\n",
       "      <th>17</th>\n",
       "      <td>avg_sales_lag12</td>\n",
       "      <td>Monthly average of revenue in last 12 months d...</td>\n",
       "    </tr>\n",
       "    <tr>\n",
       "      <th>18</th>\n",
       "      <td>avg_purchases_lag12</td>\n",
       "      <td>Monthly average of transactions in last 12 mon...</td>\n",
       "    </tr>\n",
       "    <tr>\n",
       "      <th>19</th>\n",
       "      <td>active_months_lag12</td>\n",
       "      <td>Quantity of active months within last 12 months</td>\n",
       "    </tr>\n",
       "    <tr>\n",
       "      <th>20</th>\n",
       "      <td>category_4</td>\n",
       "      <td>anonymized category</td>\n",
       "    </tr>\n",
       "    <tr>\n",
       "      <th>21</th>\n",
       "      <td>city_id</td>\n",
       "      <td>City identifier (anonymized )</td>\n",
       "    </tr>\n",
       "    <tr>\n",
       "      <th>22</th>\n",
       "      <td>state_id</td>\n",
       "      <td>State identifier (anonymized )</td>\n",
       "    </tr>\n",
       "    <tr>\n",
       "      <th>23</th>\n",
       "      <td>category_2</td>\n",
       "      <td>anonymized category</td>\n",
       "    </tr>\n",
       "  </tbody>\n",
       "</table>\n",
       "</div>"
      ],
      "text/plain": [
       "                  merchants.csv  \\\n",
       "1                       Columns   \n",
       "2                   merchant_id   \n",
       "3             merchant_group_id   \n",
       "4          merchant_category_id   \n",
       "5                  subsector_id   \n",
       "6                   numerical_1   \n",
       "7                   numerical_2   \n",
       "8                    category_1   \n",
       "9       most_recent_sales_range   \n",
       "10  most_recent_purchases_range   \n",
       "11               avg_sales_lag3   \n",
       "12           avg_purchases_lag3   \n",
       "13           active_months_lag3   \n",
       "14               avg_sales_lag6   \n",
       "15           avg_purchases_lag6   \n",
       "16           active_months_lag6   \n",
       "17              avg_sales_lag12   \n",
       "18          avg_purchases_lag12   \n",
       "19          active_months_lag12   \n",
       "20                   category_4   \n",
       "21                      city_id   \n",
       "22                     state_id   \n",
       "23                   category_2   \n",
       "\n",
       "                                           Unnamed: 1  \n",
       "1                                         Description  \n",
       "2                          Unique merchant identifier  \n",
       "3                        Merchant group (anonymized )  \n",
       "4   Unique identifier for merchant category (anony...  \n",
       "5               Merchant category group (anonymized )  \n",
       "6                                  anonymized measure  \n",
       "7                                  anonymized measure  \n",
       "8                                 anonymized category  \n",
       "9   Range of revenue (monetary units) in last acti...  \n",
       "10  Range of quantity of transactions in last acti...  \n",
       "11  Monthly average of revenue in last 3 months di...  \n",
       "12  Monthly average of transactions in last 3 mont...  \n",
       "13     Quantity of active months within last 3 months  \n",
       "14  Monthly average of revenue in last 6 months di...  \n",
       "15  Monthly average of transactions in last 6 mont...  \n",
       "16     Quantity of active months within last 6 months  \n",
       "17  Monthly average of revenue in last 12 months d...  \n",
       "18  Monthly average of transactions in last 12 mon...  \n",
       "19    Quantity of active months within last 12 months  \n",
       "20                                anonymized category  \n",
       "21                      City identifier (anonymized )  \n",
       "22                     State identifier (anonymized )  \n",
       "23                                anonymized category  "
      ]
     },
     "execution_count": 83,
     "metadata": {},
     "output_type": "execute_result"
    }
   ],
   "source": [
    "data_dictionary_merchant[1:]"
   ]
  },
  {
   "cell_type": "code",
   "execution_count": 84,
   "metadata": {},
   "outputs": [
    {
     "data": {
      "text/html": [
       "<div>\n",
       "<style scoped>\n",
       "    .dataframe tbody tr th:only-of-type {\n",
       "        vertical-align: middle;\n",
       "    }\n",
       "\n",
       "    .dataframe tbody tr th {\n",
       "        vertical-align: top;\n",
       "    }\n",
       "\n",
       "    .dataframe thead th {\n",
       "        text-align: right;\n",
       "    }\n",
       "</style>\n",
       "<table border=\"1\" class=\"dataframe\">\n",
       "  <thead>\n",
       "    <tr style=\"text-align: right;\">\n",
       "      <th></th>\n",
       "      <th>merchant_id</th>\n",
       "      <th>merchant_group_id</th>\n",
       "      <th>merchant_category_id</th>\n",
       "      <th>subsector_id</th>\n",
       "      <th>numerical_1</th>\n",
       "      <th>numerical_2</th>\n",
       "      <th>category_1</th>\n",
       "      <th>most_recent_sales_range</th>\n",
       "      <th>most_recent_purchases_range</th>\n",
       "      <th>avg_sales_lag3</th>\n",
       "      <th>...</th>\n",
       "      <th>avg_sales_lag6</th>\n",
       "      <th>avg_purchases_lag6</th>\n",
       "      <th>active_months_lag6</th>\n",
       "      <th>avg_sales_lag12</th>\n",
       "      <th>avg_purchases_lag12</th>\n",
       "      <th>active_months_lag12</th>\n",
       "      <th>category_4</th>\n",
       "      <th>city_id</th>\n",
       "      <th>state_id</th>\n",
       "      <th>category_2</th>\n",
       "    </tr>\n",
       "  </thead>\n",
       "  <tbody>\n",
       "    <tr>\n",
       "      <th>0</th>\n",
       "      <td>M_ID_838061e48c</td>\n",
       "      <td>8353</td>\n",
       "      <td>792</td>\n",
       "      <td>9</td>\n",
       "      <td>-0.057465</td>\n",
       "      <td>-0.057465</td>\n",
       "      <td>N</td>\n",
       "      <td>E</td>\n",
       "      <td>E</td>\n",
       "      <td>-0.400000</td>\n",
       "      <td>...</td>\n",
       "      <td>-2.250000</td>\n",
       "      <td>18.666667</td>\n",
       "      <td>6</td>\n",
       "      <td>-2.320000</td>\n",
       "      <td>13.916667</td>\n",
       "      <td>12</td>\n",
       "      <td>N</td>\n",
       "      <td>242</td>\n",
       "      <td>9</td>\n",
       "      <td>1.0</td>\n",
       "    </tr>\n",
       "    <tr>\n",
       "      <th>1</th>\n",
       "      <td>M_ID_9339d880ad</td>\n",
       "      <td>3184</td>\n",
       "      <td>840</td>\n",
       "      <td>20</td>\n",
       "      <td>-0.057465</td>\n",
       "      <td>-0.057465</td>\n",
       "      <td>N</td>\n",
       "      <td>E</td>\n",
       "      <td>E</td>\n",
       "      <td>-0.720000</td>\n",
       "      <td>...</td>\n",
       "      <td>-0.740000</td>\n",
       "      <td>1.291667</td>\n",
       "      <td>6</td>\n",
       "      <td>-0.570000</td>\n",
       "      <td>1.687500</td>\n",
       "      <td>12</td>\n",
       "      <td>N</td>\n",
       "      <td>22</td>\n",
       "      <td>16</td>\n",
       "      <td>1.0</td>\n",
       "    </tr>\n",
       "    <tr>\n",
       "      <th>2</th>\n",
       "      <td>M_ID_e726bbae1e</td>\n",
       "      <td>447</td>\n",
       "      <td>690</td>\n",
       "      <td>1</td>\n",
       "      <td>-0.057465</td>\n",
       "      <td>-0.057465</td>\n",
       "      <td>N</td>\n",
       "      <td>E</td>\n",
       "      <td>E</td>\n",
       "      <td>-82.129997</td>\n",
       "      <td>...</td>\n",
       "      <td>-82.129997</td>\n",
       "      <td>260.000000</td>\n",
       "      <td>2</td>\n",
       "      <td>-82.129997</td>\n",
       "      <td>260.000000</td>\n",
       "      <td>2</td>\n",
       "      <td>N</td>\n",
       "      <td>-1</td>\n",
       "      <td>5</td>\n",
       "      <td>5.0</td>\n",
       "    </tr>\n",
       "    <tr>\n",
       "      <th>3</th>\n",
       "      <td>M_ID_a70e9c5f81</td>\n",
       "      <td>5026</td>\n",
       "      <td>792</td>\n",
       "      <td>9</td>\n",
       "      <td>-0.057465</td>\n",
       "      <td>-0.057465</td>\n",
       "      <td>Y</td>\n",
       "      <td>E</td>\n",
       "      <td>E</td>\n",
       "      <td>NaN</td>\n",
       "      <td>...</td>\n",
       "      <td>NaN</td>\n",
       "      <td>4.666667</td>\n",
       "      <td>6</td>\n",
       "      <td>NaN</td>\n",
       "      <td>3.833333</td>\n",
       "      <td>12</td>\n",
       "      <td>Y</td>\n",
       "      <td>-1</td>\n",
       "      <td>-1</td>\n",
       "      <td>NaN</td>\n",
       "    </tr>\n",
       "    <tr>\n",
       "      <th>4</th>\n",
       "      <td>M_ID_64456c37ce</td>\n",
       "      <td>2228</td>\n",
       "      <td>222</td>\n",
       "      <td>21</td>\n",
       "      <td>-0.057465</td>\n",
       "      <td>-0.057465</td>\n",
       "      <td>Y</td>\n",
       "      <td>E</td>\n",
       "      <td>E</td>\n",
       "      <td>NaN</td>\n",
       "      <td>...</td>\n",
       "      <td>NaN</td>\n",
       "      <td>0.361111</td>\n",
       "      <td>6</td>\n",
       "      <td>NaN</td>\n",
       "      <td>0.347222</td>\n",
       "      <td>12</td>\n",
       "      <td>Y</td>\n",
       "      <td>-1</td>\n",
       "      <td>-1</td>\n",
       "      <td>NaN</td>\n",
       "    </tr>\n",
       "    <tr>\n",
       "      <th>...</th>\n",
       "      <td>...</td>\n",
       "      <td>...</td>\n",
       "      <td>...</td>\n",
       "      <td>...</td>\n",
       "      <td>...</td>\n",
       "      <td>...</td>\n",
       "      <td>...</td>\n",
       "      <td>...</td>\n",
       "      <td>...</td>\n",
       "      <td>...</td>\n",
       "      <td>...</td>\n",
       "      <td>...</td>\n",
       "      <td>...</td>\n",
       "      <td>...</td>\n",
       "      <td>...</td>\n",
       "      <td>...</td>\n",
       "      <td>...</td>\n",
       "      <td>...</td>\n",
       "      <td>...</td>\n",
       "      <td>...</td>\n",
       "      <td>...</td>\n",
       "    </tr>\n",
       "    <tr>\n",
       "      <th>334691</th>\n",
       "      <td>M_ID_1f4773aa76</td>\n",
       "      <td>1145</td>\n",
       "      <td>705</td>\n",
       "      <td>33</td>\n",
       "      <td>3.173828</td>\n",
       "      <td>-0.047546</td>\n",
       "      <td>N</td>\n",
       "      <td>A</td>\n",
       "      <td>A</td>\n",
       "      <td>1.000000</td>\n",
       "      <td>...</td>\n",
       "      <td>0.990000</td>\n",
       "      <td>1.019505</td>\n",
       "      <td>6</td>\n",
       "      <td>1.000000</td>\n",
       "      <td>1.024796</td>\n",
       "      <td>12</td>\n",
       "      <td>Y</td>\n",
       "      <td>69</td>\n",
       "      <td>9</td>\n",
       "      <td>1.0</td>\n",
       "    </tr>\n",
       "    <tr>\n",
       "      <th>334692</th>\n",
       "      <td>M_ID_725a60d404</td>\n",
       "      <td>35</td>\n",
       "      <td>544</td>\n",
       "      <td>29</td>\n",
       "      <td>-0.057465</td>\n",
       "      <td>-0.057465</td>\n",
       "      <td>Y</td>\n",
       "      <td>A</td>\n",
       "      <td>A</td>\n",
       "      <td>0.890000</td>\n",
       "      <td>...</td>\n",
       "      <td>0.780000</td>\n",
       "      <td>0.813473</td>\n",
       "      <td>6</td>\n",
       "      <td>0.590000</td>\n",
       "      <td>0.606765</td>\n",
       "      <td>12</td>\n",
       "      <td>Y</td>\n",
       "      <td>-1</td>\n",
       "      <td>-1</td>\n",
       "      <td>NaN</td>\n",
       "    </tr>\n",
       "    <tr>\n",
       "      <th>334693</th>\n",
       "      <td>M_ID_f2045dd267</td>\n",
       "      <td>35</td>\n",
       "      <td>561</td>\n",
       "      <td>7</td>\n",
       "      <td>-0.057465</td>\n",
       "      <td>-0.057465</td>\n",
       "      <td>N</td>\n",
       "      <td>A</td>\n",
       "      <td>A</td>\n",
       "      <td>0.960000</td>\n",
       "      <td>...</td>\n",
       "      <td>0.900000</td>\n",
       "      <td>0.924769</td>\n",
       "      <td>6</td>\n",
       "      <td>0.740000</td>\n",
       "      <td>0.750763</td>\n",
       "      <td>8</td>\n",
       "      <td>Y</td>\n",
       "      <td>160</td>\n",
       "      <td>21</td>\n",
       "      <td>5.0</td>\n",
       "    </tr>\n",
       "    <tr>\n",
       "      <th>334694</th>\n",
       "      <td>M_ID_9139332ccc</td>\n",
       "      <td>35</td>\n",
       "      <td>511</td>\n",
       "      <td>7</td>\n",
       "      <td>-0.057465</td>\n",
       "      <td>-0.057465</td>\n",
       "      <td>Y</td>\n",
       "      <td>A</td>\n",
       "      <td>A</td>\n",
       "      <td>0.940000</td>\n",
       "      <td>...</td>\n",
       "      <td>0.820000</td>\n",
       "      <td>0.783000</td>\n",
       "      <td>6</td>\n",
       "      <td>0.650000</td>\n",
       "      <td>0.584000</td>\n",
       "      <td>12</td>\n",
       "      <td>Y</td>\n",
       "      <td>-1</td>\n",
       "      <td>-1</td>\n",
       "      <td>NaN</td>\n",
       "    </tr>\n",
       "    <tr>\n",
       "      <th>334695</th>\n",
       "      <td>M_ID_cd2c0b07e9</td>\n",
       "      <td>35</td>\n",
       "      <td>606</td>\n",
       "      <td>17</td>\n",
       "      <td>-0.057465</td>\n",
       "      <td>-0.057465</td>\n",
       "      <td>N</td>\n",
       "      <td>A</td>\n",
       "      <td>A</td>\n",
       "      <td>0.900000</td>\n",
       "      <td>...</td>\n",
       "      <td>0.730000</td>\n",
       "      <td>0.744417</td>\n",
       "      <td>6</td>\n",
       "      <td>0.530000</td>\n",
       "      <td>0.540334</td>\n",
       "      <td>10</td>\n",
       "      <td>Y</td>\n",
       "      <td>69</td>\n",
       "      <td>9</td>\n",
       "      <td>1.0</td>\n",
       "    </tr>\n",
       "  </tbody>\n",
       "</table>\n",
       "<p>334696 rows × 22 columns</p>\n",
       "</div>"
      ],
      "text/plain": [
       "            merchant_id  merchant_group_id  merchant_category_id  \\\n",
       "0       M_ID_838061e48c               8353                   792   \n",
       "1       M_ID_9339d880ad               3184                   840   \n",
       "2       M_ID_e726bbae1e                447                   690   \n",
       "3       M_ID_a70e9c5f81               5026                   792   \n",
       "4       M_ID_64456c37ce               2228                   222   \n",
       "...                 ...                ...                   ...   \n",
       "334691  M_ID_1f4773aa76               1145                   705   \n",
       "334692  M_ID_725a60d404                 35                   544   \n",
       "334693  M_ID_f2045dd267                 35                   561   \n",
       "334694  M_ID_9139332ccc                 35                   511   \n",
       "334695  M_ID_cd2c0b07e9                 35                   606   \n",
       "\n",
       "        subsector_id  numerical_1  numerical_2 category_1  \\\n",
       "0                  9    -0.057465    -0.057465          N   \n",
       "1                 20    -0.057465    -0.057465          N   \n",
       "2                  1    -0.057465    -0.057465          N   \n",
       "3                  9    -0.057465    -0.057465          Y   \n",
       "4                 21    -0.057465    -0.057465          Y   \n",
       "...              ...          ...          ...        ...   \n",
       "334691            33     3.173828    -0.047546          N   \n",
       "334692            29    -0.057465    -0.057465          Y   \n",
       "334693             7    -0.057465    -0.057465          N   \n",
       "334694             7    -0.057465    -0.057465          Y   \n",
       "334695            17    -0.057465    -0.057465          N   \n",
       "\n",
       "       most_recent_sales_range most_recent_purchases_range  avg_sales_lag3  \\\n",
       "0                            E                           E       -0.400000   \n",
       "1                            E                           E       -0.720000   \n",
       "2                            E                           E      -82.129997   \n",
       "3                            E                           E             NaN   \n",
       "4                            E                           E             NaN   \n",
       "...                        ...                         ...             ...   \n",
       "334691                       A                           A        1.000000   \n",
       "334692                       A                           A        0.890000   \n",
       "334693                       A                           A        0.960000   \n",
       "334694                       A                           A        0.940000   \n",
       "334695                       A                           A        0.900000   \n",
       "\n",
       "        ...  avg_sales_lag6  avg_purchases_lag6  active_months_lag6  \\\n",
       "0       ...       -2.250000           18.666667                   6   \n",
       "1       ...       -0.740000            1.291667                   6   \n",
       "2       ...      -82.129997          260.000000                   2   \n",
       "3       ...             NaN            4.666667                   6   \n",
       "4       ...             NaN            0.361111                   6   \n",
       "...     ...             ...                 ...                 ...   \n",
       "334691  ...        0.990000            1.019505                   6   \n",
       "334692  ...        0.780000            0.813473                   6   \n",
       "334693  ...        0.900000            0.924769                   6   \n",
       "334694  ...        0.820000            0.783000                   6   \n",
       "334695  ...        0.730000            0.744417                   6   \n",
       "\n",
       "        avg_sales_lag12  avg_purchases_lag12  active_months_lag12  category_4  \\\n",
       "0             -2.320000            13.916667                   12           N   \n",
       "1             -0.570000             1.687500                   12           N   \n",
       "2            -82.129997           260.000000                    2           N   \n",
       "3                   NaN             3.833333                   12           Y   \n",
       "4                   NaN             0.347222                   12           Y   \n",
       "...                 ...                  ...                  ...         ...   \n",
       "334691         1.000000             1.024796                   12           Y   \n",
       "334692         0.590000             0.606765                   12           Y   \n",
       "334693         0.740000             0.750763                    8           Y   \n",
       "334694         0.650000             0.584000                   12           Y   \n",
       "334695         0.530000             0.540334                   10           Y   \n",
       "\n",
       "        city_id state_id  category_2  \n",
       "0           242        9         1.0  \n",
       "1            22       16         1.0  \n",
       "2            -1        5         5.0  \n",
       "3            -1       -1         NaN  \n",
       "4            -1       -1         NaN  \n",
       "...         ...      ...         ...  \n",
       "334691       69        9         1.0  \n",
       "334692       -1       -1         NaN  \n",
       "334693      160       21         5.0  \n",
       "334694       -1       -1         NaN  \n",
       "334695       69        9         1.0  \n",
       "\n",
       "[334696 rows x 22 columns]"
      ]
     },
     "execution_count": 84,
     "metadata": {},
     "output_type": "execute_result"
    }
   ],
   "source": [
    "mer"
   ]
  },
  {
   "cell_type": "code",
   "execution_count": 85,
   "metadata": {
    "scrolled": true
   },
   "outputs": [
    {
     "name": "stdout",
     "output_type": "stream",
     "text": [
      "Missing values by features:\n"
     ]
    },
    {
     "data": {
      "text/plain": [
       "merchant_id                        0\n",
       "merchant_group_id                  0\n",
       "merchant_category_id               0\n",
       "subsector_id                       0\n",
       "numerical_1                        0\n",
       "numerical_2                        0\n",
       "category_1                         0\n",
       "most_recent_sales_range            0\n",
       "most_recent_purchases_range        0\n",
       "avg_sales_lag3                    13\n",
       "avg_purchases_lag3                 0\n",
       "active_months_lag3                 0\n",
       "avg_sales_lag6                    13\n",
       "avg_purchases_lag6                 0\n",
       "active_months_lag6                 0\n",
       "avg_sales_lag12                   13\n",
       "avg_purchases_lag12                0\n",
       "active_months_lag12                0\n",
       "category_4                         0\n",
       "city_id                            0\n",
       "state_id                           0\n",
       "category_2                     11887\n",
       "dtype: int64"
      ]
     },
     "execution_count": 85,
     "metadata": {},
     "output_type": "execute_result"
    }
   ],
   "source": [
    "print(\"Missing values by features:\")\n",
    "mer.isnull().sum(axis=0)"
   ]
  },
  {
   "cell_type": "markdown",
   "metadata": {},
   "source": [
    "#### Numerical Features"
   ]
  },
  {
   "cell_type": "code",
   "execution_count": 86,
   "metadata": {},
   "outputs": [
    {
     "data": {
      "image/png": "[encoded data removed]",
      "text/plain": [
       "<matplotlib.figure.Figure at 0x17f3493ca58>"
      ]
     },
     "metadata": {
      "needs_background": "light"
     },
     "output_type": "display_data"
    }
   ],
   "source": [
    "sns.distplot(mer['numerical_1'], color='red')\n",
    "plt.title('Distributions for anonymous numerical features')\n",
    "plt.show()"
   ]
  },
  {
   "cell_type": "code",
   "execution_count": 87,
   "metadata": {},
   "outputs": [
    {
     "data": {
      "image/png": "[encoded data removed]",
      "text/plain": [
       "<matplotlib.figure.Figure at 0x17f349352b0>"
      ]
     },
     "metadata": {
      "needs_background": "light"
     },
     "output_type": "display_data"
    }
   ],
   "source": [
    "sns.distplot(mer['numerical_2'], color='green')\n",
    "plt.title('Distributions for anonymous numerical features')\n",
    "plt.show()"
   ]
  },
  {
   "cell_type": "markdown",
   "metadata": {},
   "source": [
    "The numerical values were alrready normalized and it is anonymized, s not much information from this "
   ]
  },
  {
   "cell_type": "markdown",
   "metadata": {},
   "source": [
    "### anonymized categories"
   ]
  },
  {
   "cell_type": "code",
   "execution_count": 88,
   "metadata": {},
   "outputs": [
    {
     "data": {
      "image/png": "[encoded data removed]",
      "text/plain": [
       "<matplotlib.figure.Figure at 0x17f34930a90>"
      ]
     },
     "metadata": {
      "needs_background": "light"
     },
     "output_type": "display_data"
    }
   ],
   "source": [
    "cat1 = mer['category_1'].value_counts()\n",
    "cat1 = cat1.sort_index()\n",
    "plt.figure(figsize=(15,10))\n",
    "sns.barplot(x = cat1.index, y = cat1.values)\n",
    "plt.xlabel('Category 1', fontsize=12)\n",
    "plt.title(\"Category 1\")\n",
    "plt.show()"
   ]
  },
  {
   "cell_type": "code",
   "execution_count": 89,
   "metadata": {},
   "outputs": [
    {
     "data": {
      "image/png": "[encoded data removed]",
      "text/plain": [
       "<matplotlib.figure.Figure at 0x17f349302e8>"
      ]
     },
     "metadata": {
      "needs_background": "light"
     },
     "output_type": "display_data"
    }
   ],
   "source": [
    "cat2 = mer['category_2'].value_counts()\n",
    "cat2 = cat2.sort_index()\n",
    "plt.figure(figsize=(15,10))\n",
    "sns.barplot(x = cat2.index, y = cat2.values)\n",
    "plt.xlabel('Category 2', fontsize=12)\n",
    "plt.title(\"Category 2\")\n",
    "plt.show()"
   ]
  },
  {
   "cell_type": "code",
   "execution_count": 90,
   "metadata": {},
   "outputs": [
    {
     "data": {
      "image/png": "[encoded data removed]",
      "text/plain": [
       "<matplotlib.figure.Figure at 0x18103e0bb70>"
      ]
     },
     "metadata": {
      "needs_background": "light"
     },
     "output_type": "display_data"
    }
   ],
   "source": [
    "cat4 = mer['category_4'].value_counts()\n",
    "cat4 = cat4.sort_index()\n",
    "plt.figure(figsize=(15,10))\n",
    "sns.barplot(x = cat4.index, y = cat4.values)\n",
    "plt.xlabel('Category 4', fontsize=12)\n",
    "plt.title(\"Category 4\")\n",
    "plt.show()"
   ]
  },
  {
   "cell_type": "markdown",
   "metadata": {},
   "source": [
    "These are also an anonymized columns but this could help for machine learning algo but it doesnt give much info about merchants "
   ]
  },
  {
   "cell_type": "markdown",
   "metadata": {},
   "source": [
    "### Recent Sales and Active months"
   ]
  },
  {
   "cell_type": "code",
   "execution_count": 91,
   "metadata": {},
   "outputs": [
    {
     "data": {
      "text/plain": [
       "E    177104\n",
       "D    117475\n",
       "C     34075\n",
       "B      5037\n",
       "A      1005\n",
       "Name: most_recent_sales_range, dtype: int64"
      ]
     },
     "execution_count": 91,
     "metadata": {},
     "output_type": "execute_result"
    }
   ],
   "source": [
    "mer['most_recent_sales_range'].value_counts()"
   ]
  },
  {
   "cell_type": "markdown",
   "metadata": {},
   "source": [
    "E group did the most sales and A did the least"
   ]
  },
  {
   "cell_type": "code",
   "execution_count": 92,
   "metadata": {},
   "outputs": [
    {
     "data": {
      "text/plain": [
       "E    175309\n",
       "D    119187\n",
       "C     34144\n",
       "B      5046\n",
       "A      1010\n",
       "Name: most_recent_purchases_range, dtype: int64"
      ]
     },
     "execution_count": 92,
     "metadata": {},
     "output_type": "execute_result"
    }
   ],
   "source": [
    "mer['most_recent_purchases_range'].value_counts()"
   ]
  },
  {
   "cell_type": "markdown",
   "metadata": {},
   "source": [
    "The same here and its only logical that who ever did the most sale will have purchase(quantity of transactions) the most "
   ]
  },
  {
   "cell_type": "markdown",
   "metadata": {},
   "source": [
    "Quantity of active months within last 3 months"
   ]
  },
  {
   "cell_type": "code",
   "execution_count": 93,
   "metadata": {},
   "outputs": [
    {
     "data": {
      "image/png": "[encoded data removed]",
      "text/plain": [
       "<matplotlib.figure.Figure at 0x17f349309b0>"
      ]
     },
     "metadata": {
      "needs_background": "light"
     },
     "output_type": "display_data"
    }
   ],
   "source": [
    "act3 = mer['active_months_lag3'].value_counts()\n",
    "act3 = act3.sort_index()\n",
    "plt.figure(figsize=(15,10))\n",
    "sns.barplot(x = act3.index, y = act3.values)\n",
    "plt.xlabel('Active months 3', fontsize=12)\n",
    "plt.title(\"Active months 3\")\n",
    "plt.show()"
   ]
  },
  {
   "cell_type": "code",
   "execution_count": 94,
   "metadata": {},
   "outputs": [
    {
     "name": "stdout",
     "output_type": "stream",
     "text": [
      "3    333262\n",
      "2       896\n",
      "1       538\n",
      "Name: active_months_lag3, dtype: int64\n"
     ]
    }
   ],
   "source": [
    "print(mer['active_months_lag3'].value_counts())"
   ]
  },
  {
   "cell_type": "markdown",
   "metadata": {},
   "source": [
    "Most of the merchants were active during the last 3 months, this could mean a better loyalty score for those who were active and a bad loyalty score who weren't"
   ]
  },
  {
   "cell_type": "markdown",
   "metadata": {},
   "source": [
    "Quantity of active months within last 6 months"
   ]
  },
  {
   "cell_type": "code",
   "execution_count": 95,
   "metadata": {},
   "outputs": [
    {
     "data": {
      "image/png": "[encoded data removed]",
      "text/plain": [
       "<matplotlib.figure.Figure at 0x181046f2438>"
      ]
     },
     "metadata": {
      "needs_background": "light"
     },
     "output_type": "display_data"
    }
   ],
   "source": [
    "act6 = mer['active_months_lag6'].value_counts()\n",
    "act6 = act6.sort_index()\n",
    "plt.figure(figsize=(15,10))\n",
    "sns.barplot(x = act6.index, y = act6.values)\n",
    "plt.xlabel('Active months 6', fontsize=12)\n",
    "plt.title(\"Active months 6\")\n",
    "plt.show()"
   ]
  },
  {
   "cell_type": "code",
   "execution_count": 96,
   "metadata": {},
   "outputs": [
    {
     "name": "stdout",
     "output_type": "stream",
     "text": [
      "6    327284\n",
      "5      2276\n",
      "4      2050\n",
      "3      1652\n",
      "2       896\n",
      "1       538\n",
      "Name: active_months_lag6, dtype: int64\n"
     ]
    }
   ],
   "source": [
    "print(mer['active_months_lag6'].value_counts())"
   ]
  },
  {
   "cell_type": "markdown",
   "metadata": {},
   "source": [
    "Most of the merchants were active in the last 6 months which could lead to a better loyalty score compared to those who didn't have "
   ]
  },
  {
   "cell_type": "markdown",
   "metadata": {},
   "source": [
    "Quantity of active months in the last 12 months"
   ]
  },
  {
   "cell_type": "code",
   "execution_count": 97,
   "metadata": {},
   "outputs": [
    {
     "data": {
      "image/png": "[encoded data removed]",
      "text/plain": [
       "<matplotlib.figure.Figure at 0x18103dd43c8>"
      ]
     },
     "metadata": {
      "needs_background": "light"
     },
     "output_type": "display_data"
    }
   ],
   "source": [
    "act12 = mer['active_months_lag12'].value_counts()\n",
    "act12 = act12.sort_index()\n",
    "plt.figure(figsize=(15,10))\n",
    "sns.barplot(x = act12.index, y = act12.values)\n",
    "plt.xlabel('Active months 12', fontsize=12)\n",
    "plt.title(\"Active months 12\")\n",
    "plt.show()"
   ]
  },
  {
   "cell_type": "code",
   "execution_count": 98,
   "metadata": {},
   "outputs": [
    {
     "name": "stdout",
     "output_type": "stream",
     "text": [
      "12    305101\n",
      "11      4449\n",
      "10      4143\n",
      "9       3824\n",
      "8       3756\n",
      "7       3274\n",
      "6       2737\n",
      "5       2276\n",
      "4       2050\n",
      "3       1652\n",
      "2        896\n",
      "1        538\n",
      "Name: active_months_lag12, dtype: int64\n"
     ]
    }
   ],
   "source": [
    "print(mer['active_months_lag12'].value_counts())"
   ]
  },
  {
   "cell_type": "markdown",
   "metadata": {},
   "source": [
    "Roughly 90 percent of the merchants were active during the last 12 months so that would also lead to a better loyality score "
   ]
  },
  {
   "cell_type": "code",
   "execution_count": 99,
   "metadata": {},
   "outputs": [
    {
     "data": {
      "image/png": "[encoded data removed]",
      "text/plain": [
       "<matplotlib.figure.Figure at 0x17f34942cc0>"
      ]
     },
     "metadata": {
      "needs_background": "light"
     },
     "output_type": "display_data"
    }
   ],
   "source": [
    "most_r = mer['most_recent_sales_range'].value_counts()\n",
    "temp = most_r.sort_index()\n",
    "plt.figure(figsize=(15,10))\n",
    "sns.barplot(x = temp.index, y = temp.values)\n",
    "plt.xlabel('most recent sales range', fontsize=12)\n",
    "plt.title(\"most recent sales range\")\n",
    "plt.show()"
   ]
  },
  {
   "cell_type": "code",
   "execution_count": 100,
   "metadata": {},
   "outputs": [
    {
     "data": {
      "text/plain": [
       "Index(['merchant_id', 'merchant_group_id', 'merchant_category_id',\n",
       "       'subsector_id', 'numerical_1', 'numerical_2', 'category_1',\n",
       "       'most_recent_sales_range', 'most_recent_purchases_range',\n",
       "       'avg_sales_lag3', 'avg_purchases_lag3', 'active_months_lag3',\n",
       "       'avg_sales_lag6', 'avg_purchases_lag6', 'active_months_lag6',\n",
       "       'avg_sales_lag12', 'avg_purchases_lag12', 'active_months_lag12',\n",
       "       'category_4', 'city_id', 'state_id', 'category_2'],\n",
       "      dtype='object')"
      ]
     },
     "execution_count": 100,
     "metadata": {},
     "output_type": "execute_result"
    }
   ],
   "source": [
    "mer.columns"
   ]
  },
  {
   "cell_type": "code",
   "execution_count": 101,
   "metadata": {},
   "outputs": [
    {
     "data": {
      "image/png": "[encoded data removed]",
      "text/plain": [
       "<matplotlib.figure.Figure at 0x17f34885550>"
      ]
     },
     "metadata": {
      "needs_background": "light"
     },
     "output_type": "display_data"
    }
   ],
   "source": [
    "most_p = mer['most_recent_purchases_range'].value_counts()\n",
    "temp = most_p.sort_index()\n",
    "plt.figure(figsize=(15,10))\n",
    "sns.barplot(x = temp.index, y = temp.values)\n",
    "plt.xlabel('most recent sales range', fontsize=12)\n",
    "plt.title(\"most recent sales range\")\n",
    "plt.show()"
   ]
  },
  {
   "cell_type": "markdown",
   "metadata": {},
   "source": [
    "### Exploring the connections bettween the data \n"
   ]
  },
  {
   "cell_type": "code",
   "execution_count": 102,
   "metadata": {},
   "outputs": [],
   "source": [
    "#Refer:-https://github.com/alvarorgaz/Kaggle-Elo-Merchant-Category-Recommendation/blob/master/1.%20Exploratory%20Data%20Analysis%20(EDA).ipynb"
   ]
  },
  {
   "cell_type": "code",
   "execution_count": 103,
   "metadata": {},
   "outputs": [],
   "source": [
    "def isin(a,b):\n",
    "    From = pd.DataFrame(a)\n",
    "    To = pd.DataFrame(b)\n",
    "    return(np.mean(From[0].isin(To[0])))"
   ]
  },
  {
   "cell_type": "code",
   "execution_count": 104,
   "metadata": {},
   "outputs": [
    {
     "name": "stdout",
     "output_type": "stream",
     "text": [
      " In train and test with card ID 0.0\n",
      " In train and historical with card ID 1.0\n",
      " In train and Merchant with card ID 0.8913860645710862\n",
      " In Historical and test with card ID 1.0\n",
      " In New Merchant and test with card ID 0.8899233961317877\n",
      " In historical  and New Merchant with card ID 0.8908306198931006\n",
      " In historical  and  Merchant with merchant ID  0.9999969354482826\n",
      " In Merchant and New Merchant with merchant ID  0.6757522420084092\n",
      " In Train and New Merchant with Card ID  0.6206392391750374\n"
     ]
    }
   ],
   "source": [
    "print(\" In train and test with card ID\",isin(train[\"card_id\"].unique(),test[\"card_id\"].unique()))\n",
    "print(\" In train and historical with card ID\",isin(train[\"card_id\"].unique(),hist_df[\"card_id\"].unique()))\n",
    "print(\" In train and Merchant with card ID\",isin(train[\"card_id\"].unique(),new_merchant[\"card_id\"].unique()))\n",
    "print(\" In Historical and test with card ID\",isin(test[\"card_id\"].unique(),hist_df[\"card_id\"].unique()))\n",
    "print(\" In New Merchant and test with card ID\",isin(test[\"card_id\"].unique(),new_merchant[\"card_id\"].unique()))\n",
    "print(\" In historical  and New Merchant with card ID\",isin(hist_df[\"card_id\"].unique(),new_merchant[\"card_id\"].unique()))\n",
    "print(\" In historical  and  Merchant with merchant ID \",isin(hist_df[\"merchant_id\"].unique(),mer[\"merchant_id\"].unique()))\n",
    "print(\" In Merchant and New Merchant with merchant ID \",isin(mer[\"merchant_id\"].unique(),new_merchant[\"merchant_id\"].unique()))\n",
    "print(\" In Train and New Merchant with Card ID \",isin(new_merchant[\"card_id\"].unique(),train[\"card_id\"].unique()))"
   ]
  },
  {
   "cell_type": "markdown",
   "metadata": {},
   "source": [
    "### Null value in any of the dataframe "
   ]
  },
  {
   "cell_type": "code",
   "execution_count": 105,
   "metadata": {},
   "outputs": [
    {
     "name": "stdout",
     "output_type": "stream",
     "text": [
      "The null value present in authorized_flag feature of new_merchant is False\n",
      "The null value present in card_id feature of new_merchant is False\n",
      "The null value present in city_id feature of new_merchant is False\n",
      "The null value present in category_1 feature of new_merchant is False\n",
      "The null value present in installments feature of new_merchant is False\n",
      "The null value present in category_3 feature of new_merchant is False\n",
      "The null value present in merchant_category_id feature of new_merchant is False\n",
      "The null value present in merchant_id feature of new_merchant is True\n",
      "The null value present in month_lag feature of new_merchant is False\n",
      "The null value present in purchase_amount feature of new_merchant is False\n",
      "The null value present in purchase_date feature of new_merchant is False\n",
      "The null value present in category_2 feature of new_merchant is True\n",
      "The null value present in state_id feature of new_merchant is False\n",
      "The null value present in subsector_id feature of new_merchant is False\n"
     ]
    }
   ],
   "source": [
    "for i in new_merchant.columns:\n",
    "  print('The null value present in {} feature of new_merchant is {}'.format(i,new_merchant[i].isnull().any()))"
   ]
  },
  {
   "cell_type": "markdown",
   "metadata": {},
   "source": [
    "Merchant id and category 2"
   ]
  },
  {
   "cell_type": "code",
   "execution_count": 106,
   "metadata": {},
   "outputs": [
    {
     "name": "stdout",
     "output_type": "stream",
     "text": [
      "The null value present in first_active_month feature of train is False\n",
      "The null value present in card_id feature of train is False\n",
      "The null value present in feature_1 feature of train is False\n",
      "The null value present in feature_2 feature of train is False\n",
      "The null value present in feature_3 feature of train is False\n",
      "The null value present in target feature of train is False\n"
     ]
    }
   ],
   "source": [
    "for i in train.columns:\n",
    "  print('The null value present in {} feature of train is {}'.format(i,train[i].isnull().any()))"
   ]
  },
  {
   "cell_type": "code",
   "execution_count": 107,
   "metadata": {},
   "outputs": [
    {
     "name": "stdout",
     "output_type": "stream",
     "text": [
      "The null value present in authorized_flag feature of hist_df is False\n",
      "The null value present in card_id feature of hist_df is False\n",
      "The null value present in city_id feature of hist_df is False\n",
      "The null value present in category_1 feature of hist_df is False\n",
      "The null value present in installments feature of hist_df is False\n",
      "The null value present in category_3 feature of hist_df is False\n",
      "The null value present in merchant_category_id feature of hist_df is False\n",
      "The null value present in merchant_id feature of hist_df is True\n",
      "The null value present in month_lag feature of hist_df is False\n",
      "The null value present in purchase_amount feature of hist_df is False\n",
      "The null value present in purchase_date feature of hist_df is False\n",
      "The null value present in category_2 feature of hist_df is True\n",
      "The null value present in state_id feature of hist_df is False\n",
      "The null value present in subsector_id feature of hist_df is False\n"
     ]
    }
   ],
   "source": [
    "for i in hist_df.columns:\n",
    "  print('The null value present in {} feature of hist_df is {}'.format(i,hist_df[i].isnull().any()))"
   ]
  },
  {
   "cell_type": "markdown",
   "metadata": {},
   "source": [
    "Merchant id and category 2"
   ]
  },
  {
   "cell_type": "code",
   "execution_count": 108,
   "metadata": {},
   "outputs": [
    {
     "name": "stdout",
     "output_type": "stream",
     "text": [
      "The null value present in merchant_id feature of mer is False\n",
      "The null value present in merchant_group_id feature of mer is False\n",
      "The null value present in merchant_category_id feature of mer is False\n",
      "The null value present in subsector_id feature of mer is False\n",
      "The null value present in numerical_1 feature of mer is False\n",
      "The null value present in numerical_2 feature of mer is False\n",
      "The null value present in category_1 feature of mer is False\n",
      "The null value present in most_recent_sales_range feature of mer is False\n",
      "The null value present in most_recent_purchases_range feature of mer is False\n",
      "The null value present in avg_sales_lag3 feature of mer is True\n",
      "The null value present in avg_purchases_lag3 feature of mer is False\n",
      "The null value present in active_months_lag3 feature of mer is False\n",
      "The null value present in avg_sales_lag6 feature of mer is True\n",
      "The null value present in avg_purchases_lag6 feature of mer is False\n",
      "The null value present in active_months_lag6 feature of mer is False\n",
      "The null value present in avg_sales_lag12 feature of mer is True\n",
      "The null value present in avg_purchases_lag12 feature of mer is False\n",
      "The null value present in active_months_lag12 feature of mer is False\n",
      "The null value present in category_4 feature of mer is False\n",
      "The null value present in city_id feature of mer is False\n",
      "The null value present in state_id feature of mer is False\n",
      "The null value present in category_2 feature of mer is True\n"
     ]
    }
   ],
   "source": [
    "for i in mer.columns:\n",
    "  print('The null value present in {} feature of mer is {}'.format(i,mer[i].isnull().any()))"
   ]
  },
  {
   "cell_type": "markdown",
   "metadata": {},
   "source": [
    "avg_sales_lag3,avg_sales_lag6,avg_sales_lag12,category 2"
   ]
  },
  {
   "cell_type": "code",
   "execution_count": null,
   "metadata": {},
   "outputs": [],
   "source": []
  },
  {
   "cell_type": "code",
   "execution_count": null,
   "metadata": {},
   "outputs": [],
   "source": []
  },
  {
   "cell_type": "code",
   "execution_count": null,
   "metadata": {},
   "outputs": [],
   "source": []
  },
  {
   "cell_type": "code",
   "execution_count": null,
   "metadata": {},
   "outputs": [],
   "source": []
  },
  {
   "cell_type": "code",
   "execution_count": null,
   "metadata": {},
   "outputs": [],
   "source": []
  },
  {
   "cell_type": "code",
   "execution_count": null,
   "metadata": {},
   "outputs": [],
   "source": []
  },
  {
   "cell_type": "code",
   "execution_count": null,
   "metadata": {},
   "outputs": [],
   "source": []
  }
 ],
 "metadata": {
  "kernelspec": {
   "display_name": "elo",
   "language": "python",
   "name": "elo"
  },
  "language_info": {
   "codemirror_mode": {
    "name": "ipython",
    "version": 3
   },
   "file_extension": ".py",
   "mimetype": "text/x-python",
   "name": "python",
   "nbconvert_exporter": "python",
   "pygments_lexer": "ipython3",
   "version": "3.6.12"
  }
 },
 "nbformat": 4,
 "nbformat_minor": 2
}
