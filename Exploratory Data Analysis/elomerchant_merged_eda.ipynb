{
  "nbformat": 4,
  "nbformat_minor": 0,
  "metadata": {
    "colab": {
      "name": "elomerchant_merged_eda.ipynb",
      "provenance": [],
      "collapsed_sections": [],
      "machine_shape": "hm"
    },
    "kernelspec": {
      "display_name": "Python 3",
      "name": "python3"
    }
  },
  "cells": [
    {
      "cell_type": "markdown",
      "metadata": {
        "id": "Mn2Yd3ny7n8n"
      },
      "source": [
        "## Importing Libraries"
      ]
    },
    {
      "cell_type": "code",
      "metadata": {
        "id": "srmypVwjK2yc"
      },
      "source": [
        "import pandas as pd\n",
        "import numpy as np\n",
        "import seaborn as sns\n",
        "import matplotlib.pyplot as plt\n",
        "%matplotlib inline\n",
        "import gc\n",
        "import warnings\n",
        "warnings.filterwarnings('ignore')"
      ],
      "execution_count": 1,
      "outputs": []
    },
    {
      "cell_type": "markdown",
      "metadata": {
        "id": "9f-nrgtY7sHi"
      },
      "source": [
        "## Memory Optimization "
      ]
    },
    {
      "cell_type": "code",
      "metadata": {
        "id": "2LyyofnEK2u6"
      },
      "source": [
        "#https://www.kaggle.com/fabiendaniel/elo-world\n",
        "#Function to load data into pandas and reduce memory usage\n",
        "\n",
        "def reduce_mem_usage(df, verbose=True):\n",
        "    numerics = ['int16', 'int32', 'int64', 'float16', 'float32', 'float64']\n",
        "    start_mem = df.memory_usage().sum() / 1024**2    \n",
        "    #loop for alll the columns in the dataframe \n",
        "    for col in df.columns:\n",
        "        #get the datatype of the column\n",
        "        col_type = df[col].dtypes\n",
        "        #if the data type is numeric then only start changing the datatype\n",
        "        #as it isnt much helpful for other data types \n",
        "        if col_type in numerics:\n",
        "            #stores the min value of the column \n",
        "            c_min = df[col].min()\n",
        "            #stores the maximum value of the column\n",
        "            c_max = df[col].max()\n",
        "            #for int type numerics\n",
        "            if str(col_type)[:3] == 'int':\n",
        "                if c_min > np.iinfo(np.int8).min and c_max < np.iinfo(np.int8).max:\n",
        "                    df[col] = df[col].astype(np.int8)\n",
        "                elif c_min > np.iinfo(np.int16).min and c_max < np.iinfo(np.int16).max:\n",
        "                    df[col] = df[col].astype(np.int16)\n",
        "                elif c_min > np.iinfo(np.int32).min and c_max < np.iinfo(np.int32).max:\n",
        "                    df[col] = df[col].astype(np.int32)\n",
        "                elif c_min > np.iinfo(np.int64).min and c_max < np.iinfo(np.int64).max:\n",
        "                    df[col] = df[col].astype(np.int64)  \n",
        "            #for float type numerics \n",
        "            else:\n",
        "                if c_min > np.finfo(np.float16).min and c_max < np.finfo(np.float16).max:\n",
        "                    df[col] = df[col].astype(np.float16)\n",
        "                elif c_min > np.finfo(np.float32).min and c_max < np.finfo(np.float32).max:\n",
        "                    df[col] = df[col].astype(np.float32)\n",
        "                else:\n",
        "                    df[col] = df[col].astype(np.float64)    \n",
        "    end_mem = df.memory_usage().sum() / 1024**2\n",
        "    if verbose: print('Mem. usage decreased to {:5.2f} Mb ({:.1f}% reduction)'.format(end_mem, 100 * (start_mem - end_mem) / start_mem))\n",
        "    return df"
      ],
      "execution_count": 6,
      "outputs": []
    },
    {
      "cell_type": "code",
      "metadata": {
        "colab": {
          "base_uri": "https://localhost:8080/"
        },
        "id": "qxdeSyP8PahI",
        "outputId": "362eb57e-108b-4f55-913a-275783a37f11"
      },
      "source": [
        "from google.colab import drive\n",
        "drive.mount('/content/drive')"
      ],
      "execution_count": 3,
      "outputs": [
        {
          "output_type": "stream",
          "text": [
            "Drive already mounted at /content/drive; to attempt to forcibly remount, call drive.mount(\"/content/drive\", force_remount=True).\n"
          ],
          "name": "stdout"
        }
      ]
    },
    {
      "cell_type": "code",
      "metadata": {
        "colab": {
          "base_uri": "https://localhost:8080/"
        },
        "id": "DoO-w_9SPa8X",
        "outputId": "30b03395-6ef8-4e4a-a5f3-f73241d62676"
      },
      "source": [
        "%cd /content/drive/MyDrive/data "
      ],
      "execution_count": 7,
      "outputs": [
        {
          "output_type": "stream",
          "text": [
            "/content/drive/MyDrive/data\n"
          ],
          "name": "stdout"
        }
      ]
    },
    {
      "cell_type": "code",
      "metadata": {
        "colab": {
          "base_uri": "https://localhost:8080/"
        },
        "id": "EQhZnjR4PrRj",
        "outputId": "7035bc31-1322-4ae0-855a-45d2a3d6e228"
      },
      "source": [
        "ls"
      ],
      "execution_count": 8,
      "outputs": [
        {
          "output_type": "stream",
          "text": [
            "'Data Dictionary.xlsx'                      sample_submission.csv\n",
            " Data_Dictionary.xlsx                       test.csv\n",
            " historical_transactions.csv                train_aggregated_2.csv\n",
            " merchants.csv                              train_aggregated_3.csv\n",
            " merged_transactions_with_merchants_2.csv   train_aggregated_4.csv\n",
            " merged_transactions_with_merchants.csv     train.csv\n",
            " new_merchant_transactions.csv\n"
          ],
          "name": "stdout"
        }
      ]
    },
    {
      "cell_type": "markdown",
      "metadata": {
        "id": "cRr4Pm-R7vhe"
      },
      "source": [
        "## Loading dataframe"
      ]
    },
    {
      "cell_type": "code",
      "metadata": {
        "colab": {
          "base_uri": "https://localhost:8080/"
        },
        "id": "yofceoikPsGa",
        "outputId": "8d5a7423-9c9a-4cf2-a188-4121ccf2f1a1"
      },
      "source": [
        "historical_transactions = reduce_mem_usage(pd.read_csv('historical_transactions.csv'))\n",
        "new_merchant_transactions = reduce_mem_usage(pd.read_csv('new_merchant_transactions.csv'))\n",
        "merchants = reduce_mem_usage(pd.read_csv('merchants.csv'))"
      ],
      "execution_count": 9,
      "outputs": [
        {
          "output_type": "stream",
          "text": [
            "Mem. usage decreased to 1749.11 Mb (43.7% reduction)\n",
            "Mem. usage decreased to 114.20 Mb (45.5% reduction)\n",
            "Mem. usage decreased to 30.32 Mb (46.0% reduction)\n"
          ],
          "name": "stdout"
        }
      ]
    },
    {
      "cell_type": "code",
      "metadata": {
        "id": "tDgtAGNfP5gx"
      },
      "source": [
        "del new_merchant_transactions,merchants"
      ],
      "execution_count": 59,
      "outputs": []
    },
    {
      "cell_type": "code",
      "metadata": {
        "id": "GhxY56b9_v0H"
      },
      "source": [
        "new_merchant_transactions.to_csv('new_merchant_transactions')"
      ],
      "execution_count": 12,
      "outputs": []
    },
    {
      "cell_type": "code",
      "metadata": {
        "colab": {
          "base_uri": "https://localhost:8080/"
        },
        "id": "rqWGqlLFP4NL",
        "outputId": "3f5c6093-c48c-4e70-e3d8-d4778899f4bc"
      },
      "source": [
        "train = reduce_mem_usage(pd.read_csv('train.csv'))\n",
        "#test =  reduce_mem_usage(pd.read_csv('test.csv'))"
      ],
      "execution_count": 60,
      "outputs": [
        {
          "output_type": "stream",
          "text": [
            "Mem. usage decreased to  4.04 Mb (56.2% reduction)\n"
          ],
          "name": "stdout"
        }
      ]
    },
    {
      "cell_type": "markdown",
      "metadata": {
        "id": "ga1a5kgCvHuV"
      },
      "source": [
        "## Analysis"
      ]
    },
    {
      "cell_type": "code",
      "metadata": {
        "colab": {
          "base_uri": "https://localhost:8080/"
        },
        "id": "8cdL3HTL9Nt2",
        "outputId": "6ed229dd-db7e-4ed4-dba1-279ed3d55f06"
      },
      "source": [
        "historical_transactions.columns"
      ],
      "execution_count": 11,
      "outputs": [
        {
          "output_type": "execute_result",
          "data": {
            "text/plain": [
              "Index(['authorized_flag', 'card_id', 'city_id', 'category_1', 'installments',\n",
              "       'category_3', 'merchant_category_id', 'merchant_id', 'month_lag',\n",
              "       'purchase_amount', 'purchase_date', 'category_2', 'state_id',\n",
              "       'subsector_id'],\n",
              "      dtype='object')"
            ]
          },
          "metadata": {
            "tags": []
          },
          "execution_count": 11
        }
      ]
    },
    {
      "cell_type": "code",
      "metadata": {
        "colab": {
          "base_uri": "https://localhost:8080/"
        },
        "id": "Vw11-QIXAA38",
        "outputId": "4f7ba321-af90-40fe-a80e-88be82aac24b"
      },
      "source": [
        "merchants.columns"
      ],
      "execution_count": 13,
      "outputs": [
        {
          "output_type": "execute_result",
          "data": {
            "text/plain": [
              "Index(['merchant_id', 'merchant_group_id', 'merchant_category_id',\n",
              "       'subsector_id', 'numerical_1', 'numerical_2', 'category_1',\n",
              "       'most_recent_sales_range', 'most_recent_purchases_range',\n",
              "       'avg_sales_lag3', 'avg_purchases_lag3', 'active_months_lag3',\n",
              "       'avg_sales_lag6', 'avg_purchases_lag6', 'active_months_lag6',\n",
              "       'avg_sales_lag12', 'avg_purchases_lag12', 'active_months_lag12',\n",
              "       'category_4', 'city_id', 'state_id', 'category_2'],\n",
              "      dtype='object')"
            ]
          },
          "metadata": {
            "tags": []
          },
          "execution_count": 13
        }
      ]
    },
    {
      "cell_type": "code",
      "metadata": {
        "colab": {
          "base_uri": "https://localhost:8080/"
        },
        "id": "MaZCZZscAA1y",
        "outputId": "9d921a66-accd-498e-9d9d-5f6953a50e05"
      },
      "source": [
        "new_merchant_transactions.columns"
      ],
      "execution_count": 14,
      "outputs": [
        {
          "output_type": "execute_result",
          "data": {
            "text/plain": [
              "Index(['authorized_flag', 'card_id', 'city_id', 'category_1', 'installments',\n",
              "       'category_3', 'merchant_category_id', 'merchant_id', 'month_lag',\n",
              "       'purchase_amount', 'purchase_date', 'category_2', 'state_id',\n",
              "       'subsector_id'],\n",
              "      dtype='object')"
            ]
          },
          "metadata": {
            "tags": []
          },
          "execution_count": 14
        }
      ]
    },
    {
      "cell_type": "code",
      "metadata": {
        "colab": {
          "base_uri": "https://localhost:8080/"
        },
        "id": "KieMBotP9Nwn",
        "outputId": "391e9da9-fa32-4bf7-d0e0-c84cf6c31be9"
      },
      "source": [
        "for i in historical_transactions.columns:\n",
        "  print('The null value present in {} feature of historical_transactions is {}'.format(i,historical_transactions[i].isnull().any()))"
      ],
      "execution_count": 15,
      "outputs": [
        {
          "output_type": "stream",
          "text": [
            "The null value present in authorized_flag feature of historical_transactions is False\n",
            "The null value present in card_id feature of historical_transactions is False\n",
            "The null value present in city_id feature of historical_transactions is False\n",
            "The null value present in category_1 feature of historical_transactions is False\n",
            "The null value present in installments feature of historical_transactions is False\n",
            "The null value present in category_3 feature of historical_transactions is True\n",
            "The null value present in merchant_category_id feature of historical_transactions is False\n",
            "The null value present in merchant_id feature of historical_transactions is True\n",
            "The null value present in month_lag feature of historical_transactions is False\n",
            "The null value present in purchase_amount feature of historical_transactions is False\n",
            "The null value present in purchase_date feature of historical_transactions is False\n",
            "The null value present in category_2 feature of historical_transactions is True\n",
            "The null value present in state_id feature of historical_transactions is False\n",
            "The null value present in subsector_id feature of historical_transactions is False\n"
          ],
          "name": "stdout"
        }
      ]
    },
    {
      "cell_type": "code",
      "metadata": {
        "colab": {
          "base_uri": "https://localhost:8080/"
        },
        "id": "jVxCgjit9Nrb",
        "outputId": "e15f16b8-0f7e-4260-de18-ff1242d3cff3"
      },
      "source": [
        "for i in merchants.columns:\n",
        "  print('The null value present in {} feature of merchants is {}'.format(i,merchants[i].isnull().any()))"
      ],
      "execution_count": 16,
      "outputs": [
        {
          "output_type": "stream",
          "text": [
            "The null value present in merchant_id feature of merchants is False\n",
            "The null value present in merchant_group_id feature of merchants is False\n",
            "The null value present in merchant_category_id feature of merchants is False\n",
            "The null value present in subsector_id feature of merchants is False\n",
            "The null value present in numerical_1 feature of merchants is False\n",
            "The null value present in numerical_2 feature of merchants is False\n",
            "The null value present in category_1 feature of merchants is False\n",
            "The null value present in most_recent_sales_range feature of merchants is False\n",
            "The null value present in most_recent_purchases_range feature of merchants is False\n",
            "The null value present in avg_sales_lag3 feature of merchants is True\n",
            "The null value present in avg_purchases_lag3 feature of merchants is False\n",
            "The null value present in active_months_lag3 feature of merchants is False\n",
            "The null value present in avg_sales_lag6 feature of merchants is True\n",
            "The null value present in avg_purchases_lag6 feature of merchants is False\n",
            "The null value present in active_months_lag6 feature of merchants is False\n",
            "The null value present in avg_sales_lag12 feature of merchants is True\n",
            "The null value present in avg_purchases_lag12 feature of merchants is False\n",
            "The null value present in active_months_lag12 feature of merchants is False\n",
            "The null value present in category_4 feature of merchants is False\n",
            "The null value present in city_id feature of merchants is False\n",
            "The null value present in state_id feature of merchants is False\n",
            "The null value present in category_2 feature of merchants is True\n"
          ],
          "name": "stdout"
        }
      ]
    },
    {
      "cell_type": "code",
      "metadata": {
        "id": "8gBRH4vPApOt"
      },
      "source": [
        "#with the mean value \n",
        "merchants['avg_sales_lag3'] = merchants['avg_sales_lag3'].fillna(merchants['avg_sales_lag3'].mean())\n",
        "merchants['avg_sales_lag6'] = merchants['avg_sales_lag6'].fillna(merchants['avg_sales_lag6'].mean())\n",
        "merchants['avg_sales_lag12'] = merchants['avg_sales_lag12'].fillna(merchants['avg_sales_lag12'].mean())"
      ],
      "execution_count": 22,
      "outputs": []
    },
    {
      "cell_type": "code",
      "metadata": {
        "colab": {
          "base_uri": "https://localhost:8080/"
        },
        "id": "12ZwgShSCfms",
        "outputId": "14d923da-0c12-4556-8fa9-6de35c5525d3"
      },
      "source": [
        "for i in merchants.columns:\n",
        "  print('The null value present in {} feature of merchants is {}'.format(i,merchants[i].isnull().any()))"
      ],
      "execution_count": 23,
      "outputs": [
        {
          "output_type": "stream",
          "text": [
            "The null value present in merchant_id feature of merchants is False\n",
            "The null value present in merchant_group_id feature of merchants is False\n",
            "The null value present in merchant_category_id feature of merchants is False\n",
            "The null value present in subsector_id feature of merchants is False\n",
            "The null value present in numerical_1 feature of merchants is False\n",
            "The null value present in numerical_2 feature of merchants is False\n",
            "The null value present in category_1 feature of merchants is False\n",
            "The null value present in most_recent_sales_range feature of merchants is False\n",
            "The null value present in most_recent_purchases_range feature of merchants is False\n",
            "The null value present in avg_sales_lag3 feature of merchants is False\n",
            "The null value present in avg_purchases_lag3 feature of merchants is False\n",
            "The null value present in active_months_lag3 feature of merchants is False\n",
            "The null value present in avg_sales_lag6 feature of merchants is False\n",
            "The null value present in avg_purchases_lag6 feature of merchants is False\n",
            "The null value present in active_months_lag6 feature of merchants is False\n",
            "The null value present in avg_sales_lag12 feature of merchants is False\n",
            "The null value present in avg_purchases_lag12 feature of merchants is False\n",
            "The null value present in active_months_lag12 feature of merchants is False\n",
            "The null value present in category_4 feature of merchants is False\n",
            "The null value present in city_id feature of merchants is False\n",
            "The null value present in state_id feature of merchants is False\n",
            "The null value present in category_2 feature of merchants is True\n"
          ],
          "name": "stdout"
        }
      ]
    },
    {
      "cell_type": "code",
      "metadata": {
        "colab": {
          "base_uri": "https://localhost:8080/"
        },
        "id": "Sf9uZA2t_di_",
        "outputId": "cecf40a2-dfb6-4408-bac6-b90eb29ea3b7"
      },
      "source": [
        "for i in new_merchant_transactions.columns:\n",
        "  print('The null value present in {} feature of new_merchant_transactions is {}'.format(i,new_merchant_transactions[i].isnull().any()))"
      ],
      "execution_count": 17,
      "outputs": [
        {
          "output_type": "stream",
          "text": [
            "The null value present in authorized_flag feature of new_merchant_transactions is False\n",
            "The null value present in card_id feature of new_merchant_transactions is False\n",
            "The null value present in city_id feature of new_merchant_transactions is False\n",
            "The null value present in category_1 feature of new_merchant_transactions is False\n",
            "The null value present in installments feature of new_merchant_transactions is False\n",
            "The null value present in category_3 feature of new_merchant_transactions is True\n",
            "The null value present in merchant_category_id feature of new_merchant_transactions is False\n",
            "The null value present in merchant_id feature of new_merchant_transactions is True\n",
            "The null value present in month_lag feature of new_merchant_transactions is False\n",
            "The null value present in purchase_amount feature of new_merchant_transactions is False\n",
            "The null value present in purchase_date feature of new_merchant_transactions is False\n",
            "The null value present in category_2 feature of new_merchant_transactions is True\n",
            "The null value present in state_id feature of new_merchant_transactions is False\n",
            "The null value present in subsector_id feature of new_merchant_transactions is False\n"
          ],
          "name": "stdout"
        }
      ]
    },
    {
      "cell_type": "markdown",
      "metadata": {
        "id": "uVArMXxCCsqI"
      },
      "source": [
        "## Make merged dataframe "
      ]
    },
    {
      "cell_type": "code",
      "metadata": {
        "id": "OxUgzzUYCqB7"
      },
      "source": [
        "merchants = merchants[['merchant_id', \n",
        "       'most_recent_sales_range', 'most_recent_purchases_range',\n",
        "       'avg_sales_lag3', 'avg_purchases_lag3', 'active_months_lag3',\n",
        "       'avg_sales_lag6', 'avg_purchases_lag6', 'active_months_lag6',\n",
        "       'avg_sales_lag12', 'avg_purchases_lag12', 'active_months_lag12']]\n",
        "historical_transactions = historical_transactions[['authorized_flag', 'card_id', 'installments',\n",
        "       'merchant_id', 'month_lag',\n",
        "       'purchase_amount', 'purchase_date']]\n",
        "new_merchant_transactions = new_merchant_transactions[['authorized_flag', 'card_id','installments',\n",
        "        'merchant_id', 'month_lag',\n",
        "       'purchase_amount', 'purchase_date']]"
      ],
      "execution_count": 32,
      "outputs": []
    },
    {
      "cell_type": "code",
      "metadata": {
        "colab": {
          "base_uri": "https://localhost:8080/"
        },
        "id": "CPIqG_dMCqUh",
        "outputId": "51d1a420-6156-427b-901b-060dfec9f742"
      },
      "source": [
        "for i in merchants.columns:\n",
        "  print('The null value present in {} feature of merchants is {}'.format(i,merchants[i].isnull().any()))"
      ],
      "execution_count": 33,
      "outputs": [
        {
          "output_type": "stream",
          "text": [
            "The null value present in merchant_id feature of merchants is False\n",
            "The null value present in most_recent_sales_range feature of merchants is False\n",
            "The null value present in most_recent_purchases_range feature of merchants is False\n",
            "The null value present in avg_sales_lag3 feature of merchants is False\n",
            "The null value present in avg_purchases_lag3 feature of merchants is False\n",
            "The null value present in active_months_lag3 feature of merchants is False\n",
            "The null value present in avg_sales_lag6 feature of merchants is False\n",
            "The null value present in avg_purchases_lag6 feature of merchants is False\n",
            "The null value present in active_months_lag6 feature of merchants is False\n",
            "The null value present in avg_sales_lag12 feature of merchants is False\n",
            "The null value present in avg_purchases_lag12 feature of merchants is False\n",
            "The null value present in active_months_lag12 feature of merchants is False\n"
          ],
          "name": "stdout"
        }
      ]
    },
    {
      "cell_type": "code",
      "metadata": {
        "colab": {
          "base_uri": "https://localhost:8080/"
        },
        "id": "xTQutbiXCqbR",
        "outputId": "a85d3696-ceb9-474f-fc1a-25050ba62c03"
      },
      "source": [
        "for i in new_merchant_transactions.columns:\n",
        "  print('The null value present in {} feature of new_merchant_transactions is {}'.format(i,new_merchant_transactions[i].isnull().any()))"
      ],
      "execution_count": 34,
      "outputs": [
        {
          "output_type": "stream",
          "text": [
            "The null value present in authorized_flag feature of new_merchant_transactions is False\n",
            "The null value present in card_id feature of new_merchant_transactions is False\n",
            "The null value present in installments feature of new_merchant_transactions is False\n",
            "The null value present in merchant_id feature of new_merchant_transactions is True\n",
            "The null value present in month_lag feature of new_merchant_transactions is False\n",
            "The null value present in purchase_amount feature of new_merchant_transactions is False\n",
            "The null value present in purchase_date feature of new_merchant_transactions is False\n"
          ],
          "name": "stdout"
        }
      ]
    },
    {
      "cell_type": "code",
      "metadata": {
        "colab": {
          "base_uri": "https://localhost:8080/"
        },
        "id": "1ilp-tVtCqil",
        "outputId": "031d34f7-536f-422f-e7f8-5d65156dca7b"
      },
      "source": [
        "for i in historical_transactions.columns:\n",
        "  print('The null value present in {} feature of historical_transactions is {}'.format(i,historical_transactions[i].isnull().any()))"
      ],
      "execution_count": 35,
      "outputs": [
        {
          "output_type": "stream",
          "text": [
            "The null value present in authorized_flag feature of historical_transactions is False\n",
            "The null value present in card_id feature of historical_transactions is False\n",
            "The null value present in installments feature of historical_transactions is False\n",
            "The null value present in merchant_id feature of historical_transactions is True\n",
            "The null value present in month_lag feature of historical_transactions is False\n",
            "The null value present in purchase_amount feature of historical_transactions is False\n",
            "The null value present in purchase_date feature of historical_transactions is False\n"
          ],
          "name": "stdout"
        }
      ]
    },
    {
      "cell_type": "code",
      "metadata": {
        "id": "vI4_xG6vCqqL"
      },
      "source": [
        "def isin(a,b):\n",
        "    From = pd.DataFrame(a)\n",
        "    To = pd.DataFrame(b)\n",
        "    return(np.mean(From[0].isin(To[0])))"
      ],
      "execution_count": 36,
      "outputs": []
    },
    {
      "cell_type": "code",
      "metadata": {
        "colab": {
          "base_uri": "https://localhost:8080/"
        },
        "id": "R0Ys9xNNCqnJ",
        "outputId": "5c9c2cc4-74ea-4f11-82ff-ee0bc08e65c8"
      },
      "source": [
        "print(\" In train and test with card ID\",isin(train[\"card_id\"].unique(),test[\"card_id\"].unique()))\n",
        "#historical\n",
        "print(\" In train and historical_transactions with card ID\",isin(train[\"card_id\"].unique(),historical_transactions[\"card_id\"].unique()))\n",
        "print(\" In test and historical_transactions with card ID\",isin(test[\"card_id\"].unique(),historical_transactions[\"card_id\"].unique()))\n",
        "print(\" In new_merchant_transactions and historical_transactions with card ID\",isin(new_merchant_transactions[\"card_id\"].unique(),historical_transactions[\"card_id\"].unique()))\n",
        "print(\" In new_merchant_transactions and historical_transactions with Merchant ID\",isin(new_merchant_transactions[\"merchant_id\"].unique(),historical_transactions[\"merchant_id\"].unique()))\n",
        "print(\" In merchant and historical_transactions with Merchant ID\",isin(merchants[\"merchant_id\"].unique(),historical_transactions[\"merchant_id\"].unique()))\n",
        "#merchant\n",
        "print(\" In merchant and new_merchant_transactions with Merchant ID\",isin(merchants[\"merchant_id\"].unique(),new_merchant_transactions[\"merchant_id\"].unique()))\n",
        "#newmerchant\n",
        "print(\" In train and new_merchant_transactions with card ID\",isin(train[\"card_id\"].unique(),new_merchant_transactions[\"card_id\"].unique()))"
      ],
      "execution_count": 39,
      "outputs": [
        {
          "output_type": "stream",
          "text": [
            " In train and test with card ID 0.0\n",
            " In train and historical_transactions with card ID 1.0\n",
            " In test and historical_transactions with card ID 1.0\n",
            " In new_merchant_transactions and historical_transactions with card ID 1.0\n",
            " In new_merchant_transactions and historical_transactions with Merchant ID 0.963198160350241\n",
            " In merchant and historical_transactions with Merchant ID 0.9751309643699216\n",
            " In merchant and new_merchant_transactions with Merchant ID 0.6757522420084092\n",
            " In train and new_merchant_transactions with card ID 0.8913860645710862\n"
          ],
          "name": "stdout"
        }
      ]
    },
    {
      "cell_type": "code",
      "metadata": {
        "id": "fJxhQMQNCqmA"
      },
      "source": [
        "historical_transactions = historical_transactions.append(new_merchant_transactions, ignore_index=True)"
      ],
      "execution_count": 40,
      "outputs": []
    },
    {
      "cell_type": "code",
      "metadata": {
        "id": "CEVOAHOhCqfv"
      },
      "source": [
        "merged_transactions = pd.merge(historical_transactions, merchants, on='merchant_id', how='left')"
      ],
      "execution_count": 41,
      "outputs": []
    },
    {
      "cell_type": "code",
      "metadata": {
        "colab": {
          "base_uri": "https://localhost:8080/"
        },
        "id": "C69sCXN4CqeN",
        "outputId": "09fbcd04-336f-425f-e15e-9c63e2687e97"
      },
      "source": [
        "for i in historical_transactions.columns:\n",
        "  print('The null value present in {} feature of historical_transactions is {}'.format(i,historical_transactions[i].isnull().any()))"
      ],
      "execution_count": 43,
      "outputs": [
        {
          "output_type": "stream",
          "text": [
            "The null value present in authorized_flag feature of historical_transactions is False\n",
            "The null value present in card_id feature of historical_transactions is False\n",
            "The null value present in installments feature of historical_transactions is False\n",
            "The null value present in merchant_id feature of historical_transactions is True\n",
            "The null value present in month_lag feature of historical_transactions is False\n",
            "The null value present in purchase_amount feature of historical_transactions is False\n",
            "The null value present in purchase_date feature of historical_transactions is False\n"
          ],
          "name": "stdout"
        }
      ]
    },
    {
      "cell_type": "code",
      "metadata": {
        "colab": {
          "base_uri": "https://localhost:8080/"
        },
        "id": "BTWd0ZdPCqY5",
        "outputId": "5c73f3d9-7152-48a6-8d39-58b7dbdfd611"
      },
      "source": [
        "for i in merged_transactions.columns:\n",
        "  print('The null value present in {} feature of merged_transactions is {}'.format(i,merged_transactions[i].isnull().any()))"
      ],
      "execution_count": 42,
      "outputs": [
        {
          "output_type": "stream",
          "text": [
            "The null value present in authorized_flag feature of merged_transactions is False\n",
            "The null value present in card_id feature of merged_transactions is False\n",
            "The null value present in installments feature of merged_transactions is False\n",
            "The null value present in merchant_id feature of merged_transactions is True\n",
            "The null value present in month_lag feature of merged_transactions is False\n",
            "The null value present in purchase_amount feature of merged_transactions is False\n",
            "The null value present in purchase_date feature of merged_transactions is False\n",
            "The null value present in most_recent_sales_range feature of merged_transactions is True\n",
            "The null value present in most_recent_purchases_range feature of merged_transactions is True\n",
            "The null value present in avg_sales_lag3 feature of merged_transactions is True\n",
            "The null value present in avg_purchases_lag3 feature of merged_transactions is True\n",
            "The null value present in active_months_lag3 feature of merged_transactions is True\n",
            "The null value present in avg_sales_lag6 feature of merged_transactions is True\n",
            "The null value present in avg_purchases_lag6 feature of merged_transactions is True\n",
            "The null value present in active_months_lag6 feature of merged_transactions is True\n",
            "The null value present in avg_sales_lag12 feature of merged_transactions is True\n",
            "The null value present in avg_purchases_lag12 feature of merged_transactions is True\n",
            "The null value present in active_months_lag12 feature of merged_transactions is True\n"
          ],
          "name": "stdout"
        }
      ]
    },
    {
      "cell_type": "code",
      "metadata": {
        "colab": {
          "base_uri": "https://localhost:8080/",
          "height": 596
        },
        "id": "lsDjKUhCJskQ",
        "outputId": "0a5fada7-0951-4d21-92b0-1f2f14e49433"
      },
      "source": [
        "merged_transactions"
      ],
      "execution_count": 44,
      "outputs": [
        {
          "output_type": "execute_result",
          "data": {
            "text/html": [
              "<div>\n",
              "<style scoped>\n",
              "    .dataframe tbody tr th:only-of-type {\n",
              "        vertical-align: middle;\n",
              "    }\n",
              "\n",
              "    .dataframe tbody tr th {\n",
              "        vertical-align: top;\n",
              "    }\n",
              "\n",
              "    .dataframe thead th {\n",
              "        text-align: right;\n",
              "    }\n",
              "</style>\n",
              "<table border=\"1\" class=\"dataframe\">\n",
              "  <thead>\n",
              "    <tr style=\"text-align: right;\">\n",
              "      <th></th>\n",
              "      <th>authorized_flag</th>\n",
              "      <th>card_id</th>\n",
              "      <th>installments</th>\n",
              "      <th>merchant_id</th>\n",
              "      <th>month_lag</th>\n",
              "      <th>purchase_amount</th>\n",
              "      <th>purchase_date</th>\n",
              "      <th>most_recent_sales_range</th>\n",
              "      <th>most_recent_purchases_range</th>\n",
              "      <th>avg_sales_lag3</th>\n",
              "      <th>avg_purchases_lag3</th>\n",
              "      <th>active_months_lag3</th>\n",
              "      <th>avg_sales_lag6</th>\n",
              "      <th>avg_purchases_lag6</th>\n",
              "      <th>active_months_lag6</th>\n",
              "      <th>avg_sales_lag12</th>\n",
              "      <th>avg_purchases_lag12</th>\n",
              "      <th>active_months_lag12</th>\n",
              "    </tr>\n",
              "  </thead>\n",
              "  <tbody>\n",
              "    <tr>\n",
              "      <th>0</th>\n",
              "      <td>Y</td>\n",
              "      <td>C_ID_4e6213e9bc</td>\n",
              "      <td>0</td>\n",
              "      <td>M_ID_e020e9b302</td>\n",
              "      <td>-8</td>\n",
              "      <td>-0.703331</td>\n",
              "      <td>2017-06-25 15:33:07</td>\n",
              "      <td>A</td>\n",
              "      <td>A</td>\n",
              "      <td>1.08</td>\n",
              "      <td>1.082451</td>\n",
              "      <td>3.0</td>\n",
              "      <td>1.14</td>\n",
              "      <td>1.114135</td>\n",
              "      <td>6.0</td>\n",
              "      <td>1.19</td>\n",
              "      <td>1.156844</td>\n",
              "      <td>12.0</td>\n",
              "    </tr>\n",
              "    <tr>\n",
              "      <th>1</th>\n",
              "      <td>Y</td>\n",
              "      <td>C_ID_4e6213e9bc</td>\n",
              "      <td>0</td>\n",
              "      <td>M_ID_86ec983688</td>\n",
              "      <td>-7</td>\n",
              "      <td>-0.733128</td>\n",
              "      <td>2017-07-15 12:10:45</td>\n",
              "      <td>A</td>\n",
              "      <td>A</td>\n",
              "      <td>1.06</td>\n",
              "      <td>1.052071</td>\n",
              "      <td>3.0</td>\n",
              "      <td>1.06</td>\n",
              "      <td>1.058605</td>\n",
              "      <td>6.0</td>\n",
              "      <td>1.05</td>\n",
              "      <td>1.062087</td>\n",
              "      <td>12.0</td>\n",
              "    </tr>\n",
              "    <tr>\n",
              "      <th>2</th>\n",
              "      <td>Y</td>\n",
              "      <td>C_ID_4e6213e9bc</td>\n",
              "      <td>0</td>\n",
              "      <td>M_ID_979ed661fc</td>\n",
              "      <td>-6</td>\n",
              "      <td>-0.720386</td>\n",
              "      <td>2017-08-09 22:04:29</td>\n",
              "      <td>C</td>\n",
              "      <td>C</td>\n",
              "      <td>0.98</td>\n",
              "      <td>0.974653</td>\n",
              "      <td>3.0</td>\n",
              "      <td>0.98</td>\n",
              "      <td>0.967058</td>\n",
              "      <td>6.0</td>\n",
              "      <td>0.97</td>\n",
              "      <td>0.956668</td>\n",
              "      <td>12.0</td>\n",
              "    </tr>\n",
              "    <tr>\n",
              "      <th>3</th>\n",
              "      <td>Y</td>\n",
              "      <td>C_ID_4e6213e9bc</td>\n",
              "      <td>0</td>\n",
              "      <td>M_ID_e6d5ae8ea6</td>\n",
              "      <td>-5</td>\n",
              "      <td>-0.735352</td>\n",
              "      <td>2017-09-02 10:06:26</td>\n",
              "      <td>D</td>\n",
              "      <td>C</td>\n",
              "      <td>1.00</td>\n",
              "      <td>1.053443</td>\n",
              "      <td>3.0</td>\n",
              "      <td>0.88</td>\n",
              "      <td>0.897406</td>\n",
              "      <td>6.0</td>\n",
              "      <td>0.86</td>\n",
              "      <td>0.864394</td>\n",
              "      <td>12.0</td>\n",
              "    </tr>\n",
              "    <tr>\n",
              "      <th>4</th>\n",
              "      <td>Y</td>\n",
              "      <td>C_ID_4e6213e9bc</td>\n",
              "      <td>0</td>\n",
              "      <td>M_ID_e020e9b302</td>\n",
              "      <td>-11</td>\n",
              "      <td>-0.722865</td>\n",
              "      <td>2017-03-10 01:14:19</td>\n",
              "      <td>A</td>\n",
              "      <td>A</td>\n",
              "      <td>1.08</td>\n",
              "      <td>1.082451</td>\n",
              "      <td>3.0</td>\n",
              "      <td>1.14</td>\n",
              "      <td>1.114135</td>\n",
              "      <td>6.0</td>\n",
              "      <td>1.19</td>\n",
              "      <td>1.156844</td>\n",
              "      <td>12.0</td>\n",
              "    </tr>\n",
              "    <tr>\n",
              "      <th>...</th>\n",
              "      <td>...</td>\n",
              "      <td>...</td>\n",
              "      <td>...</td>\n",
              "      <td>...</td>\n",
              "      <td>...</td>\n",
              "      <td>...</td>\n",
              "      <td>...</td>\n",
              "      <td>...</td>\n",
              "      <td>...</td>\n",
              "      <td>...</td>\n",
              "      <td>...</td>\n",
              "      <td>...</td>\n",
              "      <td>...</td>\n",
              "      <td>...</td>\n",
              "      <td>...</td>\n",
              "      <td>...</td>\n",
              "      <td>...</td>\n",
              "      <td>...</td>\n",
              "    </tr>\n",
              "    <tr>\n",
              "      <th>32328670</th>\n",
              "      <td>Y</td>\n",
              "      <td>C_ID_1320dee851</td>\n",
              "      <td>0</td>\n",
              "      <td>M_ID_7754b67f3b</td>\n",
              "      <td>2</td>\n",
              "      <td>-0.701660</td>\n",
              "      <td>2018-04-06 14:36:52</td>\n",
              "      <td>E</td>\n",
              "      <td>D</td>\n",
              "      <td>1.28</td>\n",
              "      <td>1.156733</td>\n",
              "      <td>3.0</td>\n",
              "      <td>1.39</td>\n",
              "      <td>1.185430</td>\n",
              "      <td>6.0</td>\n",
              "      <td>1.45</td>\n",
              "      <td>1.172737</td>\n",
              "      <td>12.0</td>\n",
              "    </tr>\n",
              "    <tr>\n",
              "      <th>32328671</th>\n",
              "      <td>Y</td>\n",
              "      <td>C_ID_f112aa3381</td>\n",
              "      <td>0</td>\n",
              "      <td>M_ID_da063195b7</td>\n",
              "      <td>2</td>\n",
              "      <td>-0.694336</td>\n",
              "      <td>2018-03-07 13:19:18</td>\n",
              "      <td>D</td>\n",
              "      <td>D</td>\n",
              "      <td>0.98</td>\n",
              "      <td>0.972452</td>\n",
              "      <td>3.0</td>\n",
              "      <td>0.90</td>\n",
              "      <td>0.885124</td>\n",
              "      <td>6.0</td>\n",
              "      <td>0.88</td>\n",
              "      <td>0.875207</td>\n",
              "      <td>12.0</td>\n",
              "    </tr>\n",
              "    <tr>\n",
              "      <th>32328672</th>\n",
              "      <td>Y</td>\n",
              "      <td>C_ID_bd97b86450</td>\n",
              "      <td>1</td>\n",
              "      <td>M_ID_9a9ccb6544</td>\n",
              "      <td>1</td>\n",
              "      <td>-0.621094</td>\n",
              "      <td>2018-03-05 12:04:56</td>\n",
              "      <td>D</td>\n",
              "      <td>C</td>\n",
              "      <td>0.98</td>\n",
              "      <td>1.033403</td>\n",
              "      <td>3.0</td>\n",
              "      <td>1.01</td>\n",
              "      <td>1.042102</td>\n",
              "      <td>6.0</td>\n",
              "      <td>0.99</td>\n",
              "      <td>1.028358</td>\n",
              "      <td>12.0</td>\n",
              "    </tr>\n",
              "    <tr>\n",
              "      <th>32328673</th>\n",
              "      <td>Y</td>\n",
              "      <td>C_ID_c0513fd84f</td>\n",
              "      <td>0</td>\n",
              "      <td>M_ID_40c28d596f</td>\n",
              "      <td>1</td>\n",
              "      <td>-0.656738</td>\n",
              "      <td>2018-03-09 14:47:05</td>\n",
              "      <td>D</td>\n",
              "      <td>D</td>\n",
              "      <td>1.04</td>\n",
              "      <td>1.092105</td>\n",
              "      <td>3.0</td>\n",
              "      <td>0.94</td>\n",
              "      <td>1.052005</td>\n",
              "      <td>6.0</td>\n",
              "      <td>0.89</td>\n",
              "      <td>1.024682</td>\n",
              "      <td>12.0</td>\n",
              "    </tr>\n",
              "    <tr>\n",
              "      <th>32328674</th>\n",
              "      <td>Y</td>\n",
              "      <td>C_ID_a935410f8e</td>\n",
              "      <td>0</td>\n",
              "      <td>M_ID_d855771cd9</td>\n",
              "      <td>2</td>\n",
              "      <td>-0.739258</td>\n",
              "      <td>2018-04-11 07:59:46</td>\n",
              "      <td>A</td>\n",
              "      <td>A</td>\n",
              "      <td>1.15</td>\n",
              "      <td>1.150464</td>\n",
              "      <td>3.0</td>\n",
              "      <td>1.26</td>\n",
              "      <td>1.226926</td>\n",
              "      <td>6.0</td>\n",
              "      <td>1.30</td>\n",
              "      <td>1.270607</td>\n",
              "      <td>12.0</td>\n",
              "    </tr>\n",
              "  </tbody>\n",
              "</table>\n",
              "<p>32328675 rows × 18 columns</p>\n",
              "</div>"
            ],
            "text/plain": [
              "         authorized_flag  ... active_months_lag12\n",
              "0                      Y  ...                12.0\n",
              "1                      Y  ...                12.0\n",
              "2                      Y  ...                12.0\n",
              "3                      Y  ...                12.0\n",
              "4                      Y  ...                12.0\n",
              "...                  ...  ...                 ...\n",
              "32328670               Y  ...                12.0\n",
              "32328671               Y  ...                12.0\n",
              "32328672               Y  ...                12.0\n",
              "32328673               Y  ...                12.0\n",
              "32328674               Y  ...                12.0\n",
              "\n",
              "[32328675 rows x 18 columns]"
            ]
          },
          "metadata": {
            "tags": []
          },
          "execution_count": 44
        }
      ]
    },
    {
      "cell_type": "code",
      "metadata": {
        "id": "7riB1oIOJ2Dp"
      },
      "source": [
        "#with the mean value \n",
        "merged_transactions['avg_purchases_lag12'] = merged_transactions['avg_purchases_lag12'].fillna(merged_transactions['avg_purchases_lag12'].mean())\n",
        "merged_transactions['avg_sales_lag12'] = merged_transactions['avg_sales_lag12'].fillna(merged_transactions['avg_sales_lag12'].mean())\n",
        "merged_transactions['active_months_lag12'] = merged_transactions['active_months_lag12'].fillna(merged_transactions['active_months_lag12'].mean())\n",
        "#with the mean value \n",
        "merged_transactions['avg_sales_lag6'] = merged_transactions['avg_sales_lag6'].fillna(merged_transactions['avg_sales_lag6'].mean())\n",
        "merged_transactions['avg_purchases_lag6'] = merged_transactions['avg_purchases_lag6'].fillna(merged_transactions['avg_purchases_lag6'].mean())\n",
        "merged_transactions['active_months_lag6'] = merged_transactions['active_months_lag6'].fillna(merged_transactions['active_months_lag6'].mean())\n",
        "#with the mean value \n",
        "merged_transactions['avg_sales_lag3'] = merged_transactions['avg_sales_lag3'].fillna(merged_transactions['avg_sales_lag3'].mean())\n",
        "merged_transactions['avg_purchases_lag3'] = merged_transactions['avg_purchases_lag3'].fillna(merged_transactions['avg_purchases_lag3'].mean())\n",
        "merged_transactions['active_months_lag3'] = merged_transactions['active_months_lag3'].fillna(merged_transactions['active_months_lag3'].mean())"
      ],
      "execution_count": 47,
      "outputs": []
    },
    {
      "cell_type": "code",
      "metadata": {
        "id": "P3M0WIHKL9mY"
      },
      "source": [
        "#with the mean value \n",
        "merged_transactions['most_recent_sales_range'] = merged_transactions['most_recent_sales_range'].fillna(lambda x: pd.Series.mode(x)[0])\n",
        "merged_transactions['most_recent_purchases_range'] = merged_transactions['most_recent_purchases_range'].fillna(lambda x: pd.Series.mode(x)[0])"
      ],
      "execution_count": 48,
      "outputs": []
    },
    {
      "cell_type": "code",
      "metadata": {
        "colab": {
          "base_uri": "https://localhost:8080/"
        },
        "id": "JIjxF-PAJ2Mf",
        "outputId": "77a1edd4-54d9-4276-b47b-50ebbb86ceab"
      },
      "source": [
        "for i in merged_transactions.columns:\n",
        "  print('The null value present in {} feature of merged_transactions is {}'.format(i,merged_transactions[i].isnull().any()))"
      ],
      "execution_count": 49,
      "outputs": [
        {
          "output_type": "stream",
          "text": [
            "The null value present in authorized_flag feature of merged_transactions is False\n",
            "The null value present in card_id feature of merged_transactions is False\n",
            "The null value present in installments feature of merged_transactions is False\n",
            "The null value present in merchant_id feature of merged_transactions is True\n",
            "The null value present in month_lag feature of merged_transactions is False\n",
            "The null value present in purchase_amount feature of merged_transactions is False\n",
            "The null value present in purchase_date feature of merged_transactions is False\n",
            "The null value present in most_recent_sales_range feature of merged_transactions is False\n",
            "The null value present in most_recent_purchases_range feature of merged_transactions is False\n",
            "The null value present in avg_sales_lag3 feature of merged_transactions is False\n",
            "The null value present in avg_purchases_lag3 feature of merged_transactions is False\n",
            "The null value present in active_months_lag3 feature of merged_transactions is False\n",
            "The null value present in avg_sales_lag6 feature of merged_transactions is False\n",
            "The null value present in avg_purchases_lag6 feature of merged_transactions is False\n",
            "The null value present in active_months_lag6 feature of merged_transactions is False\n",
            "The null value present in avg_sales_lag12 feature of merged_transactions is False\n",
            "The null value present in avg_purchases_lag12 feature of merged_transactions is False\n",
            "The null value present in active_months_lag12 feature of merged_transactions is False\n"
          ],
          "name": "stdout"
        }
      ]
    },
    {
      "cell_type": "code",
      "metadata": {
        "id": "gJkW-af3CqSB"
      },
      "source": [
        "merged_transactions.to_csv('merged_transactions_with_merchants.csv')"
      ],
      "execution_count": 50,
      "outputs": []
    },
    {
      "cell_type": "code",
      "metadata": {
        "id": "T3qIn4i1OM-K"
      },
      "source": [
        "del merged_transactions"
      ],
      "execution_count": 51,
      "outputs": []
    },
    {
      "cell_type": "code",
      "metadata": {
        "colab": {
          "base_uri": "https://localhost:8080/"
        },
        "id": "aGxXU_1POBWe",
        "outputId": "f7d276af-b76c-4c5c-d7cc-67dc1dff21f1"
      },
      "source": [
        "merged_transactions =  reduce_mem_usage(pd.read_csv('merged_transactions_with_merchants.csv'))"
      ],
      "execution_count": 52,
      "outputs": [
        {
          "output_type": "stream",
          "text": [
            "Mem. usage decreased to 3113.93 Mb (33.6% reduction)\n"
          ],
          "name": "stdout"
        }
      ]
    },
    {
      "cell_type": "code",
      "metadata": {
        "id": "Zzgto1bwO7Ip"
      },
      "source": [
        "del historical_transactions,train,test"
      ],
      "execution_count": 53,
      "outputs": []
    },
    {
      "cell_type": "code",
      "metadata": {
        "colab": {
          "base_uri": "https://localhost:8080/",
          "height": 613
        },
        "id": "4D3h8wMLOalB",
        "outputId": "ba58b15e-ff36-4347-827f-be57b5037f42"
      },
      "source": [
        "merged_transactions"
      ],
      "execution_count": 54,
      "outputs": [
        {
          "output_type": "execute_result",
          "data": {
            "text/html": [
              "<div>\n",
              "<style scoped>\n",
              "    .dataframe tbody tr th:only-of-type {\n",
              "        vertical-align: middle;\n",
              "    }\n",
              "\n",
              "    .dataframe tbody tr th {\n",
              "        vertical-align: top;\n",
              "    }\n",
              "\n",
              "    .dataframe thead th {\n",
              "        text-align: right;\n",
              "    }\n",
              "</style>\n",
              "<table border=\"1\" class=\"dataframe\">\n",
              "  <thead>\n",
              "    <tr style=\"text-align: right;\">\n",
              "      <th></th>\n",
              "      <th>Unnamed: 0</th>\n",
              "      <th>authorized_flag</th>\n",
              "      <th>card_id</th>\n",
              "      <th>installments</th>\n",
              "      <th>merchant_id</th>\n",
              "      <th>month_lag</th>\n",
              "      <th>purchase_amount</th>\n",
              "      <th>purchase_date</th>\n",
              "      <th>most_recent_sales_range</th>\n",
              "      <th>most_recent_purchases_range</th>\n",
              "      <th>avg_sales_lag3</th>\n",
              "      <th>avg_purchases_lag3</th>\n",
              "      <th>active_months_lag3</th>\n",
              "      <th>avg_sales_lag6</th>\n",
              "      <th>avg_purchases_lag6</th>\n",
              "      <th>active_months_lag6</th>\n",
              "      <th>avg_sales_lag12</th>\n",
              "      <th>avg_purchases_lag12</th>\n",
              "      <th>active_months_lag12</th>\n",
              "    </tr>\n",
              "  </thead>\n",
              "  <tbody>\n",
              "    <tr>\n",
              "      <th>0</th>\n",
              "      <td>0</td>\n",
              "      <td>Y</td>\n",
              "      <td>C_ID_4e6213e9bc</td>\n",
              "      <td>0</td>\n",
              "      <td>M_ID_e020e9b302</td>\n",
              "      <td>-8</td>\n",
              "      <td>-0.703331</td>\n",
              "      <td>2017-06-25 15:33:07</td>\n",
              "      <td>A</td>\n",
              "      <td>A</td>\n",
              "      <td>1.08</td>\n",
              "      <td>1.082451</td>\n",
              "      <td>3.0</td>\n",
              "      <td>1.14</td>\n",
              "      <td>1.114135</td>\n",
              "      <td>6.0</td>\n",
              "      <td>1.19</td>\n",
              "      <td>1.156844</td>\n",
              "      <td>12.0</td>\n",
              "    </tr>\n",
              "    <tr>\n",
              "      <th>1</th>\n",
              "      <td>1</td>\n",
              "      <td>Y</td>\n",
              "      <td>C_ID_4e6213e9bc</td>\n",
              "      <td>0</td>\n",
              "      <td>M_ID_86ec983688</td>\n",
              "      <td>-7</td>\n",
              "      <td>-0.733128</td>\n",
              "      <td>2017-07-15 12:10:45</td>\n",
              "      <td>A</td>\n",
              "      <td>A</td>\n",
              "      <td>1.06</td>\n",
              "      <td>1.052071</td>\n",
              "      <td>3.0</td>\n",
              "      <td>1.06</td>\n",
              "      <td>1.058605</td>\n",
              "      <td>6.0</td>\n",
              "      <td>1.05</td>\n",
              "      <td>1.062087</td>\n",
              "      <td>12.0</td>\n",
              "    </tr>\n",
              "    <tr>\n",
              "      <th>2</th>\n",
              "      <td>2</td>\n",
              "      <td>Y</td>\n",
              "      <td>C_ID_4e6213e9bc</td>\n",
              "      <td>0</td>\n",
              "      <td>M_ID_979ed661fc</td>\n",
              "      <td>-6</td>\n",
              "      <td>-0.720386</td>\n",
              "      <td>2017-08-09 22:04:29</td>\n",
              "      <td>C</td>\n",
              "      <td>C</td>\n",
              "      <td>0.98</td>\n",
              "      <td>0.974653</td>\n",
              "      <td>3.0</td>\n",
              "      <td>0.98</td>\n",
              "      <td>0.967058</td>\n",
              "      <td>6.0</td>\n",
              "      <td>0.97</td>\n",
              "      <td>0.956668</td>\n",
              "      <td>12.0</td>\n",
              "    </tr>\n",
              "    <tr>\n",
              "      <th>3</th>\n",
              "      <td>3</td>\n",
              "      <td>Y</td>\n",
              "      <td>C_ID_4e6213e9bc</td>\n",
              "      <td>0</td>\n",
              "      <td>M_ID_e6d5ae8ea6</td>\n",
              "      <td>-5</td>\n",
              "      <td>-0.735352</td>\n",
              "      <td>2017-09-02 10:06:26</td>\n",
              "      <td>D</td>\n",
              "      <td>C</td>\n",
              "      <td>1.00</td>\n",
              "      <td>1.053443</td>\n",
              "      <td>3.0</td>\n",
              "      <td>0.88</td>\n",
              "      <td>0.897406</td>\n",
              "      <td>6.0</td>\n",
              "      <td>0.86</td>\n",
              "      <td>0.864394</td>\n",
              "      <td>12.0</td>\n",
              "    </tr>\n",
              "    <tr>\n",
              "      <th>4</th>\n",
              "      <td>4</td>\n",
              "      <td>Y</td>\n",
              "      <td>C_ID_4e6213e9bc</td>\n",
              "      <td>0</td>\n",
              "      <td>M_ID_e020e9b302</td>\n",
              "      <td>-11</td>\n",
              "      <td>-0.722865</td>\n",
              "      <td>2017-03-10 01:14:19</td>\n",
              "      <td>A</td>\n",
              "      <td>A</td>\n",
              "      <td>1.08</td>\n",
              "      <td>1.082451</td>\n",
              "      <td>3.0</td>\n",
              "      <td>1.14</td>\n",
              "      <td>1.114135</td>\n",
              "      <td>6.0</td>\n",
              "      <td>1.19</td>\n",
              "      <td>1.156844</td>\n",
              "      <td>12.0</td>\n",
              "    </tr>\n",
              "    <tr>\n",
              "      <th>...</th>\n",
              "      <td>...</td>\n",
              "      <td>...</td>\n",
              "      <td>...</td>\n",
              "      <td>...</td>\n",
              "      <td>...</td>\n",
              "      <td>...</td>\n",
              "      <td>...</td>\n",
              "      <td>...</td>\n",
              "      <td>...</td>\n",
              "      <td>...</td>\n",
              "      <td>...</td>\n",
              "      <td>...</td>\n",
              "      <td>...</td>\n",
              "      <td>...</td>\n",
              "      <td>...</td>\n",
              "      <td>...</td>\n",
              "      <td>...</td>\n",
              "      <td>...</td>\n",
              "      <td>...</td>\n",
              "    </tr>\n",
              "    <tr>\n",
              "      <th>32328670</th>\n",
              "      <td>32328670</td>\n",
              "      <td>Y</td>\n",
              "      <td>C_ID_1320dee851</td>\n",
              "      <td>0</td>\n",
              "      <td>M_ID_7754b67f3b</td>\n",
              "      <td>2</td>\n",
              "      <td>-0.701660</td>\n",
              "      <td>2018-04-06 14:36:52</td>\n",
              "      <td>E</td>\n",
              "      <td>D</td>\n",
              "      <td>1.28</td>\n",
              "      <td>1.156733</td>\n",
              "      <td>3.0</td>\n",
              "      <td>1.39</td>\n",
              "      <td>1.185430</td>\n",
              "      <td>6.0</td>\n",
              "      <td>1.45</td>\n",
              "      <td>1.172737</td>\n",
              "      <td>12.0</td>\n",
              "    </tr>\n",
              "    <tr>\n",
              "      <th>32328671</th>\n",
              "      <td>32328671</td>\n",
              "      <td>Y</td>\n",
              "      <td>C_ID_f112aa3381</td>\n",
              "      <td>0</td>\n",
              "      <td>M_ID_da063195b7</td>\n",
              "      <td>2</td>\n",
              "      <td>-0.694336</td>\n",
              "      <td>2018-03-07 13:19:18</td>\n",
              "      <td>D</td>\n",
              "      <td>D</td>\n",
              "      <td>0.98</td>\n",
              "      <td>0.972452</td>\n",
              "      <td>3.0</td>\n",
              "      <td>0.90</td>\n",
              "      <td>0.885124</td>\n",
              "      <td>6.0</td>\n",
              "      <td>0.88</td>\n",
              "      <td>0.875207</td>\n",
              "      <td>12.0</td>\n",
              "    </tr>\n",
              "    <tr>\n",
              "      <th>32328672</th>\n",
              "      <td>32328672</td>\n",
              "      <td>Y</td>\n",
              "      <td>C_ID_bd97b86450</td>\n",
              "      <td>1</td>\n",
              "      <td>M_ID_9a9ccb6544</td>\n",
              "      <td>1</td>\n",
              "      <td>-0.621094</td>\n",
              "      <td>2018-03-05 12:04:56</td>\n",
              "      <td>D</td>\n",
              "      <td>C</td>\n",
              "      <td>0.98</td>\n",
              "      <td>1.033403</td>\n",
              "      <td>3.0</td>\n",
              "      <td>1.01</td>\n",
              "      <td>1.042102</td>\n",
              "      <td>6.0</td>\n",
              "      <td>0.99</td>\n",
              "      <td>1.028358</td>\n",
              "      <td>12.0</td>\n",
              "    </tr>\n",
              "    <tr>\n",
              "      <th>32328673</th>\n",
              "      <td>32328673</td>\n",
              "      <td>Y</td>\n",
              "      <td>C_ID_c0513fd84f</td>\n",
              "      <td>0</td>\n",
              "      <td>M_ID_40c28d596f</td>\n",
              "      <td>1</td>\n",
              "      <td>-0.656738</td>\n",
              "      <td>2018-03-09 14:47:05</td>\n",
              "      <td>D</td>\n",
              "      <td>D</td>\n",
              "      <td>1.04</td>\n",
              "      <td>1.092105</td>\n",
              "      <td>3.0</td>\n",
              "      <td>0.94</td>\n",
              "      <td>1.052005</td>\n",
              "      <td>6.0</td>\n",
              "      <td>0.89</td>\n",
              "      <td>1.024682</td>\n",
              "      <td>12.0</td>\n",
              "    </tr>\n",
              "    <tr>\n",
              "      <th>32328674</th>\n",
              "      <td>32328674</td>\n",
              "      <td>Y</td>\n",
              "      <td>C_ID_a935410f8e</td>\n",
              "      <td>0</td>\n",
              "      <td>M_ID_d855771cd9</td>\n",
              "      <td>2</td>\n",
              "      <td>-0.739258</td>\n",
              "      <td>2018-04-11 07:59:46</td>\n",
              "      <td>A</td>\n",
              "      <td>A</td>\n",
              "      <td>1.15</td>\n",
              "      <td>1.150464</td>\n",
              "      <td>3.0</td>\n",
              "      <td>1.26</td>\n",
              "      <td>1.226926</td>\n",
              "      <td>6.0</td>\n",
              "      <td>1.30</td>\n",
              "      <td>1.270607</td>\n",
              "      <td>12.0</td>\n",
              "    </tr>\n",
              "  </tbody>\n",
              "</table>\n",
              "<p>32328675 rows × 19 columns</p>\n",
              "</div>"
            ],
            "text/plain": [
              "          Unnamed: 0 authorized_flag  ... avg_purchases_lag12  active_months_lag12\n",
              "0                  0               Y  ...            1.156844                 12.0\n",
              "1                  1               Y  ...            1.062087                 12.0\n",
              "2                  2               Y  ...            0.956668                 12.0\n",
              "3                  3               Y  ...            0.864394                 12.0\n",
              "4                  4               Y  ...            1.156844                 12.0\n",
              "...              ...             ...  ...                 ...                  ...\n",
              "32328670    32328670               Y  ...            1.172737                 12.0\n",
              "32328671    32328671               Y  ...            0.875207                 12.0\n",
              "32328672    32328672               Y  ...            1.028358                 12.0\n",
              "32328673    32328673               Y  ...            1.024682                 12.0\n",
              "32328674    32328674               Y  ...            1.270607                 12.0\n",
              "\n",
              "[32328675 rows x 19 columns]"
            ]
          },
          "metadata": {
            "tags": []
          },
          "execution_count": 54
        }
      ]
    },
    {
      "cell_type": "code",
      "metadata": {
        "colab": {
          "base_uri": "https://localhost:8080/"
        },
        "id": "DBNeoaLgWiC3",
        "outputId": "e379de06-ebb3-47ed-bc71-2ce5a26c4143"
      },
      "source": [
        "merged_transactions.avg_purchases_lag3.median()"
      ],
      "execution_count": 100,
      "outputs": [
        {
          "output_type": "execute_result",
          "data": {
            "text/plain": [
              "1.0278194"
            ]
          },
          "metadata": {
            "tags": []
          },
          "execution_count": 100
        }
      ]
    },
    {
      "cell_type": "code",
      "metadata": {
        "id": "dQ9wS_LeWqtV"
      },
      "source": [
        ""
      ],
      "execution_count": null,
      "outputs": []
    },
    {
      "cell_type": "code",
      "metadata": {
        "id": "ze108Ln-Wqv8"
      },
      "source": [
        ""
      ],
      "execution_count": null,
      "outputs": []
    },
    {
      "cell_type": "code",
      "metadata": {
        "id": "31Q9mvfjPgMo"
      },
      "source": [
        "#convert the yes and no to 1 and 0\n",
        "merged_transactions['authorized_flag'] = merged_transactions['authorized_flag'].apply(lambda x: 1 if x == 'Y' else 0)"
      ],
      "execution_count": 55,
      "outputs": []
    },
    {
      "cell_type": "code",
      "metadata": {
        "id": "GDqX3vx4Cp_S"
      },
      "source": [
        "merged_transactions_1 = merged_transactions.groupby('card_id', as_index=False)[['avg_sales_lag3', 'avg_purchases_lag3', 'active_months_lag3',\n",
        "       'avg_sales_lag6', 'avg_purchases_lag6', 'active_months_lag6',\n",
        "       'avg_sales_lag12', 'avg_purchases_lag12', 'active_months_lag12','installments','authorized_flag','month_lag']].mean()"
      ],
      "execution_count": 66,
      "outputs": []
    },
    {
      "cell_type": "code",
      "metadata": {
        "id": "kLd4AtSqJTzC"
      },
      "source": [
        "merged_transactions_2 = merged_transactions.groupby('card_id', as_index=False)[['most_recent_sales_range', 'most_recent_purchases_range']].agg(lambda x: pd.Series.mode(x)[0])"
      ],
      "execution_count": 67,
      "outputs": []
    },
    {
      "cell_type": "code",
      "metadata": {
        "colab": {
          "base_uri": "https://localhost:8080/",
          "height": 425
        },
        "id": "i1Tr5CKqJT26",
        "outputId": "1b5cffb9-58b4-4dbc-c7d5-63ef95f35bd9"
      },
      "source": [
        "train_aggregated = pd.merge(train, merged_transactions_1, on='card_id', how= 'left')\n",
        "train_aggregated = pd.merge(train_aggregated, merged_transactions_2, on='card_id', how= 'left')\n",
        "train_aggregated"
      ],
      "execution_count": 68,
      "outputs": [
        {
          "output_type": "execute_result",
          "data": {
            "text/html": [
              "<div>\n",
              "<style scoped>\n",
              "    .dataframe tbody tr th:only-of-type {\n",
              "        vertical-align: middle;\n",
              "    }\n",
              "\n",
              "    .dataframe tbody tr th {\n",
              "        vertical-align: top;\n",
              "    }\n",
              "\n",
              "    .dataframe thead th {\n",
              "        text-align: right;\n",
              "    }\n",
              "</style>\n",
              "<table border=\"1\" class=\"dataframe\">\n",
              "  <thead>\n",
              "    <tr style=\"text-align: right;\">\n",
              "      <th></th>\n",
              "      <th>first_active_month</th>\n",
              "      <th>card_id</th>\n",
              "      <th>feature_1</th>\n",
              "      <th>feature_2</th>\n",
              "      <th>feature_3</th>\n",
              "      <th>target</th>\n",
              "      <th>avg_sales_lag3</th>\n",
              "      <th>avg_purchases_lag3</th>\n",
              "      <th>active_months_lag3</th>\n",
              "      <th>avg_sales_lag6</th>\n",
              "      <th>avg_purchases_lag6</th>\n",
              "      <th>active_months_lag6</th>\n",
              "      <th>avg_sales_lag12</th>\n",
              "      <th>avg_purchases_lag12</th>\n",
              "      <th>active_months_lag12</th>\n",
              "      <th>installments</th>\n",
              "      <th>authorized_flag</th>\n",
              "      <th>month_lag</th>\n",
              "      <th>most_recent_sales_range</th>\n",
              "      <th>most_recent_purchases_range</th>\n",
              "    </tr>\n",
              "  </thead>\n",
              "  <tbody>\n",
              "    <tr>\n",
              "      <th>0</th>\n",
              "      <td>2017-06</td>\n",
              "      <td>C_ID_92a2005557</td>\n",
              "      <td>5</td>\n",
              "      <td>2</td>\n",
              "      <td>1</td>\n",
              "      <td>-0.820312</td>\n",
              "      <td>3.774948</td>\n",
              "      <td>inf</td>\n",
              "      <td>3.000000</td>\n",
              "      <td>9.014147</td>\n",
              "      <td>inf</td>\n",
              "      <td>5.996094</td>\n",
              "      <td>9.760918</td>\n",
              "      <td>inf</td>\n",
              "      <td>11.867188</td>\n",
              "      <td>0.013889</td>\n",
              "      <td>0.954861</td>\n",
              "      <td>-3.440972</td>\n",
              "      <td>C</td>\n",
              "      <td>A</td>\n",
              "    </tr>\n",
              "    <tr>\n",
              "      <th>1</th>\n",
              "      <td>2017-01</td>\n",
              "      <td>C_ID_3d0044924f</td>\n",
              "      <td>4</td>\n",
              "      <td>1</td>\n",
              "      <td>0</td>\n",
              "      <td>0.392822</td>\n",
              "      <td>1.220108</td>\n",
              "      <td>1.396565</td>\n",
              "      <td>3.000000</td>\n",
              "      <td>2.051779</td>\n",
              "      <td>4.167833</td>\n",
              "      <td>6.000000</td>\n",
              "      <td>2.203369</td>\n",
              "      <td>4.525698</td>\n",
              "      <td>11.859375</td>\n",
              "      <td>1.606469</td>\n",
              "      <td>0.970350</td>\n",
              "      <td>-4.814016</td>\n",
              "      <td>A</td>\n",
              "      <td>A</td>\n",
              "    </tr>\n",
              "    <tr>\n",
              "      <th>2</th>\n",
              "      <td>2016-08</td>\n",
              "      <td>C_ID_d639edf6cd</td>\n",
              "      <td>2</td>\n",
              "      <td>2</td>\n",
              "      <td>0</td>\n",
              "      <td>0.687988</td>\n",
              "      <td>1.141333</td>\n",
              "      <td>1.288235</td>\n",
              "      <td>3.000000</td>\n",
              "      <td>1.181556</td>\n",
              "      <td>1.377172</td>\n",
              "      <td>6.000000</td>\n",
              "      <td>1.193111</td>\n",
              "      <td>1.396253</td>\n",
              "      <td>11.843750</td>\n",
              "      <td>0.000000</td>\n",
              "      <td>0.955556</td>\n",
              "      <td>-8.444444</td>\n",
              "      <td>A</td>\n",
              "      <td>A</td>\n",
              "    </tr>\n",
              "    <tr>\n",
              "      <th>3</th>\n",
              "      <td>2017-09</td>\n",
              "      <td>C_ID_186d6a6901</td>\n",
              "      <td>4</td>\n",
              "      <td>3</td>\n",
              "      <td>0</td>\n",
              "      <td>0.142456</td>\n",
              "      <td>1.570312</td>\n",
              "      <td>2.127199</td>\n",
              "      <td>3.000000</td>\n",
              "      <td>1.694375</td>\n",
              "      <td>2.404358</td>\n",
              "      <td>6.000000</td>\n",
              "      <td>1.706979</td>\n",
              "      <td>2.438380</td>\n",
              "      <td>11.398438</td>\n",
              "      <td>1.072917</td>\n",
              "      <td>1.000000</td>\n",
              "      <td>-2.520833</td>\n",
              "      <td>A</td>\n",
              "      <td>A</td>\n",
              "    </tr>\n",
              "    <tr>\n",
              "      <th>4</th>\n",
              "      <td>2017-11</td>\n",
              "      <td>C_ID_cdbd2c0db2</td>\n",
              "      <td>1</td>\n",
              "      <td>3</td>\n",
              "      <td>0</td>\n",
              "      <td>-0.159790</td>\n",
              "      <td>3.048469</td>\n",
              "      <td>inf</td>\n",
              "      <td>3.000000</td>\n",
              "      <td>3.799761</td>\n",
              "      <td>inf</td>\n",
              "      <td>5.996094</td>\n",
              "      <td>3.884929</td>\n",
              "      <td>inf</td>\n",
              "      <td>11.687500</td>\n",
              "      <td>1.269663</td>\n",
              "      <td>0.971910</td>\n",
              "      <td>-0.691011</td>\n",
              "      <td>D</td>\n",
              "      <td>D</td>\n",
              "    </tr>\n",
              "    <tr>\n",
              "      <th>...</th>\n",
              "      <td>...</td>\n",
              "      <td>...</td>\n",
              "      <td>...</td>\n",
              "      <td>...</td>\n",
              "      <td>...</td>\n",
              "      <td>...</td>\n",
              "      <td>...</td>\n",
              "      <td>...</td>\n",
              "      <td>...</td>\n",
              "      <td>...</td>\n",
              "      <td>...</td>\n",
              "      <td>...</td>\n",
              "      <td>...</td>\n",
              "      <td>...</td>\n",
              "      <td>...</td>\n",
              "      <td>...</td>\n",
              "      <td>...</td>\n",
              "      <td>...</td>\n",
              "      <td>...</td>\n",
              "      <td>...</td>\n",
              "    </tr>\n",
              "    <tr>\n",
              "      <th>201912</th>\n",
              "      <td>2017-09</td>\n",
              "      <td>C_ID_963962de2c</td>\n",
              "      <td>3</td>\n",
              "      <td>2</td>\n",
              "      <td>1</td>\n",
              "      <td>-2.740234</td>\n",
              "      <td>2.289000</td>\n",
              "      <td>3.561794</td>\n",
              "      <td>3.000000</td>\n",
              "      <td>2.616333</td>\n",
              "      <td>4.248336</td>\n",
              "      <td>6.000000</td>\n",
              "      <td>2.626500</td>\n",
              "      <td>4.310101</td>\n",
              "      <td>10.914062</td>\n",
              "      <td>0.033333</td>\n",
              "      <td>0.900000</td>\n",
              "      <td>-1.716667</td>\n",
              "      <td>C</td>\n",
              "      <td>C</td>\n",
              "    </tr>\n",
              "    <tr>\n",
              "      <th>201913</th>\n",
              "      <td>2015-10</td>\n",
              "      <td>C_ID_1314773c0b</td>\n",
              "      <td>3</td>\n",
              "      <td>1</td>\n",
              "      <td>1</td>\n",
              "      <td>0.312988</td>\n",
              "      <td>1.099583</td>\n",
              "      <td>1.081125</td>\n",
              "      <td>2.958984</td>\n",
              "      <td>1.303125</td>\n",
              "      <td>1.247434</td>\n",
              "      <td>5.894531</td>\n",
              "      <td>1.706458</td>\n",
              "      <td>1.530759</td>\n",
              "      <td>11.773438</td>\n",
              "      <td>0.020833</td>\n",
              "      <td>0.854167</td>\n",
              "      <td>-3.770833</td>\n",
              "      <td>B</td>\n",
              "      <td>B</td>\n",
              "    </tr>\n",
              "    <tr>\n",
              "      <th>201914</th>\n",
              "      <td>2017-08</td>\n",
              "      <td>C_ID_7666735b3d</td>\n",
              "      <td>4</td>\n",
              "      <td>3</td>\n",
              "      <td>0</td>\n",
              "      <td>0.093506</td>\n",
              "      <td>1.747500</td>\n",
              "      <td>1.429029</td>\n",
              "      <td>3.000000</td>\n",
              "      <td>2.328261</td>\n",
              "      <td>1.647526</td>\n",
              "      <td>6.000000</td>\n",
              "      <td>2.454891</td>\n",
              "      <td>1.670208</td>\n",
              "      <td>11.859375</td>\n",
              "      <td>1.250000</td>\n",
              "      <td>0.934783</td>\n",
              "      <td>-3.608696</td>\n",
              "      <td>B</td>\n",
              "      <td>C</td>\n",
              "    </tr>\n",
              "    <tr>\n",
              "      <th>201915</th>\n",
              "      <td>2016-07</td>\n",
              "      <td>C_ID_73f5a0efd0</td>\n",
              "      <td>3</td>\n",
              "      <td>2</td>\n",
              "      <td>1</td>\n",
              "      <td>-4.675781</td>\n",
              "      <td>1.425151</td>\n",
              "      <td>1.799018</td>\n",
              "      <td>3.000000</td>\n",
              "      <td>1.553333</td>\n",
              "      <td>2.020075</td>\n",
              "      <td>6.000000</td>\n",
              "      <td>1.583030</td>\n",
              "      <td>2.057491</td>\n",
              "      <td>11.515625</td>\n",
              "      <td>0.000000</td>\n",
              "      <td>0.909091</td>\n",
              "      <td>-2.575758</td>\n",
              "      <td>A</td>\n",
              "      <td>A</td>\n",
              "    </tr>\n",
              "    <tr>\n",
              "      <th>201916</th>\n",
              "      <td>2017-07</td>\n",
              "      <td>C_ID_92c9984c58</td>\n",
              "      <td>3</td>\n",
              "      <td>1</td>\n",
              "      <td>1</td>\n",
              "      <td>-1.859375</td>\n",
              "      <td>1.232635</td>\n",
              "      <td>1.519436</td>\n",
              "      <td>3.000000</td>\n",
              "      <td>3.139662</td>\n",
              "      <td>8.243666</td>\n",
              "      <td>6.000000</td>\n",
              "      <td>3.303378</td>\n",
              "      <td>8.826887</td>\n",
              "      <td>11.796875</td>\n",
              "      <td>1.155405</td>\n",
              "      <td>0.885135</td>\n",
              "      <td>-4.628378</td>\n",
              "      <td>A</td>\n",
              "      <td>A</td>\n",
              "    </tr>\n",
              "  </tbody>\n",
              "</table>\n",
              "<p>201917 rows × 20 columns</p>\n",
              "</div>"
            ],
            "text/plain": [
              "       first_active_month  ... most_recent_purchases_range\n",
              "0                 2017-06  ...                           A\n",
              "1                 2017-01  ...                           A\n",
              "2                 2016-08  ...                           A\n",
              "3                 2017-09  ...                           A\n",
              "4                 2017-11  ...                           D\n",
              "...                   ...  ...                         ...\n",
              "201912            2017-09  ...                           C\n",
              "201913            2015-10  ...                           B\n",
              "201914            2017-08  ...                           C\n",
              "201915            2016-07  ...                           A\n",
              "201916            2017-07  ...                           A\n",
              "\n",
              "[201917 rows x 20 columns]"
            ]
          },
          "metadata": {
            "tags": []
          },
          "execution_count": 68
        }
      ]
    },
    {
      "cell_type": "code",
      "metadata": {
        "id": "42OAfCKUTzuV"
      },
      "source": [
        "train_aggregated['avg_purchases_lag3'] = train_aggregated['avg_purchases_lag3'].round()\n",
        "train_aggregated['avg_purchases_lag6'] = train_aggregated['avg_purchases_lag6'].round()\n",
        "train_aggregated['avg_purchases_lag12'] = train_aggregated['avg_purchases_lag12'].round()\n"
      ],
      "execution_count": 77,
      "outputs": []
    },
    {
      "cell_type": "code",
      "metadata": {
        "id": "jgHwWMlKWBYa"
      },
      "source": [
        "from numpy import inf"
      ],
      "execution_count": 88,
      "outputs": []
    },
    {
      "cell_type": "code",
      "metadata": {
        "id": "huukFZfjUl1w"
      },
      "source": [
        "train_aggregated['avg_purchases_lag3'] = train_aggregated['avg_purchases_lag3'].replace(inf, train_aggregated['avg_purchases_lag3'].median())\n",
        "train_aggregated['avg_purchases_lag6'] = train_aggregated['avg_purchases_lag6'].replace(inf, train_aggregated['avg_purchases_lag6'].median())\n",
        "train_aggregated['avg_purchases_lag12'] = train_aggregated['avg_purchases_lag12'].replace(inf, train_aggregated['avg_purchases_lag12'].median())"
      ],
      "execution_count": 101,
      "outputs": []
    },
    {
      "cell_type": "code",
      "metadata": {
        "colab": {
          "base_uri": "https://localhost:8080/"
        },
        "id": "VCZ9n5WTVw3M",
        "outputId": "9cea5c65-7840-4c05-c7b5-ec140ad2e162"
      },
      "source": [
        "train_aggregated.avg_purchases_lag12.max()"
      ],
      "execution_count": 102,
      "outputs": [
        {
          "output_type": "execute_result",
          "data": {
            "text/plain": [
              "12318.0"
            ]
          },
          "metadata": {
            "tags": []
          },
          "execution_count": 102
        }
      ]
    },
    {
      "cell_type": "code",
      "metadata": {
        "colab": {
          "base_uri": "https://localhost:8080/",
          "height": 425
        },
        "id": "cQ6CJYx1UgF9",
        "outputId": "8eef3f9f-fc16-4a7c-fd64-adcdbe2dcd08"
      },
      "source": [
        "train_aggregated"
      ],
      "execution_count": 103,
      "outputs": [
        {
          "output_type": "execute_result",
          "data": {
            "text/html": [
              "<div>\n",
              "<style scoped>\n",
              "    .dataframe tbody tr th:only-of-type {\n",
              "        vertical-align: middle;\n",
              "    }\n",
              "\n",
              "    .dataframe tbody tr th {\n",
              "        vertical-align: top;\n",
              "    }\n",
              "\n",
              "    .dataframe thead th {\n",
              "        text-align: right;\n",
              "    }\n",
              "</style>\n",
              "<table border=\"1\" class=\"dataframe\">\n",
              "  <thead>\n",
              "    <tr style=\"text-align: right;\">\n",
              "      <th></th>\n",
              "      <th>first_active_month</th>\n",
              "      <th>card_id</th>\n",
              "      <th>feature_1</th>\n",
              "      <th>feature_2</th>\n",
              "      <th>feature_3</th>\n",
              "      <th>target</th>\n",
              "      <th>avg_sales_lag3</th>\n",
              "      <th>avg_purchases_lag3</th>\n",
              "      <th>active_months_lag3</th>\n",
              "      <th>avg_sales_lag6</th>\n",
              "      <th>avg_purchases_lag6</th>\n",
              "      <th>active_months_lag6</th>\n",
              "      <th>avg_sales_lag12</th>\n",
              "      <th>avg_purchases_lag12</th>\n",
              "      <th>active_months_lag12</th>\n",
              "      <th>installments</th>\n",
              "      <th>authorized_flag</th>\n",
              "      <th>month_lag</th>\n",
              "      <th>most_recent_sales_range</th>\n",
              "      <th>most_recent_purchases_range</th>\n",
              "    </tr>\n",
              "  </thead>\n",
              "  <tbody>\n",
              "    <tr>\n",
              "      <th>0</th>\n",
              "      <td>2017-06</td>\n",
              "      <td>C_ID_92a2005557</td>\n",
              "      <td>5</td>\n",
              "      <td>2</td>\n",
              "      <td>1</td>\n",
              "      <td>-0.820312</td>\n",
              "      <td>3.774948</td>\n",
              "      <td>2.0</td>\n",
              "      <td>3.000000</td>\n",
              "      <td>9.014147</td>\n",
              "      <td>3.0</td>\n",
              "      <td>5.996094</td>\n",
              "      <td>9.760918</td>\n",
              "      <td>3.0</td>\n",
              "      <td>11.867188</td>\n",
              "      <td>0.013889</td>\n",
              "      <td>0.954861</td>\n",
              "      <td>-3.440972</td>\n",
              "      <td>C</td>\n",
              "      <td>A</td>\n",
              "    </tr>\n",
              "    <tr>\n",
              "      <th>1</th>\n",
              "      <td>2017-01</td>\n",
              "      <td>C_ID_3d0044924f</td>\n",
              "      <td>4</td>\n",
              "      <td>1</td>\n",
              "      <td>0</td>\n",
              "      <td>0.392822</td>\n",
              "      <td>1.220108</td>\n",
              "      <td>1.0</td>\n",
              "      <td>3.000000</td>\n",
              "      <td>2.051779</td>\n",
              "      <td>4.0</td>\n",
              "      <td>6.000000</td>\n",
              "      <td>2.203369</td>\n",
              "      <td>5.0</td>\n",
              "      <td>11.859375</td>\n",
              "      <td>1.606469</td>\n",
              "      <td>0.970350</td>\n",
              "      <td>-4.814016</td>\n",
              "      <td>A</td>\n",
              "      <td>A</td>\n",
              "    </tr>\n",
              "    <tr>\n",
              "      <th>2</th>\n",
              "      <td>2016-08</td>\n",
              "      <td>C_ID_d639edf6cd</td>\n",
              "      <td>2</td>\n",
              "      <td>2</td>\n",
              "      <td>0</td>\n",
              "      <td>0.687988</td>\n",
              "      <td>1.141333</td>\n",
              "      <td>1.0</td>\n",
              "      <td>3.000000</td>\n",
              "      <td>1.181556</td>\n",
              "      <td>1.0</td>\n",
              "      <td>6.000000</td>\n",
              "      <td>1.193111</td>\n",
              "      <td>1.0</td>\n",
              "      <td>11.843750</td>\n",
              "      <td>0.000000</td>\n",
              "      <td>0.955556</td>\n",
              "      <td>-8.444444</td>\n",
              "      <td>A</td>\n",
              "      <td>A</td>\n",
              "    </tr>\n",
              "    <tr>\n",
              "      <th>3</th>\n",
              "      <td>2017-09</td>\n",
              "      <td>C_ID_186d6a6901</td>\n",
              "      <td>4</td>\n",
              "      <td>3</td>\n",
              "      <td>0</td>\n",
              "      <td>0.142456</td>\n",
              "      <td>1.570312</td>\n",
              "      <td>2.0</td>\n",
              "      <td>3.000000</td>\n",
              "      <td>1.694375</td>\n",
              "      <td>2.0</td>\n",
              "      <td>6.000000</td>\n",
              "      <td>1.706979</td>\n",
              "      <td>2.0</td>\n",
              "      <td>11.398438</td>\n",
              "      <td>1.072917</td>\n",
              "      <td>1.000000</td>\n",
              "      <td>-2.520833</td>\n",
              "      <td>A</td>\n",
              "      <td>A</td>\n",
              "    </tr>\n",
              "    <tr>\n",
              "      <th>4</th>\n",
              "      <td>2017-11</td>\n",
              "      <td>C_ID_cdbd2c0db2</td>\n",
              "      <td>1</td>\n",
              "      <td>3</td>\n",
              "      <td>0</td>\n",
              "      <td>-0.159790</td>\n",
              "      <td>3.048469</td>\n",
              "      <td>2.0</td>\n",
              "      <td>3.000000</td>\n",
              "      <td>3.799761</td>\n",
              "      <td>3.0</td>\n",
              "      <td>5.996094</td>\n",
              "      <td>3.884929</td>\n",
              "      <td>3.0</td>\n",
              "      <td>11.687500</td>\n",
              "      <td>1.269663</td>\n",
              "      <td>0.971910</td>\n",
              "      <td>-0.691011</td>\n",
              "      <td>D</td>\n",
              "      <td>D</td>\n",
              "    </tr>\n",
              "    <tr>\n",
              "      <th>...</th>\n",
              "      <td>...</td>\n",
              "      <td>...</td>\n",
              "      <td>...</td>\n",
              "      <td>...</td>\n",
              "      <td>...</td>\n",
              "      <td>...</td>\n",
              "      <td>...</td>\n",
              "      <td>...</td>\n",
              "      <td>...</td>\n",
              "      <td>...</td>\n",
              "      <td>...</td>\n",
              "      <td>...</td>\n",
              "      <td>...</td>\n",
              "      <td>...</td>\n",
              "      <td>...</td>\n",
              "      <td>...</td>\n",
              "      <td>...</td>\n",
              "      <td>...</td>\n",
              "      <td>...</td>\n",
              "      <td>...</td>\n",
              "    </tr>\n",
              "    <tr>\n",
              "      <th>201912</th>\n",
              "      <td>2017-09</td>\n",
              "      <td>C_ID_963962de2c</td>\n",
              "      <td>3</td>\n",
              "      <td>2</td>\n",
              "      <td>1</td>\n",
              "      <td>-2.740234</td>\n",
              "      <td>2.289000</td>\n",
              "      <td>4.0</td>\n",
              "      <td>3.000000</td>\n",
              "      <td>2.616333</td>\n",
              "      <td>4.0</td>\n",
              "      <td>6.000000</td>\n",
              "      <td>2.626500</td>\n",
              "      <td>4.0</td>\n",
              "      <td>10.914062</td>\n",
              "      <td>0.033333</td>\n",
              "      <td>0.900000</td>\n",
              "      <td>-1.716667</td>\n",
              "      <td>C</td>\n",
              "      <td>C</td>\n",
              "    </tr>\n",
              "    <tr>\n",
              "      <th>201913</th>\n",
              "      <td>2015-10</td>\n",
              "      <td>C_ID_1314773c0b</td>\n",
              "      <td>3</td>\n",
              "      <td>1</td>\n",
              "      <td>1</td>\n",
              "      <td>0.312988</td>\n",
              "      <td>1.099583</td>\n",
              "      <td>1.0</td>\n",
              "      <td>2.958984</td>\n",
              "      <td>1.303125</td>\n",
              "      <td>1.0</td>\n",
              "      <td>5.894531</td>\n",
              "      <td>1.706458</td>\n",
              "      <td>2.0</td>\n",
              "      <td>11.773438</td>\n",
              "      <td>0.020833</td>\n",
              "      <td>0.854167</td>\n",
              "      <td>-3.770833</td>\n",
              "      <td>B</td>\n",
              "      <td>B</td>\n",
              "    </tr>\n",
              "    <tr>\n",
              "      <th>201914</th>\n",
              "      <td>2017-08</td>\n",
              "      <td>C_ID_7666735b3d</td>\n",
              "      <td>4</td>\n",
              "      <td>3</td>\n",
              "      <td>0</td>\n",
              "      <td>0.093506</td>\n",
              "      <td>1.747500</td>\n",
              "      <td>1.0</td>\n",
              "      <td>3.000000</td>\n",
              "      <td>2.328261</td>\n",
              "      <td>2.0</td>\n",
              "      <td>6.000000</td>\n",
              "      <td>2.454891</td>\n",
              "      <td>2.0</td>\n",
              "      <td>11.859375</td>\n",
              "      <td>1.250000</td>\n",
              "      <td>0.934783</td>\n",
              "      <td>-3.608696</td>\n",
              "      <td>B</td>\n",
              "      <td>C</td>\n",
              "    </tr>\n",
              "    <tr>\n",
              "      <th>201915</th>\n",
              "      <td>2016-07</td>\n",
              "      <td>C_ID_73f5a0efd0</td>\n",
              "      <td>3</td>\n",
              "      <td>2</td>\n",
              "      <td>1</td>\n",
              "      <td>-4.675781</td>\n",
              "      <td>1.425151</td>\n",
              "      <td>2.0</td>\n",
              "      <td>3.000000</td>\n",
              "      <td>1.553333</td>\n",
              "      <td>2.0</td>\n",
              "      <td>6.000000</td>\n",
              "      <td>1.583030</td>\n",
              "      <td>2.0</td>\n",
              "      <td>11.515625</td>\n",
              "      <td>0.000000</td>\n",
              "      <td>0.909091</td>\n",
              "      <td>-2.575758</td>\n",
              "      <td>A</td>\n",
              "      <td>A</td>\n",
              "    </tr>\n",
              "    <tr>\n",
              "      <th>201916</th>\n",
              "      <td>2017-07</td>\n",
              "      <td>C_ID_92c9984c58</td>\n",
              "      <td>3</td>\n",
              "      <td>1</td>\n",
              "      <td>1</td>\n",
              "      <td>-1.859375</td>\n",
              "      <td>1.232635</td>\n",
              "      <td>2.0</td>\n",
              "      <td>3.000000</td>\n",
              "      <td>3.139662</td>\n",
              "      <td>8.0</td>\n",
              "      <td>6.000000</td>\n",
              "      <td>3.303378</td>\n",
              "      <td>9.0</td>\n",
              "      <td>11.796875</td>\n",
              "      <td>1.155405</td>\n",
              "      <td>0.885135</td>\n",
              "      <td>-4.628378</td>\n",
              "      <td>A</td>\n",
              "      <td>A</td>\n",
              "    </tr>\n",
              "  </tbody>\n",
              "</table>\n",
              "<p>201917 rows × 20 columns</p>\n",
              "</div>"
            ],
            "text/plain": [
              "       first_active_month  ... most_recent_purchases_range\n",
              "0                 2017-06  ...                           A\n",
              "1                 2017-01  ...                           A\n",
              "2                 2016-08  ...                           A\n",
              "3                 2017-09  ...                           A\n",
              "4                 2017-11  ...                           D\n",
              "...                   ...  ...                         ...\n",
              "201912            2017-09  ...                           C\n",
              "201913            2015-10  ...                           B\n",
              "201914            2017-08  ...                           C\n",
              "201915            2016-07  ...                           A\n",
              "201916            2017-07  ...                           A\n",
              "\n",
              "[201917 rows x 20 columns]"
            ]
          },
          "metadata": {
            "tags": []
          },
          "execution_count": 103
        }
      ]
    },
    {
      "cell_type": "code",
      "metadata": {
        "id": "VTKYUoHkYIoK"
      },
      "source": [
        "train_aggregated['active_months_lag3'] = train_aggregated['active_months_lag3'].round(0)\n",
        "train_aggregated['active_months_lag6'] = train_aggregated['active_months_lag6'].round(0)\n",
        "train_aggregated['active_months_lag12'] = train_aggregated['active_months_lag12'].round(0)\n"
      ],
      "execution_count": 107,
      "outputs": []
    },
    {
      "cell_type": "code",
      "metadata": {
        "colab": {
          "base_uri": "https://localhost:8080/",
          "height": 678
        },
        "id": "ExgYYx2yVBGr",
        "outputId": "4c4b9396-e7a3-4cb6-c7cf-ec169c041634"
      },
      "source": [
        "#refer for multiple plots:-https://matplotlib.org/devdocs/gallery/subplots_axes_and_figures/subplots_demo.html\n",
        "fig, ax = plt.subplots(1,3, figsize = (15,10))\n",
        "sns.boxplot(x=train_aggregated['active_months_lag3'], y=train_aggregated['target'], ax = ax[0])\n",
        "sns.boxplot(x=train_aggregated['active_months_lag6'], y=train_aggregated['target'], ax = ax[1])\n",
        "sns.boxplot(x=train_aggregated['active_months_lag12'], y=train_aggregated['target'], ax = ax[2])\n",
        "plt.suptitle('Active Months lag against loyalty scores', fontsize = 20)\n",
        "plt.show()"
      ],
      "execution_count": 108,
      "outputs": [
        {
          "output_type": "display_data",
          "data": {
            "image/png": "[encoded data removed]",
            "text/plain": [
              "<Figure size 1080x720 with 3 Axes>"
            ]
          },
          "metadata": {
            "tags": [],
            "needs_background": "light"
          }
        }
      ]
    },
    {
      "cell_type": "markdown",
      "metadata": {
        "id": "6ieo803_WNwV"
      },
      "source": [
        "Cards with less number of active months have a lower score \n"
      ]
    },
    {
      "cell_type": "code",
      "metadata": {
        "colab": {
          "base_uri": "https://localhost:8080/",
          "height": 678
        },
        "id": "Ym-Qe4vUVCID",
        "outputId": "8b7e261d-b3f1-4d13-b660-148621d2b4a6"
      },
      "source": [
        "fig, ax = plt.subplots(1,2, figsize = (15,10))\n",
        "sns.violinplot(x=train_aggregated['most_recent_sales_range'], y=train_aggregated['target'], ax = ax[0])\n",
        "sns.violinplot(x=train_aggregated['most_recent_purchases_range'], y=train_aggregated['target'], ax = ax[1])\n",
        "plt.suptitle('Recent Sales and purchases  against loyalty scores', fontsize = 20)\n",
        "plt.show()"
      ],
      "execution_count": 70,
      "outputs": [
        {
          "output_type": "display_data",
          "data": {
            "image/png": "[encoded data removed]",
            "text/plain": [
              "<Figure size 1080x720 with 2 Axes>"
            ]
          },
          "metadata": {
            "tags": [],
            "needs_background": "light"
          }
        }
      ]
    },
    {
      "cell_type": "markdown",
      "metadata": {
        "id": "DyILrpKnve5n"
      },
      "source": [
        "Most recent sales and purchases has no visible difference for predicting loyality scores but may be the algorithms fiinds it helpful"
      ]
    },
    {
      "cell_type": "code",
      "metadata": {
        "colab": {
          "base_uri": "https://localhost:8080/",
          "height": 678
        },
        "id": "xdrV8RBS4JPA",
        "outputId": "a3793db8-d954-4f9c-aaed-2eddd01d0878"
      },
      "source": [
        "fig, ax = plt.subplots(1,3, figsize = (15,10))\n",
        "sns.scatterplot(x=train_aggregated['avg_purchases_lag3'], y=train_aggregated['target'],ax = ax[0])\n",
        "sns.scatterplot(x=train_aggregated['avg_purchases_lag6'], y=train_aggregated['target'],ax = ax[1])\n",
        "sns.scatterplot(x=train_aggregated['avg_purchases_lag12'], y=train_aggregated['target'],ax = ax[2])\n",
        "plt.suptitle(' Average Sales lag against loyalty scores', fontsize = 20)\n",
        "plt.show()"
      ],
      "execution_count": 106,
      "outputs": [
        {
          "output_type": "display_data",
          "data": {
            "image/png": "[encoded data removed]",
            "text/plain": [
              "<Figure size 1080x720 with 3 Axes>"
            ]
          },
          "metadata": {
            "tags": [],
            "needs_background": "light"
          }
        }
      ]
    },
    {
      "cell_type": "code",
      "metadata": {
        "colab": {
          "base_uri": "https://localhost:8080/",
          "height": 630
        },
        "id": "8kn67-_v3NkO",
        "outputId": "4b45b4b4-f18d-4bdb-bbbf-c7d91314d8b6"
      },
      "source": [
        "plt.figure(figsize=(15,10))\n",
        "sns.scatterplot(x=\"authorized_flag\", y='target', data=train_aggregated)\n",
        "plt.xticks(rotation='vertical')\n",
        "plt.xlabel('Authorized flag', fontsize=12)\n",
        "plt.ylabel('Loyalty score', fontsize=12)\n",
        "plt.title(\"Authorized flag  scatterplot plot distribution against loyality score \")\n",
        "plt.show()"
      ],
      "execution_count": 72,
      "outputs": [
        {
          "output_type": "display_data",
          "data": {
            "image/png": "[encoded data removed]",
            "text/plain": [
              "<Figure size 1080x720 with 1 Axes>"
            ]
          },
          "metadata": {
            "tags": [],
            "needs_background": "light"
          }
        }
      ]
    },
    {
      "cell_type": "code",
      "metadata": {
        "id": "HrKBZ2jM57wv"
      },
      "source": [
        ""
      ],
      "execution_count": null,
      "outputs": []
    }
  ]
}